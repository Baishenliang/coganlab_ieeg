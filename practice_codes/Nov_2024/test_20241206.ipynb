{
 "cells": [
  {
   "cell_type": "markdown",
   "id": "4f4008472c337391",
   "metadata": {},
   "source": [
    "## Testing script before batching"
   ]
  },
  {
   "cell_type": "code",
   "execution_count": 1,
   "id": "initial_id",
   "metadata": {
    "ExecuteTime": {
     "end_time": "2024-12-08T22:50:27.823572Z",
     "start_time": "2024-12-08T22:50:27.815061Z"
    },
    "collapsed": true
   },
   "outputs": [],
   "source": [
    "import os\n",
    "HOME = os.path.expanduser(\"~\")\n",
    "LAB_root = os.path.join(HOME, \"Box\", \"CoganLab\")\n",
    "subj='D0063'"
   ]
  },
  {
   "cell_type": "code",
   "execution_count": null,
   "id": "3f36cf5f3835185c",
   "metadata": {
    "ExecuteTime": {
     "end_time": "2024-12-08T22:50:28.229828Z",
     "start_time": "2024-12-08T22:50:27.831580Z"
    }
   },
   "outputs": [],
   "source": [
    "from bsliang_utils import get_unused_chs\n",
    "BIDS_loc = os.path.join(LAB_root, \"BIDS-1.0_LexicalDecRepDelay\",\"BIDS\",f\"sub-{subj}\",\"ieeg\")\n",
    "eeg_chs = get_unused_chs(BIDS_loc)\n",
    "if eeg_chs:\n",
    "    print(1)"
   ]
  },
  {
   "cell_type": "code",
   "execution_count": null,
   "id": "04ae9f87",
   "metadata": {
    "ExecuteTime": {
     "end_time": "2024-12-08T22:44:18.181131Z",
     "start_time": "2024-12-08T22:44:18.155622Z"
    }
   },
   "outputs": [],
   "source": [
    "from bsliang_utils import detect_outlier\n",
    "derivative_loc = os.path.join(LAB_root, \"BIDS-1.0_LexicalDecRepDelay\",\"BIDS\",\"derivatives\",\"a\",f\"sub-{subj}\",\"ieeg\")\n",
    "is_outlier = detect_outlier(subj,derivative_loc)\n",
    "if is_outlier == 1:\n",
    "    raise ValueError(\n",
    "        f\"Outlier channels for the {subj} have been removed. Skip outlier channels removal now. \"\n",
    "        \"If you want to re-do it, mark all the channels in the derivative as good and n/a for status first.\"\n",
    "    )\n",
    "else:\n",
    "    1\n",
    "    "
   ]
  },
  {
   "cell_type": "code",
   "execution_count": 2,
   "id": "9da39e9b",
   "metadata": {},
   "outputs": [],
   "source": [
    "from bsliang_utils import load_muscle_chs\n",
    "muscle_chs=load_muscle_chs(subj)"
   ]
  }
 ],
 "metadata": {
  "kernelspec": {
   "display_name": "ieeg",
   "language": "python",
   "name": "python3"
  },
  "language_info": {
   "codemirror_mode": {
    "name": "ipython",
    "version": 3
   },
   "file_extension": ".py",
   "mimetype": "text/x-python",
   "name": "python",
   "nbconvert_exporter": "python",
   "pygments_lexer": "ipython3",
   "version": "3.10.0"
  }
 },
 "nbformat": 4,
 "nbformat_minor": 5
}
