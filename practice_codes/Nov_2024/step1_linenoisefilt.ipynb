{
 "cells": [
  {
   "cell_type": "markdown",
   "id": "47c4e2444f3b1016",
   "metadata": {},
   "source": [
    "### Read the script"
   ]
  },
  {
   "cell_type": "code",
   "id": "ef036aa96a64b090",
   "metadata": {
    "ExecuteTime": {
     "end_time": "2025-01-06T17:06:12.436678Z",
     "start_time": "2025-01-06T17:06:09.555470Z"
    }
   },
   "source": [
    "import os\n",
    "import mne\n",
    "from ieeg.navigate import crop_empty_data\n",
    "from ieeg.io import get_data, raw_from_layout, save_derivative, update"
   ],
   "outputs": [],
   "execution_count": 1
  },
  {
   "cell_type": "code",
   "id": "1b9f6efefc8a611a",
   "metadata": {
    "ExecuteTime": {
     "end_time": "2025-01-06T17:57:50.430075Z",
     "start_time": "2025-01-06T17:57:39.948759Z"
    }
   },
   "source": [
    "HOME = os.path.expanduser(\"~\")\n",
    "LAB_root = os.path.join(HOME, \"Box\", \"CoganLab\")\n",
    "layout = get_data(\"LexicalDecRepDelay\", root=LAB_root)\n",
    "subjects = layout.get(return_type=\"id\", target=\"subject\")"
   ],
   "outputs": [],
   "execution_count": 11
  },
  {
   "cell_type": "code",
   "id": "76ee79adeb014357",
   "metadata": {
    "ExecuteTime": {
     "end_time": "2025-01-06T17:57:50.438181Z",
     "start_time": "2025-01-06T17:57:50.435125Z"
    }
   },
   "source": [
    "subject = 'D0026'\n",
    "# subject_Tag = 'D107B'\n",
    "# subject_Tag = 'D0070'"
   ],
   "outputs": [],
   "execution_count": 12
  },
  {
   "cell_type": "code",
   "id": "9614475a1866ebae",
   "metadata": {
    "ExecuteTime": {
     "end_time": "2025-01-06T17:58:06.637145Z",
     "start_time": "2025-01-06T17:58:05.310494Z"
    }
   },
   "source": [
    "raw = raw_from_layout(layout, subject=subject, preload=True, extension='.edf')\n",
    "print(subjects)"
   ],
   "outputs": [
    {
     "name": "stdout",
     "output_type": "stream",
     "text": [
      "Extracting EDF parameters from C:\\Users\\bl314\\Box\\CoganLab\\BIDS-1.0_LexicalDecRepDelay\\BIDS\\sub-D0026\\ieeg\\sub-D0026_task-LexicalDecRepDelay_acq-01_run-01_ieeg.edf...\n",
      "EDF file detected\n",
      "Setting channel info structure...\n",
      "Creating raw.info structure...\n",
      "Reading events from C:\\Users\\bl314\\Box\\CoganLab\\BIDS-1.0_LexicalDecRepDelay\\BIDS\\sub-D0026\\ieeg\\sub-D0026_task-LexicalDecRepDelay_acq-01_run-01_events.tsv.\n",
      "Reading channel info from C:\\Users\\bl314\\Box\\CoganLab\\BIDS-1.0_LexicalDecRepDelay\\BIDS\\sub-D0026\\ieeg\\sub-D0026_task-LexicalDecRepDelay_channels.tsv.\n",
      "Reading electrode coords from C:\\Users\\bl314\\Box\\CoganLab\\BIDS-1.0_LexicalDecRepDelay\\BIDS\\sub-D0026\\ieeg\\sub-D0026_space-ACPC_electrodes.tsv.\n",
      "Extracting EDF parameters from C:\\Users\\bl314\\Box\\CoganLab\\BIDS-1.0_LexicalDecRepDelay\\BIDS\\sub-D0026\\ieeg\\sub-D0026_task-LexicalDecRepDelay_acq-02_run-02_ieeg.edf...\n",
      "EDF file detected\n",
      "Setting channel info structure...\n",
      "Creating raw.info structure...\n",
      "Reading events from C:\\Users\\bl314\\Box\\CoganLab\\BIDS-1.0_LexicalDecRepDelay\\BIDS\\sub-D0026\\ieeg\\sub-D0026_task-LexicalDecRepDelay_acq-02_run-02_events.tsv.\n",
      "Reading channel info from C:\\Users\\bl314\\Box\\CoganLab\\BIDS-1.0_LexicalDecRepDelay\\BIDS\\sub-D0026\\ieeg\\sub-D0026_task-LexicalDecRepDelay_channels.tsv.\n",
      "Reading electrode coords from C:\\Users\\bl314\\Box\\CoganLab\\BIDS-1.0_LexicalDecRepDelay\\BIDS\\sub-D0026\\ieeg\\sub-D0026_space-ACPC_electrodes.tsv.\n",
      "Extracting EDF parameters from C:\\Users\\bl314\\Box\\CoganLab\\BIDS-1.0_LexicalDecRepDelay\\BIDS\\sub-D0026\\ieeg\\sub-D0026_task-LexicalDecRepDelay_acq-03_run-03_ieeg.edf...\n",
      "EDF file detected\n",
      "Setting channel info structure...\n",
      "Creating raw.info structure...\n"
     ]
    },
    {
     "name": "stderr",
     "output_type": "stream",
     "text": [
      "C:\\Users\\bl314\\AppData\\Local\\anaconda3\\envs\\ieeg\\Lib\\site-packages\\ieeg\\io.py:113: RuntimeWarning: The number of channels in the channels.tsv sidecar file (59) does not match the number of channels in the raw data file (1). Will not try to set channel names.\n",
      "  new_raw = read_raw_bids(bids_path=BIDS_path, verbose=verbose)\n",
      "C:\\Users\\bl314\\AppData\\Local\\anaconda3\\envs\\ieeg\\Lib\\site-packages\\ieeg\\io.py:113: RuntimeWarning: Cannot set channel type for the following channels, as they are missing in the raw data: RAST1, RAST2, RAST3, RAST4, RAT1, RAT2, RAT3, RAT4, RPG17, RPG18, RPG19, RPG20, RPG21, RPG22, RPG23, RPG24, RPG25, RPG26, RPG27, RPG28, RPG29, RPG31, RPG32, RPG33, RPG34, RPG35, RPG36, RPG37, RPG38, RPG40, RPST1, RPST2, RPST3, RPST4, RTG19, RTG20, RTG21, RTG22, RTG23, RTG24, RTG27, RTG28, RTG29, RTG30, RTG31, RTG32, RTG35, RTG36, RTG37, RTG38, RTG39, RTG40, RTG43, RTG44, RTG45, RTG46, RTG47, RTG48\n",
      "  new_raw = read_raw_bids(bids_path=BIDS_path, verbose=verbose)\n",
      "C:\\Users\\bl314\\AppData\\Local\\anaconda3\\envs\\ieeg\\Lib\\site-packages\\ieeg\\io.py:113: RuntimeWarning: The number of channels in the channels.tsv sidecar file (59) does not match the number of channels in the raw data file (1). Will not try to set channel names.\n",
      "  new_raw = read_raw_bids(bids_path=BIDS_path, verbose=verbose)\n",
      "C:\\Users\\bl314\\AppData\\Local\\anaconda3\\envs\\ieeg\\Lib\\site-packages\\ieeg\\io.py:113: RuntimeWarning: Cannot set channel type for the following channels, as they are missing in the raw data: RAST1, RAST2, RAST3, RAST4, RAT1, RAT2, RAT3, RAT4, RPG17, RPG18, RPG19, RPG20, RPG21, RPG22, RPG23, RPG24, RPG25, RPG26, RPG27, RPG28, RPG29, RPG31, RPG32, RPG33, RPG34, RPG35, RPG36, RPG37, RPG38, RPG40, RPST1, RPST2, RPST3, RPST4, RTG19, RTG20, RTG21, RTG22, RTG23, RTG24, RTG27, RTG28, RTG29, RTG30, RTG31, RTG32, RTG35, RTG36, RTG37, RTG38, RTG39, RTG40, RTG43, RTG44, RTG45, RTG46, RTG47, RTG48\n",
      "  new_raw = read_raw_bids(bids_path=BIDS_path, verbose=verbose)\n"
     ]
    },
    {
     "name": "stdout",
     "output_type": "stream",
     "text": [
      "Reading events from C:\\Users\\bl314\\Box\\CoganLab\\BIDS-1.0_LexicalDecRepDelay\\BIDS\\sub-D0026\\ieeg\\sub-D0026_task-LexicalDecRepDelay_acq-03_run-03_events.tsv.\n",
      "Reading channel info from C:\\Users\\bl314\\Box\\CoganLab\\BIDS-1.0_LexicalDecRepDelay\\BIDS\\sub-D0026\\ieeg\\sub-D0026_task-LexicalDecRepDelay_channels.tsv.\n",
      "Reading electrode coords from C:\\Users\\bl314\\Box\\CoganLab\\BIDS-1.0_LexicalDecRepDelay\\BIDS\\sub-D0026\\ieeg\\sub-D0026_space-ACPC_electrodes.tsv.\n",
      "Extracting EDF parameters from C:\\Users\\bl314\\Box\\CoganLab\\BIDS-1.0_LexicalDecRepDelay\\BIDS\\sub-D0026\\ieeg\\sub-D0026_task-LexicalDecRepDelay_acq-04_run-04_ieeg.edf...\n",
      "EDF file detected\n",
      "Setting channel info structure...\n",
      "Creating raw.info structure...\n",
      "Reading events from C:\\Users\\bl314\\Box\\CoganLab\\BIDS-1.0_LexicalDecRepDelay\\BIDS\\sub-D0026\\ieeg\\sub-D0026_task-LexicalDecRepDelay_acq-04_run-04_events.tsv.\n",
      "Reading channel info from C:\\Users\\bl314\\Box\\CoganLab\\BIDS-1.0_LexicalDecRepDelay\\BIDS\\sub-D0026\\ieeg\\sub-D0026_task-LexicalDecRepDelay_channels.tsv.\n",
      "Reading electrode coords from C:\\Users\\bl314\\Box\\CoganLab\\BIDS-1.0_LexicalDecRepDelay\\BIDS\\sub-D0026\\ieeg\\sub-D0026_space-ACPC_electrodes.tsv.\n"
     ]
    },
    {
     "ename": "ValueError",
     "evalue": "raws[2].info['nchan'] must match",
     "output_type": "error",
     "traceback": [
      "\u001B[1;31m---------------------------------------------------------------------------\u001B[0m",
      "\u001B[1;31mValueError\u001B[0m                                Traceback (most recent call last)",
      "Cell \u001B[1;32mIn[14], line 1\u001B[0m\n\u001B[1;32m----> 1\u001B[0m raw \u001B[38;5;241m=\u001B[39m \u001B[43mraw_from_layout\u001B[49m\u001B[43m(\u001B[49m\u001B[43mlayout\u001B[49m\u001B[43m,\u001B[49m\u001B[43m \u001B[49m\u001B[43msubject\u001B[49m\u001B[38;5;241;43m=\u001B[39;49m\u001B[43msubject\u001B[49m\u001B[43m,\u001B[49m\u001B[43m \u001B[49m\u001B[43mpreload\u001B[49m\u001B[38;5;241;43m=\u001B[39;49m\u001B[38;5;28;43;01mTrue\u001B[39;49;00m\u001B[43m,\u001B[49m\u001B[43m \u001B[49m\u001B[43mextension\u001B[49m\u001B[38;5;241;43m=\u001B[39;49m\u001B[38;5;124;43m'\u001B[39;49m\u001B[38;5;124;43m.edf\u001B[39;49m\u001B[38;5;124;43m'\u001B[39;49m\u001B[43m)\u001B[49m\n\u001B[0;32m      2\u001B[0m \u001B[38;5;28mprint\u001B[39m(subjects)\n",
      "File \u001B[1;32m~\\AppData\\Local\\anaconda3\\envs\\ieeg\\Lib\\site-packages\\ieeg\\io.py:115\u001B[0m, in \u001B[0;36mraw_from_layout\u001B[1;34m(layout, preload, run, **kwargs)\u001B[0m\n\u001B[0;32m    113\u001B[0m         new_raw \u001B[38;5;241m=\u001B[39m read_raw_bids(bids_path\u001B[38;5;241m=\u001B[39mBIDS_path, verbose\u001B[38;5;241m=\u001B[39mverbose)\n\u001B[0;32m    114\u001B[0m         raw\u001B[38;5;241m.\u001B[39mappend(new_raw\u001B[38;5;241m.\u001B[39mcopy())\n\u001B[1;32m--> 115\u001B[0m     whole_raw: mne\u001B[38;5;241m.\u001B[39mio\u001B[38;5;241m.\u001B[39mRaw \u001B[38;5;241m=\u001B[39m \u001B[43mmne\u001B[49m\u001B[38;5;241;43m.\u001B[39;49m\u001B[43mconcatenate_raws\u001B[49m\u001B[43m(\u001B[49m\u001B[43mraw\u001B[49m\u001B[43m)\u001B[49m\n\u001B[0;32m    116\u001B[0m \u001B[38;5;28;01melse\u001B[39;00m:\n\u001B[0;32m    117\u001B[0m     BIDS_path \u001B[38;5;241m=\u001B[39m bidspath_from_layout(layout, \u001B[38;5;241m*\u001B[39m\u001B[38;5;241m*\u001B[39mkwargs)\n",
      "File \u001B[1;32m<decorator-gen-255>:12\u001B[0m, in \u001B[0;36mconcatenate_raws\u001B[1;34m(raws, preload, events_list, on_mismatch, verbose)\u001B[0m\n",
      "File \u001B[1;32m~\\AppData\\Local\\anaconda3\\envs\\ieeg\\Lib\\site-packages\\mne\\io\\base.py:3055\u001B[0m, in \u001B[0;36mconcatenate_raws\u001B[1;34m(raws, preload, events_list, on_mismatch, verbose)\u001B[0m\n\u001B[0;32m   3029\u001B[0m \u001B[38;5;250m\u001B[39m\u001B[38;5;124;03m\"\"\"Concatenate `~mne.io.Raw` instances as if they were continuous.\u001B[39;00m\n\u001B[0;32m   3030\u001B[0m \n\u001B[0;32m   3031\u001B[0m \u001B[38;5;124;03m.. note:: ``raws[0]`` is modified in-place to achieve the concatenation.\u001B[39;00m\n\u001B[1;32m   (...)\u001B[0m\n\u001B[0;32m   3052\u001B[0m \u001B[38;5;124;03m    The events. Only returned if ``event_list`` is not None.\u001B[39;00m\n\u001B[0;32m   3053\u001B[0m \u001B[38;5;124;03m\"\"\"\u001B[39;00m\n\u001B[0;32m   3054\u001B[0m \u001B[38;5;28;01mfor\u001B[39;00m idx, raw \u001B[38;5;129;01min\u001B[39;00m \u001B[38;5;28menumerate\u001B[39m(raws[\u001B[38;5;241m1\u001B[39m:], start\u001B[38;5;241m=\u001B[39m\u001B[38;5;241m1\u001B[39m):\n\u001B[1;32m-> 3055\u001B[0m     \u001B[43m_ensure_infos_match\u001B[49m\u001B[43m(\u001B[49m\n\u001B[0;32m   3056\u001B[0m \u001B[43m        \u001B[49m\u001B[43minfo1\u001B[49m\u001B[38;5;241;43m=\u001B[39;49m\u001B[43mraws\u001B[49m\u001B[43m[\u001B[49m\u001B[38;5;241;43m0\u001B[39;49m\u001B[43m]\u001B[49m\u001B[38;5;241;43m.\u001B[39;49m\u001B[43minfo\u001B[49m\u001B[43m,\u001B[49m\n\u001B[0;32m   3057\u001B[0m \u001B[43m        \u001B[49m\u001B[43minfo2\u001B[49m\u001B[38;5;241;43m=\u001B[39;49m\u001B[43mraw\u001B[49m\u001B[38;5;241;43m.\u001B[39;49m\u001B[43minfo\u001B[49m\u001B[43m,\u001B[49m\n\u001B[0;32m   3058\u001B[0m \u001B[43m        \u001B[49m\u001B[43mname\u001B[49m\u001B[38;5;241;43m=\u001B[39;49m\u001B[38;5;124;43mf\u001B[39;49m\u001B[38;5;124;43m\"\u001B[39;49m\u001B[38;5;124;43mraws[\u001B[39;49m\u001B[38;5;132;43;01m{\u001B[39;49;00m\u001B[43midx\u001B[49m\u001B[38;5;132;43;01m}\u001B[39;49;00m\u001B[38;5;124;43m]\u001B[39;49m\u001B[38;5;124;43m\"\u001B[39;49m\u001B[43m,\u001B[49m\n\u001B[0;32m   3059\u001B[0m \u001B[43m        \u001B[49m\u001B[43mon_mismatch\u001B[49m\u001B[38;5;241;43m=\u001B[39;49m\u001B[43mon_mismatch\u001B[49m\u001B[43m,\u001B[49m\n\u001B[0;32m   3060\u001B[0m \u001B[43m    \u001B[49m\u001B[43m)\u001B[49m\n\u001B[0;32m   3062\u001B[0m \u001B[38;5;28;01mif\u001B[39;00m events_list \u001B[38;5;129;01mis\u001B[39;00m \u001B[38;5;129;01mnot\u001B[39;00m \u001B[38;5;28;01mNone\u001B[39;00m:\n\u001B[0;32m   3063\u001B[0m     \u001B[38;5;28;01mif\u001B[39;00m \u001B[38;5;28mlen\u001B[39m(events_list) \u001B[38;5;241m!=\u001B[39m \u001B[38;5;28mlen\u001B[39m(raws):\n",
      "File \u001B[1;32m~\\AppData\\Local\\anaconda3\\envs\\ieeg\\Lib\\site-packages\\mne\\_fiff\\meas_info.py:3645\u001B[0m, in \u001B[0;36m_ensure_infos_match\u001B[1;34m(info1, info2, name, on_mismatch)\u001B[0m\n\u001B[0;32m   3642\u001B[0m info2\u001B[38;5;241m.\u001B[39m_check_consistency()\n\u001B[0;32m   3644\u001B[0m \u001B[38;5;28;01mif\u001B[39;00m info1[\u001B[38;5;124m\"\u001B[39m\u001B[38;5;124mnchan\u001B[39m\u001B[38;5;124m\"\u001B[39m] \u001B[38;5;241m!=\u001B[39m info2[\u001B[38;5;124m\"\u001B[39m\u001B[38;5;124mnchan\u001B[39m\u001B[38;5;124m\"\u001B[39m]:\n\u001B[1;32m-> 3645\u001B[0m     \u001B[38;5;28;01mraise\u001B[39;00m \u001B[38;5;167;01mValueError\u001B[39;00m(\u001B[38;5;124mf\u001B[39m\u001B[38;5;124m\"\u001B[39m\u001B[38;5;132;01m{\u001B[39;00mname\u001B[38;5;132;01m}\u001B[39;00m\u001B[38;5;124m.info[\u001B[39m\u001B[38;5;124m'\u001B[39m\u001B[38;5;124mnchan\u001B[39m\u001B[38;5;124m'\u001B[39m\u001B[38;5;124m] must match\u001B[39m\u001B[38;5;124m\"\u001B[39m)\n\u001B[0;32m   3646\u001B[0m \u001B[38;5;28;01mif\u001B[39;00m \u001B[38;5;28mset\u001B[39m(info1[\u001B[38;5;124m\"\u001B[39m\u001B[38;5;124mbads\u001B[39m\u001B[38;5;124m\"\u001B[39m]) \u001B[38;5;241m!=\u001B[39m \u001B[38;5;28mset\u001B[39m(info2[\u001B[38;5;124m\"\u001B[39m\u001B[38;5;124mbads\u001B[39m\u001B[38;5;124m\"\u001B[39m]):\n\u001B[0;32m   3647\u001B[0m     \u001B[38;5;28;01mraise\u001B[39;00m \u001B[38;5;167;01mValueError\u001B[39;00m(\u001B[38;5;124mf\u001B[39m\u001B[38;5;124m\"\u001B[39m\u001B[38;5;132;01m{\u001B[39;00mname\u001B[38;5;132;01m}\u001B[39;00m\u001B[38;5;124m.info[\u001B[39m\u001B[38;5;124m'\u001B[39m\u001B[38;5;124mbads\u001B[39m\u001B[38;5;124m'\u001B[39m\u001B[38;5;124m] must match\u001B[39m\u001B[38;5;124m\"\u001B[39m)\n",
      "\u001B[1;31mValueError\u001B[0m: raws[2].info['nchan'] must match"
     ]
    }
   ],
   "execution_count": 14
  },
  {
   "cell_type": "markdown",
   "id": "82e15d299ed340db",
   "metadata": {},
   "source": [
    "### Linear noise filtering\n",
    "https://ieeg-pipelines.readthedocs.io/en/latest/auto_examples/plot_clean.html"
   ]
  },
  {
   "cell_type": "code",
   "id": "de4ce49299e016eb",
   "metadata": {},
   "source": [
    "from ieeg.mt_filter import line_filter"
   ],
   "outputs": [],
   "execution_count": null
  },
  {
   "cell_type": "code",
   "id": "5dc5d88bfa1c04ec",
   "metadata": {},
   "source": [
    "# n_jobs=-1 means take all the processors, n_jobs=-2 means take all - 1 processors\n",
    "# Keep all the other parameters not changed\n",
    "# %% filter data\n",
    "line_filter(raw, mt_bandwidth=10., n_jobs=-3, copy=False, verbose=10,\n",
    "            filter_length='700ms', freqs=[60], notch_widths=20)\n",
    "line_filter(raw, mt_bandwidth=10., n_jobs=-3, copy=False, verbose=10,\n",
    "            filter_length='20s', freqs=[60, 120, 180, 240],\n",
    "            notch_widths=20)"
   ],
   "outputs": [],
   "execution_count": null
  },
  {
   "cell_type": "markdown",
   "id": "fa29ccfb26f440a1",
   "metadata": {},
   "source": [
    "## Remove eeg channels\n",
    "https://ieeg-pipelines.readthedocs.io/en/latest/auto_examples/plot_spectrograms.html\n",
    "### <span style=\"color:red\">Please pay attention to the section above and see what channels do not have locations when the raw was loaded. Write them down and remove them. They are usually EEG channels</span>"
   ]
  },
  {
   "cell_type": "code",
   "id": "4b2647aa214fb076",
   "metadata": {},
   "source": [
    "# Remove EEG channels for D101\n",
    "found=1\n",
    "if subject=='D0053':\n",
    "    eeg_channels_to_exclude=[]\n",
    "elif subject=='D0054':\n",
    "    eeg_channels_to_exclude=[]\n",
    "elif subject=='D0055':\n",
    "    eeg_channels_to_exclude=[]\n",
    "elif subject=='D0057':\n",
    "    eeg_channels_to_exclude=[]\n",
    "elif subject=='D0059':\n",
    "    eeg_channels_to_exclude=[]\n",
    "elif subject=='D0063':\n",
    "    eeg_channels_to_exclude=[]\n",
    "elif subject=='D0065':\n",
    "    eeg_channels_to_exclude=[]\n",
    "elif subject=='D0066':\n",
    "    eeg_channels_to_exclude=[]\n",
    "elif subject=='D0068':\n",
    "    eeg_channels_to_exclude=[]\n",
    "elif subject=='D0069':\n",
    "    eeg_channels_to_exclude=[]\n",
    "elif subject=='D0070':\n",
    "    eeg_channels_to_exclude=[]\n",
    "elif subject=='D0071':\n",
    "    eeg_channels_to_exclude=[]\n",
    "elif subject=='D0077':\n",
    "    eeg_channels_to_exclude=[]\n",
    "elif subject=='D0079':\n",
    "    eeg_channels_to_exclude=[]\n",
    "elif subject=='D0081':\n",
    "    eeg_channels_to_exclude=[]\n",
    "elif subject=='D0094':\n",
    "    eeg_channels_to_exclude=[]\n",
    "elif subject=='D0096':\n",
    "    eeg_channels_to_exclude=[]\n",
    "elif subject=='D0101':\n",
    "    eeg_channels_to_exclude = ['Fp1', 'Fp2', 'F3','F4','C3','C4','P3','P4','F7','F8','T3','T4','T5','T6','O1','O2','Fz','Cz','Pz']\n",
    "elif subject=='D0102':\n",
    "    eeg_channels_to_exclude = ['T5', 'T6', 'FZ', 'CZ', 'PZ', 'FP1', 'FP2', 'F3', 'F4', 'C3', 'C4', 'P3', 'P4', 'O1', '02', 'F7', 'F8', 'T3', 'T4']\n",
    "elif subject=='D0103':\n",
    "    eeg_channels_to_exclude = ['FZ', 'CZ', 'PZ', 'F7', 'F8', 'T5', 'T6', 'FP1', 'FP2', 'F3', 'F4', 'C3', 'C4', 'P3', 'P4', 'O1', 'O2', 'T3', 'T4']\n",
    "elif subject=='D0107':\n",
    "    eeg_channels_to_exclude=[]\n",
    "else:\n",
    "    print(\"Subject not found, please check.\")\n",
    "    found=0\n",
    "    \n",
    "if found and eeg_channels_to_exclude:\n",
    "    raw.drop_channels(eeg_channels_to_exclude)\n",
    "#raw.load_data()"
   ],
   "outputs": [],
   "execution_count": null
  },
  {
   "cell_type": "markdown",
   "id": "43e191a987abc314",
   "metadata": {},
   "source": [
    "## Save files\n"
   ]
  },
  {
   "cell_type": "code",
   "id": "38b3f11deabeabab",
   "metadata": {},
   "source": [
    "# Check if derivatives folder exists and create if not\n",
    "raw1 = crop_empty_data(raw)\n",
    "del raw\n",
    "raw=raw1\n",
    "bids_root='C:\\\\Users\\\\bl314\\\\Box\\\\CoganLab\\\\BIDS-1.0_LexicalDecRepDelay\\\\BIDS'\n",
    "if not os.path.exists(os.path.join(bids_root, \"derivatives\")):\n",
    "    os.mkdir(os.path.join(bids_root, \"derivatives\"))\n",
    "    os.mkdir(os.path.join(bids_root, \"derivatives\", \"a\"))\n",
    "elif not os.path.exists(os.path.join(bids_root, \"derivatives\", \"a\")):\n",
    "    os.mkdir(os.path.join(bids_root, \"derivatives\", \"a\"))\n",
    "save_derivative(raw, layout, \"a\", True)"
   ],
   "outputs": [],
   "execution_count": null
  },
  {
   "cell_type": "markdown",
   "id": "9bf878bc9cfc65be",
   "metadata": {},
   "source": [
    "## Mark and update outlier channels"
   ]
  },
  {
   "cell_type": "code",
   "id": "799c047e24f51d0d",
   "metadata": {},
   "source": [
    "# load data\n",
    "del raw\n",
    "layout = get_data(\"LexicalDecRepDelay\", root=LAB_root)\n",
    "raw = raw_from_layout(layout.derivatives['derivatives/a'], subject=subject, desc='a',extension='.edf',preload=True)"
   ],
   "outputs": [],
   "execution_count": null
  },
  {
   "cell_type": "code",
   "id": "5736ecc1833058d8",
   "metadata": {},
   "source": [
    "from ieeg.navigate import channel_outlier_marker\n",
    "# mark channel outliers as bad\n",
    "raw.info['bads'] = channel_outlier_marker(raw, 3, 2)\n",
    "update(raw, layout, \"outlier\")\n",
    "#raw.load_data()"
   ],
   "outputs": [],
   "execution_count": null
  }
 ],
 "metadata": {
  "kernelspec": {
   "display_name": "ieeg",
   "language": "python",
   "name": "python3"
  },
  "language_info": {
   "codemirror_mode": {
    "name": "ipython",
    "version": 3
   },
   "file_extension": ".py",
   "mimetype": "text/x-python",
   "name": "python",
   "nbconvert_exporter": "python",
   "pygments_lexer": "ipython3",
   "version": "3.12.5"
  }
 },
 "nbformat": 4,
 "nbformat_minor": 5
}
