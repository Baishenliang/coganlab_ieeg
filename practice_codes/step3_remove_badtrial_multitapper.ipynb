{
 "cells": [
  {
   "cell_type": "markdown",
   "id": "4b7336d5d3cc9265",
   "metadata": {},
   "source": [
    "### Remove bad trials and plot spectrogram\n",
    "https://ieeg-pipelines.readthedocs.io/en/latest/auto_examples/plot_spectrograms_wavelet.html"
   ]
  },
  {
   "cell_type": "code",
   "id": "6dc858af0150cca2",
   "metadata": {},
   "source": [
    "import os\n",
    "import numpy as np\n",
    "import mne\n",
    "import matplotlib.pyplot as plt\n",
    "import matplotlib.gridspec as gridspec\n",
    "from ieeg.io import get_data, raw_from_layout\n",
    "from ieeg.navigate import trial_ieeg, outliers_to_nan\n",
    "from ieeg.calc.scaling import rescale\n",
    "from ieeg.timefreq.utils import crop_pad\n",
    "save_dir='C:\\\\Users\\\\bl314\\\\Box\\\\CoganLab\\\\IndividualMeetings\\\\Baishen\\\\ieeg_results\\\\lexical_delay'"
   ],
   "outputs": [],
   "execution_count": null
  },
  {
   "cell_type": "code",
   "id": "1edfe2439b1bbd33",
   "metadata": {},
   "source": [
    "HOME = os.path.expanduser(\"~\")\n",
    "LAB_root = os.path.join(HOME, \"Box\", \"CoganLab\")\n",
    "layout = get_data(\"LexicalDecRepDelay\", root=LAB_root)\n",
    "subjects = layout.get(return_type=\"id\", target=\"subject\")\n",
    "subject = subjects[1]\n",
    "subject_Tag = 'D103'"
   ],
   "outputs": [],
   "execution_count": null
  },
  {
   "cell_type": "code",
   "id": "d65564ee53c22402",
   "metadata": {},
   "source": [
    "raw = raw_from_layout(layout.derivatives['derivatives/cleanbchrm'], subject=subject, desc='cleanbchrm',extension='.edf',preload=False)"
   ],
   "outputs": [],
   "execution_count": null
  },
  {
   "cell_type": "code",
   "id": "4d6f43e106b29a9e",
   "metadata": {},
   "source": [
    "# Epoches: https://mne.tools/stable/generated/mne.Epochs.html#mne.Epochs.__getitem__\n",
    "for task, task_Tag in zip(('Repeat','Yes_No'),('Rep','YN')):\n",
    "    for lex, lex_Tax in zip(('Word','Nonword'),('Word','Nonword')):\n",
    "        for epoch, t, tag in zip(\n",
    "                        ('Auditory_stim/'+task+'/'+lex+'/CORRECT','Delay/'+task+'/'+lex+'/CORRECT','Resp/'+task+'/'+lex+'/CORRECT'),\n",
    "                        ((-0.5, 1.5),(-0.5, 1.5),(-0.5, 1)),\n",
    "                        ('Auditory-'+task_Tag+'-'+lex_Tax,'Delay-'+task_Tag+'-'+lex_Tax,'Resp-'+task_Tag+'-'+lex_Tax)\n",
    "        ):\n",
    "            \n",
    "            # Add time point for timefrequency and crop it\n",
    "            t1 = t[0] - 0.5\n",
    "            t2 = t[1] + 0.5\n",
    "            times = (t1, t2)\n",
    "            trials = trial_ieeg(raw, epoch, times, preload=True)\n",
    "            # eeg file is big. If try load multiple subjects. \n",
    "            # pointing\n",
    "            \n",
    "            # remove bad channels\n",
    "            outliers_to_nan(trials, outliers=10)\n",
    "            #Learned from Aaron's sentence rep\n",
    "            #https://github.com/coganlab/SentenceRep_analysis/blob/main/analysis/check/multitaper_spec.py\n",
    "            \n",
    "            # Multitaper wavelet timefreq\n",
    "            #freq = np.arange(10, 200., 6.)\n",
    "            #spectra = spectrogram(raw, freq, 'Auditory_stim', -1.2, 1.2, 'Cue', -0.5, 0,\n",
    "            #                      n_jobs=-3, verbose=10, time_bandwidth=10, n_cycles=freq/2)\n",
    "            # verbose: extra messages\n",
    "            # https://mne.tools/dev/generated/mne.verbose.html#mne.verbose\n",
    "            #spectra = spectrogram(trials, baseline=baselines, freqs=freq, n_jobs=-3, time_bandwidth=10, n_cycles=freq/2)\n",
    "            # https://mne.tools/dev/generated/mne.time_frequency.tfr_array_multitaper.html (Notes)\n",
    "            #crop_pad(spectra, \"0.5s\")\n",
    "            freq = np.linspace(0.5, 200, num=80)\n",
    "            kwargs = dict(average=False, n_jobs=-3, freqs=freq, return_itc=False,\n",
    "                          n_cycles=freq/2, time_bandwidth=4,\n",
    "                          # n_fft=int(trials.info['sfreq'] * 2.75),\n",
    "                          decim=20, )\n",
    "                          # adaptive=True)\n",
    "            spectra = trials.compute_tfr(method=\"multitaper\",  **kwargs)\n",
    "            crop_pad(spectra, \"0.5s\") # cut the first and final 0.5s, change to zero\n",
    "            \n",
    "            # crop the baseline\n",
    "            if tag == 'Auditory-'+task_Tag+'-'+lex_Tax: # Have troubles\n",
    "                base = spectra.copy().crop(-0.5, 0)\n",
    "                    # Average, and do baseline correction\n",
    "                base = base.average(lambda x: np.nanmean(x, axis=0), copy=True)\n",
    "                \n",
    "            spectra = spectra.average(lambda x: np.nanmean(x, axis=0), copy=True)\n",
    "            rescale(spectra._data, base._data, mode='ratio', axis=-1)\n",
    "            \n",
    "            # Save spectrograms\n",
    "            #fnames = [os.path.relpath(f, layout.root) for f in good.filenames]\n",
    "            #spectra.info['subject_info']['files'] = tuple(fnames)\n",
    "            #spectra.info['bads'] = raw.info['bads']\n",
    "            #https://github.com/coganlab/SentenceRep_analysis/blob/main/analysis/check/multitaper_spec.py\n",
    "            if not os.path.exists(os.path.join(save_dir, subject,'multitaper')):\n",
    "                os.mkdir(os.path.join(save_dir, subject,'multitaper'))\n",
    "            filename = os.path.join(save_dir, subject,'multitaper',f'{tag}-tfr.h5')\n",
    "            mne.time_frequency.write_tfrs(filename, spectra, overwrite=True)\n",
    "            #spectra.save(os.path.join(save_dir,subject, 'Auditor-avg.fif'))\n",
    "            del spectra"
   ],
   "outputs": [],
   "execution_count": null
  }
 ],
 "metadata": {
  "kernelspec": {
   "display_name": "ieeg",
   "language": "python",
   "name": "python3"
  },
  "language_info": {
   "codemirror_mode": {
    "name": "ipython",
    "version": 3
   },
   "file_extension": ".py",
   "mimetype": "text/x-python",
   "name": "python",
   "nbconvert_exporter": "python",
   "pygments_lexer": "ipython3",
   "version": "3.12.5"
  }
 },
 "nbformat": 4,
 "nbformat_minor": 5
}
