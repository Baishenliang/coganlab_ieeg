{
 "cells": [
  {
   "metadata": {
    "ExecuteTime": {
     "end_time": "2024-12-17T20:50:45.015337Z",
     "start_time": "2024-12-17T20:50:42.441144Z"
    }
   },
   "cell_type": "code",
   "source": [
    "# %% step up\n",
    "import os\n",
    "import mne\n",
    "import numpy as np\n",
    "import matplotlib.pyplot as plt\n",
    "from ieeg.viz.mri import plot_on_average\n"
   ],
   "id": "233af47092f3a256",
   "outputs": [],
   "execution_count": 1
  },
  {
   "metadata": {
    "ExecuteTime": {
     "end_time": "2024-12-17T20:50:45.034393Z",
     "start_time": "2024-12-17T20:50:45.031516Z"
    }
   },
   "cell_type": "code",
   "source": [
    "# %% subject list\n",
    "subjs = [\"D0053\", \"D0054\", \"D0055\", \"D0057\", \"D0059\", \"D0063\", \"D0065\", \"D0066\", \"D0068\", \"D0069\", \"D0070\", \"D0071\", \"D0077\", \"D0079\", \"D0081\", \"D0094\", \"D0096\", \"D0101\", \"D0102\", \"D0103\", \"D0107\"]\n"
   ],
   "id": "59b448760b750d93",
   "outputs": [],
   "execution_count": 2
  },
  {
   "metadata": {
    "ExecuteTime": {
     "end_time": "2024-12-17T20:53:55.095006Z",
     "start_time": "2024-12-17T20:53:55.091285Z"
    }
   },
   "cell_type": "code",
   "source": [
    "# %% define condition\n",
    "stat_type='mask'\n",
    "con='Auditory'\n",
    "contrast='ave_YN_Rep'\n",
    "\n",
    "match stat_type:\n",
    "    case \"zscore\":\n",
    "        fif_read = lambda f: mne.read_epochs(f, False, preload=True)\n",
    "    case \"power\":\n",
    "        fif_read = lambda f: mne.read_epochs(f, False, preload=True)\n",
    "    case \"significance\":\n",
    "        fif_read = mne.read_evokeds\n",
    "    case \"pval\":\n",
    "        fif_read = mne.read_evokeds\n",
    "    case \"mask\":\n",
    "        fif_read = mne.read_evokeds"
   ],
   "id": "c5e455e8d9c2dc7f",
   "outputs": [],
   "execution_count": 5
  },
  {
   "metadata": {
    "ExecuteTime": {
     "end_time": "2024-12-17T20:54:06.033121Z",
     "start_time": "2024-12-17T20:53:57.779980Z"
    }
   },
   "cell_type": "code",
   "source": [
    "# %% load data\n",
    "chs = []\n",
    "data_lst = []\n",
    "for i, subject in enumerate(subjs):\n",
    "    \n",
    "    HOME = os.path.expanduser(\"~\")\n",
    "    LAB_root = os.path.join(HOME, \"Box\", \"CoganLab\")\n",
    "    bids_root = os.path.join(LAB_root,'BIDS-1.0_LexicalDecRepDelay','BIDS')\n",
    "    subj_gamma_stats_dir = os.path.join(bids_root, \"derivatives\", \"stats\", subject)\n",
    "    \n",
    "    file_dir = os.path.join(subj_gamma_stats_dir,f'{con}_{stat_type}-{contrast}.fif')\n",
    "    subj_dataset = fif_read(file_dir)\n",
    "    \n",
    "    subj_data = subj_dataset[0].data\n",
    "    subj_chs = subj_dataset[0].ch_names\n",
    "    labeled_chs = [f\"{subject} {ch}\" for ch in subj_chs]\n",
    "    \n",
    "    data_lst.append(subj_data)\n",
    "    chs.extend(labeled_chs)\n",
    "    if i == 0:\n",
    "        times = subj_dataset[0].times\n",
    "    \n",
    "data = np.concatenate(data_lst, axis=0)"
   ],
   "id": "c7a2c6e74e34afa5",
   "outputs": [
    {
     "name": "stdout",
     "output_type": "stream",
     "text": [
      "Reading C:\\Users\\bl314\\Box\\CoganLab\\BIDS-1.0_LexicalDecRepDelay\\BIDS\\derivatives\\stats\\D0053\\Auditory_mask-ave_YN_Rep.fif ...\n"
     ]
    },
    {
     "name": "stderr",
     "output_type": "stream",
     "text": [
      "C:\\Users\\bl314\\AppData\\Local\\Temp\\ipykernel_28448\\2354089046.py:12: RuntimeWarning: This filename (C:\\Users\\bl314\\Box\\CoganLab\\BIDS-1.0_LexicalDecRepDelay\\BIDS\\derivatives\\stats\\D0053\\Auditory_mask-ave_YN_Rep.fif) does not conform to MNE naming conventions. All evoked files should end with -ave.fif, -ave.fif.gz, _ave.fif or _ave.fif.gz\n",
      "  subj_dataset = fif_read(file_dir)\n"
     ]
    },
    {
     "name": "stdout",
     "output_type": "stream",
     "text": [
      "    Found the data of interest:\n",
      "        t =    -500.00 ...    2990.00 ms (No comment)\n",
      "        0 CTF compensation matrices available\n",
      "        nave = 1 - aspect type = 100\n",
      "No projector specified for this dataset. Please consider the method self.add_proj.\n",
      "No baseline correction applied\n",
      "Reading C:\\Users\\bl314\\Box\\CoganLab\\BIDS-1.0_LexicalDecRepDelay\\BIDS\\derivatives\\stats\\D0063\\Auditory_mask-ave_YN_Rep.fif ...\n"
     ]
    },
    {
     "name": "stderr",
     "output_type": "stream",
     "text": [
      "C:\\Users\\bl314\\AppData\\Local\\Temp\\ipykernel_28448\\2354089046.py:12: RuntimeWarning: This filename (C:\\Users\\bl314\\Box\\CoganLab\\BIDS-1.0_LexicalDecRepDelay\\BIDS\\derivatives\\stats\\D0063\\Auditory_mask-ave_YN_Rep.fif) does not conform to MNE naming conventions. All evoked files should end with -ave.fif, -ave.fif.gz, _ave.fif or _ave.fif.gz\n",
      "  subj_dataset = fif_read(file_dir)\n"
     ]
    },
    {
     "name": "stdout",
     "output_type": "stream",
     "text": [
      "    Found the data of interest:\n",
      "        t =    -500.00 ...    2990.00 ms (No comment)\n",
      "        0 CTF compensation matrices available\n",
      "        nave = 1 - aspect type = 100\n",
      "No projector specified for this dataset. Please consider the method self.add_proj.\n",
      "No baseline correction applied\n",
      "Reading C:\\Users\\bl314\\Box\\CoganLab\\BIDS-1.0_LexicalDecRepDelay\\BIDS\\derivatives\\stats\\D0065\\Auditory_mask-ave_YN_Rep.fif ...\n"
     ]
    },
    {
     "name": "stderr",
     "output_type": "stream",
     "text": [
      "C:\\Users\\bl314\\AppData\\Local\\Temp\\ipykernel_28448\\2354089046.py:12: RuntimeWarning: This filename (C:\\Users\\bl314\\Box\\CoganLab\\BIDS-1.0_LexicalDecRepDelay\\BIDS\\derivatives\\stats\\D0065\\Auditory_mask-ave_YN_Rep.fif) does not conform to MNE naming conventions. All evoked files should end with -ave.fif, -ave.fif.gz, _ave.fif or _ave.fif.gz\n",
      "  subj_dataset = fif_read(file_dir)\n"
     ]
    },
    {
     "name": "stdout",
     "output_type": "stream",
     "text": [
      "    Found the data of interest:\n",
      "        t =    -500.00 ...    2990.00 ms (No comment)\n",
      "        0 CTF compensation matrices available\n",
      "        nave = 1 - aspect type = 100\n",
      "No projector specified for this dataset. Please consider the method self.add_proj.\n",
      "No baseline correction applied\n",
      "Reading C:\\Users\\bl314\\Box\\CoganLab\\BIDS-1.0_LexicalDecRepDelay\\BIDS\\derivatives\\stats\\D0066\\Auditory_mask-ave_YN_Rep.fif ...\n"
     ]
    },
    {
     "name": "stderr",
     "output_type": "stream",
     "text": [
      "C:\\Users\\bl314\\AppData\\Local\\Temp\\ipykernel_28448\\2354089046.py:12: RuntimeWarning: This filename (C:\\Users\\bl314\\Box\\CoganLab\\BIDS-1.0_LexicalDecRepDelay\\BIDS\\derivatives\\stats\\D0066\\Auditory_mask-ave_YN_Rep.fif) does not conform to MNE naming conventions. All evoked files should end with -ave.fif, -ave.fif.gz, _ave.fif or _ave.fif.gz\n",
      "  subj_dataset = fif_read(file_dir)\n"
     ]
    },
    {
     "name": "stdout",
     "output_type": "stream",
     "text": [
      "    Found the data of interest:\n",
      "        t =    -500.00 ...    2990.00 ms (No comment)\n",
      "        0 CTF compensation matrices available\n",
      "        nave = 1 - aspect type = 100\n",
      "No projector specified for this dataset. Please consider the method self.add_proj.\n",
      "No baseline correction applied\n",
      "Reading C:\\Users\\bl314\\Box\\CoganLab\\BIDS-1.0_LexicalDecRepDelay\\BIDS\\derivatives\\stats\\D0070\\Auditory_mask-ave_YN_Rep.fif ...\n"
     ]
    },
    {
     "name": "stderr",
     "output_type": "stream",
     "text": [
      "C:\\Users\\bl314\\AppData\\Local\\Temp\\ipykernel_28448\\2354089046.py:12: RuntimeWarning: This filename (C:\\Users\\bl314\\Box\\CoganLab\\BIDS-1.0_LexicalDecRepDelay\\BIDS\\derivatives\\stats\\D0070\\Auditory_mask-ave_YN_Rep.fif) does not conform to MNE naming conventions. All evoked files should end with -ave.fif, -ave.fif.gz, _ave.fif or _ave.fif.gz\n",
      "  subj_dataset = fif_read(file_dir)\n"
     ]
    },
    {
     "name": "stdout",
     "output_type": "stream",
     "text": [
      "    Found the data of interest:\n",
      "        t =    -500.00 ...    2990.00 ms (No comment)\n",
      "        0 CTF compensation matrices available\n",
      "        nave = 1 - aspect type = 100\n",
      "No projector specified for this dataset. Please consider the method self.add_proj.\n",
      "No baseline correction applied\n",
      "Reading C:\\Users\\bl314\\Box\\CoganLab\\BIDS-1.0_LexicalDecRepDelay\\BIDS\\derivatives\\stats\\D0071\\Auditory_mask-ave_YN_Rep.fif ...\n"
     ]
    },
    {
     "name": "stderr",
     "output_type": "stream",
     "text": [
      "C:\\Users\\bl314\\AppData\\Local\\Temp\\ipykernel_28448\\2354089046.py:12: RuntimeWarning: This filename (C:\\Users\\bl314\\Box\\CoganLab\\BIDS-1.0_LexicalDecRepDelay\\BIDS\\derivatives\\stats\\D0071\\Auditory_mask-ave_YN_Rep.fif) does not conform to MNE naming conventions. All evoked files should end with -ave.fif, -ave.fif.gz, _ave.fif or _ave.fif.gz\n",
      "  subj_dataset = fif_read(file_dir)\n"
     ]
    },
    {
     "name": "stdout",
     "output_type": "stream",
     "text": [
      "    Found the data of interest:\n",
      "        t =    -500.00 ...    2990.00 ms (No comment)\n",
      "        0 CTF compensation matrices available\n",
      "        nave = 1 - aspect type = 100\n",
      "No projector specified for this dataset. Please consider the method self.add_proj.\n",
      "No baseline correction applied\n",
      "Reading C:\\Users\\bl314\\Box\\CoganLab\\BIDS-1.0_LexicalDecRepDelay\\BIDS\\derivatives\\stats\\D0081\\Auditory_mask-ave_YN_Rep.fif ...\n"
     ]
    },
    {
     "name": "stderr",
     "output_type": "stream",
     "text": [
      "C:\\Users\\bl314\\AppData\\Local\\Temp\\ipykernel_28448\\2354089046.py:12: RuntimeWarning: This filename (C:\\Users\\bl314\\Box\\CoganLab\\BIDS-1.0_LexicalDecRepDelay\\BIDS\\derivatives\\stats\\D0081\\Auditory_mask-ave_YN_Rep.fif) does not conform to MNE naming conventions. All evoked files should end with -ave.fif, -ave.fif.gz, _ave.fif or _ave.fif.gz\n",
      "  subj_dataset = fif_read(file_dir)\n"
     ]
    },
    {
     "name": "stdout",
     "output_type": "stream",
     "text": [
      "    Found the data of interest:\n",
      "        t =    -500.00 ...    2990.00 ms (No comment)\n",
      "        0 CTF compensation matrices available\n",
      "        nave = 1 - aspect type = 100\n",
      "No projector specified for this dataset. Please consider the method self.add_proj.\n",
      "No baseline correction applied\n",
      "Reading C:\\Users\\bl314\\Box\\CoganLab\\BIDS-1.0_LexicalDecRepDelay\\BIDS\\derivatives\\stats\\D0094\\Auditory_mask-ave_YN_Rep.fif ...\n"
     ]
    },
    {
     "name": "stderr",
     "output_type": "stream",
     "text": [
      "C:\\Users\\bl314\\AppData\\Local\\Temp\\ipykernel_28448\\2354089046.py:12: RuntimeWarning: This filename (C:\\Users\\bl314\\Box\\CoganLab\\BIDS-1.0_LexicalDecRepDelay\\BIDS\\derivatives\\stats\\D0094\\Auditory_mask-ave_YN_Rep.fif) does not conform to MNE naming conventions. All evoked files should end with -ave.fif, -ave.fif.gz, _ave.fif or _ave.fif.gz\n",
      "  subj_dataset = fif_read(file_dir)\n"
     ]
    },
    {
     "name": "stdout",
     "output_type": "stream",
     "text": [
      "    Found the data of interest:\n",
      "        t =    -500.00 ...    2990.00 ms (No comment)\n",
      "        0 CTF compensation matrices available\n",
      "        nave = 1 - aspect type = 100\n",
      "No projector specified for this dataset. Please consider the method self.add_proj.\n",
      "No baseline correction applied\n"
     ]
    }
   ],
   "execution_count": 6
  },
  {
   "metadata": {
    "ExecuteTime": {
     "end_time": "2024-12-17T20:54:07.386239Z",
     "start_time": "2024-12-17T20:54:06.135545Z"
    }
   },
   "cell_type": "code",
   "source": [
    "# %% get the onsets of the activation (an effective cluster is defined as 0.2s)\n",
    "spf = 1 / (times[1] - times[0])  # Calculate the sampling frequency\n",
    "win_len = 0.2 # in second\n",
    "win = int(win_len * spf)  # Number of samples in 0.1 seconds\n",
    "\n",
    "onsets = {}\n",
    "\n",
    "for ch_idx, ch_name in enumerate(chs):\n",
    "    ch_data = data[ch_idx]\n",
    "    found = False\n",
    "    \n",
    "    for start_idx in range(len(ch_data) - win + 1):\n",
    "        win_data = ch_data[start_idx:start_idx + win]\n",
    "        \n",
    "        if np.all(win_data == 1):\n",
    "            starting_time = times[start_idx]\n",
    "            onsets[ch_name] = starting_time\n",
    "            found = True\n",
    "            break\n",
    "    \n",
    "    if not found:\n",
    "        onsets[ch_name] = None  # No significant window found\n",
    "\n",
    "# `starting_points` now contains the starting time of significance for each channel"
   ],
   "id": "db678e0711759302",
   "outputs": [],
   "execution_count": 7
  },
  {
   "metadata": {
    "ExecuteTime": {
     "end_time": "2024-12-17T20:54:08.954646Z",
     "start_time": "2024-12-17T20:54:08.950962Z"
    }
   },
   "cell_type": "code",
   "source": [
    "# %% select channels with significant activation clusters\n",
    "data_s = []\n",
    "chs_s = []\n",
    "chs_s_idx = []\n",
    "onsets_s = []\n",
    "\n",
    "for ch_idx, ch_name in enumerate(chs):\n",
    "    if onsets[ch_name] is not None:  # Check if the channel has a valid onset\n",
    "        data_s.append(data[ch_idx])  # Add the channel data to the selected data list\n",
    "        chs_s.append(ch_name)        # Add the channel name to the selected channel names list\n",
    "        chs_s_idx.append(ch_idx)\n",
    "        onsets_s.append(onsets[ch_name])\n",
    "\n",
    "# Convert the selected data list to a numpy array\n",
    "data_s = np.array(data_s)"
   ],
   "id": "6f73b97077154041",
   "outputs": [],
   "execution_count": 8
  },
  {
   "metadata": {
    "ExecuteTime": {
     "end_time": "2024-12-17T20:54:12.364844Z",
     "start_time": "2024-12-17T20:54:12.233102Z"
    }
   },
   "cell_type": "code",
   "source": [
    "# %% do the ranking\n",
    "sorted_indices = np.argsort(np.array(onsets_s))  # Get the indices that would sort the array\n",
    "# %% rearrange the data according to sorted_indices\n",
    "data_s_sorted = data_s[sorted_indices]\n",
    "chs_s_sorted = [chs_s[i] for i in sorted_indices]\n",
    "onsets_s_sorted = [onsets_s[i] for i in sorted_indices]\n",
    "\n",
    "# %% plot the data\n",
    "\n",
    "plt.figure(figsize=(2^15, 2^15))\n",
    "fig, ax = plt.subplots()\n",
    "ax.imshow(data_s_sorted, cmap='Reds')\n",
    "\n",
    "ch_gap=20\n",
    "time_gap=50\n",
    "channel_names=chs_s_sorted[::ch_gap]\n",
    "ax.set_yticks(range(0,len(channel_names)*ch_gap,ch_gap))\n",
    "ax.set_yticklabels(channel_names)\n",
    "time_stamps=times[::time_gap]\n",
    "ax.set_xticks(range(0,len(time_stamps)*time_gap,time_gap))\n",
    "ax.set_xticklabels(time_stamps)\n",
    "try:\n",
    "    zero_time_index = np.where(times == 0)[0][0]\n",
    "    ax.axvline(x=zero_time_index, color='black', linestyle='--', linewidth=1)\n",
    "except Exception as e:\n",
    "    print('no zero time found')\n",
    "fig.savefig('try.jpg', dpi=300)\n"
   ],
   "id": "960f912fb5659e62",
   "outputs": [],
   "execution_count": 9
  },
  {
   "metadata": {
    "ExecuteTime": {
     "end_time": "2024-12-17T20:54:24.817213Z",
     "start_time": "2024-12-17T20:54:24.811711Z"
    }
   },
   "cell_type": "code",
   "source": "chs_s",
   "id": "7df01240e7455c03",
   "outputs": [
    {
     "data": {
      "text/plain": [
       "['D0063 LOF14',\n",
       " 'D0063 LMSF3',\n",
       " 'D0063 LMSF4',\n",
       " 'D0063 RAI8',\n",
       " 'D0063 RMMF11',\n",
       " 'D0065 RPIF4',\n",
       " 'D0065 RPIF7',\n",
       " 'D0065 RMMP10',\n",
       " 'D0070 LFO3',\n",
       " 'D0070 LFO4',\n",
       " 'D0070 LFAS14',\n",
       " 'D0070 LFAI9',\n",
       " 'D0070 LIA12',\n",
       " 'D0070 LIA13',\n",
       " 'D0070 LTAI9',\n",
       " 'D0070 LTAI10',\n",
       " 'D0070 RFO11',\n",
       " 'D0071 RTAM12',\n",
       " 'D0081 LFO15',\n",
       " 'D0081 LFO16',\n",
       " 'D0081 LFMS1',\n",
       " 'D0081 LFMS2',\n",
       " 'D0081 LPAS6',\n",
       " 'D0081 LPAS7',\n",
       " 'D0081 LFMM13',\n",
       " 'D0081 LPI13',\n",
       " 'D0081 LTPS5',\n",
       " 'D0094 LFAM8',\n",
       " 'D0094 LFAM9',\n",
       " 'D0094 LFAM11',\n",
       " 'D0094 LFPM10',\n",
       " 'D0094 LFPM11',\n",
       " 'D0094 LFPM12',\n",
       " 'D0094 LPAM8']"
      ]
     },
     "execution_count": 10,
     "metadata": {},
     "output_type": "execute_result"
    }
   ],
   "execution_count": 10
  },
  {
   "metadata": {
    "ExecuteTime": {
     "end_time": "2024-12-17T20:54:28.899791Z",
     "start_time": "2024-12-17T20:54:27.522257Z"
    }
   },
   "cell_type": "code",
   "source": [
    "# %% plot the significance electrodes on the average brain\n",
    "elecols = [[1 - i/(len(chs_s_idx) - 1), 0, i/(len(chs_s_idx) - 1)] for i in range(len(chs_s_idx))]\n",
    "elecols_s = [elecols[i] for i in sorted_indices]\n",
    "fig = plot_on_average(subjs,picks=chs_s_idx,hemi='both',color=elecols_s)#, label_every=8)"
   ],
   "id": "984b44715e8b1244",
   "outputs": [
    {
     "name": "stdout",
     "output_type": "stream",
     "text": [
      "Using pyvistaqt 3d backend.\n"
     ]
    },
    {
     "name": "stderr",
     "output_type": "stream",
     "text": [
      "C:\\Users\\bl314\\AppData\\Local\\anaconda3\\envs\\ieeg\\Lib\\site-packages\\ieeg\\viz\\mri.py:796: RuntimeWarning: Fiducial point lpa not found, assuming identity RAS (non-zero origin) to head transformation\n",
      "  info.set_montage(montage)\n",
      "C:\\Users\\bl314\\AppData\\Local\\anaconda3\\envs\\ieeg\\Lib\\site-packages\\ieeg\\viz\\mri.py:796: RuntimeWarning: Fiducial point lpa not found, assuming identity RAS (non-zero origin) to head transformation\n",
      "  info.set_montage(montage)\n",
      "C:\\Users\\bl314\\AppData\\Local\\anaconda3\\envs\\ieeg\\Lib\\site-packages\\ieeg\\viz\\mri.py:796: RuntimeWarning: Fiducial point lpa not found, assuming identity RAS (non-zero origin) to head transformation\n",
      "  info.set_montage(montage)\n",
      "C:\\Users\\bl314\\AppData\\Local\\anaconda3\\envs\\ieeg\\Lib\\site-packages\\ieeg\\viz\\mri.py:796: RuntimeWarning: Fiducial point lpa not found, assuming identity RAS (non-zero origin) to head transformation\n",
      "  info.set_montage(montage)\n",
      "C:\\Users\\bl314\\AppData\\Local\\anaconda3\\envs\\ieeg\\Lib\\site-packages\\ieeg\\viz\\mri.py:796: RuntimeWarning: Fiducial point lpa not found, assuming identity RAS (non-zero origin) to head transformation\n",
      "  info.set_montage(montage)\n",
      "C:\\Users\\bl314\\AppData\\Local\\anaconda3\\envs\\ieeg\\Lib\\site-packages\\ieeg\\viz\\mri.py:796: RuntimeWarning: Fiducial point lpa not found, assuming identity RAS (non-zero origin) to head transformation\n",
      "  info.set_montage(montage)\n",
      "C:\\Users\\bl314\\AppData\\Local\\anaconda3\\envs\\ieeg\\Lib\\site-packages\\ieeg\\viz\\mri.py:796: RuntimeWarning: Fiducial point lpa not found, assuming identity RAS (non-zero origin) to head transformation\n",
      "  info.set_montage(montage)\n",
      "C:\\Users\\bl314\\AppData\\Local\\anaconda3\\envs\\ieeg\\Lib\\site-packages\\ieeg\\viz\\mri.py:796: RuntimeWarning: Fiducial point lpa not found, assuming identity RAS (non-zero origin) to head transformation\n",
      "  info.set_montage(montage)\n"
     ]
    }
   ],
   "execution_count": 11
  }
 ],
 "metadata": {
  "kernelspec": {
   "display_name": "Python 3",
   "language": "python",
   "name": "python3"
  },
  "language_info": {
   "codemirror_mode": {
    "name": "ipython",
    "version": 2
   },
   "file_extension": ".py",
   "mimetype": "text/x-python",
   "name": "python",
   "nbconvert_exporter": "python",
   "pygments_lexer": "ipython2",
   "version": "2.7.6"
  }
 },
 "nbformat": 4,
 "nbformat_minor": 5
}
