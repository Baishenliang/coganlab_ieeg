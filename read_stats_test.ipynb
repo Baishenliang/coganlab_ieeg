{
 "cells": [
  {
   "metadata": {
    "ExecuteTime": {
     "end_time": "2024-12-17T15:54:54.024818Z",
     "start_time": "2024-12-17T15:54:53.789934Z"
    }
   },
   "cell_type": "code",
   "source": [
    "# %% step up\n",
    "import os\n",
    "import mne\n",
    "import numpy as np\n"
   ],
   "id": "233af47092f3a256",
   "outputs": [],
   "execution_count": 1
  },
  {
   "metadata": {},
   "cell_type": "code",
   "outputs": [],
   "execution_count": null,
   "source": "subjs=['D0053','D0063','D0065','D0066','D0070','D0071','D0081','D0094']",
   "id": "59b448760b750d93"
  },
  {
   "metadata": {
    "ExecuteTime": {
     "end_time": "2024-12-17T16:01:43.268056Z",
     "start_time": "2024-12-17T16:01:43.264514Z"
    }
   },
   "cell_type": "code",
   "source": [
    "stat_type='pval'\n",
    "con='Auditory'\n",
    "contrast='ave'\n",
    "\n",
    "match stat_type:\n",
    "    case \"zscore\":\n",
    "        fif_read = lambda f: mne.read_epochs(f, False, preload=True)\n",
    "    case \"power\":\n",
    "        fif_read = lambda f: mne.read_epochs(f, False, preload=True)\n",
    "    case \"significance\":\n",
    "        fif_read = mne.read_evokeds\n",
    "    case \"pval\":\n",
    "        fif_read = mne.read_evokeds"
   ],
   "id": "c5e455e8d9c2dc7f",
   "outputs": [],
   "execution_count": 3
  },
  {
   "metadata": {
    "ExecuteTime": {
     "end_time": "2024-12-17T15:54:58.299382Z",
     "start_time": "2024-12-17T15:54:54.083184Z"
    }
   },
   "cell_type": "code",
   "outputs": [
    {
     "name": "stdout",
     "output_type": "stream",
     "text": [
      "Reading C:\\Users\\bl314\\Box\\CoganLab\\BIDS-1.0_LexicalDecRepDelay\\BIDS\\derivatives\\stats\\D0053\\Auditory_pval-ave.fif ...\n",
      "    Found the data of interest:\n",
      "        t =    -500.00 ...    2990.00 ms (No comment)\n",
      "        0 CTF compensation matrices available\n",
      "        nave = 1 - aspect type = 100\n",
      "No projector specified for this dataset. Please consider the method self.add_proj.\n",
      "No baseline correction applied\n"
     ]
    }
   ],
   "execution_count": 2,
   "source": [
    "data = np.array()\n",
    "data_chs\n",
    "for subject in subjs:\n",
    "    \n",
    "    HOME = os.path.expanduser(\"~\")\n",
    "    LAB_root = os.path.join(HOME, \"Box\", \"CoganLab\")\n",
    "    bids_root = os.path.join(LAB_root,'BIDS-1.0_LexicalDecRepDelay','BIDS')\n",
    "    subj_gamma_stats_dir = os.path.join(bids_root, \"derivatives\", \"stats\", subject)\n",
    "    \n",
    "    file_dir = os.path.join(subj_gamma_stats_dir,f'{con}_{stat_type}-{contrast}.fif')\n",
    "    subj_dataset = fif_read(file_dir)\n",
    "    \n",
    "    subj_data = subj_dataset[0].data\n",
    "    subj_chs = subj_dataset[0].ch_names\n",
    "    \n",
    "    "
   ],
   "id": "c7a2c6e74e34afa5"
  }
 ],
 "metadata": {
  "kernelspec": {
   "display_name": "Python 3",
   "language": "python",
   "name": "python3"
  },
  "language_info": {
   "codemirror_mode": {
    "name": "ipython",
    "version": 2
   },
   "file_extension": ".py",
   "mimetype": "text/x-python",
   "name": "python",
   "nbconvert_exporter": "python",
   "pygments_lexer": "ipython2",
   "version": "2.7.6"
  }
 },
 "nbformat": 4,
 "nbformat_minor": 5
}
