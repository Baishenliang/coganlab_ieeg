{
 "cells": [
  {
   "metadata": {},
   "cell_type": "code",
   "outputs": [],
   "execution_count": null,
   "source": [
    "# %% step up\n",
    "import os\n",
    "import mne\n",
    "\n",
    "subject = 'D0053'\n",
    "HOME = os.path.expanduser(\"~\")\n",
    "LAB_root = os.path.join(HOME, \"Box\", \"CoganLab\")\n",
    "bids_root = os.path.join(LAB_root,'BIDS-1.0_LexicalDecRepDelay','BIDS')\n",
    "subj_gamma_stats_dir = os.path.join(bids_root, \"derivatives\", \"stats\", subject)"
   ],
   "id": "233af47092f3a256"
  },
  {
   "metadata": {},
   "cell_type": "code",
   "outputs": [],
   "execution_count": null,
   "source": [
    "stat_type='pval'\n",
    "con='Auditory'\n",
    "contrast='ave'\n",
    "\n",
    "match stat_type:\n",
    "    case \"zscore\":\n",
    "        fif_read = lambda f: mne.read_epochs(f, False, preload=True)\n",
    "    case \"power\":\n",
    "        fif_read = lambda f: mne.read_epochs(f, False, preload=True)\n",
    "    case \"significance\":\n",
    "        fif_read = mne.read_evokeds\n",
    "    case \"pval\":\n",
    "        fif_read = mne.read_evokeds\n",
    "\n",
    "file_dir = os.path.join(subj_gamma_stats_dir,f'{con}_{stat_type}-{contrast}.fif')\n",
    "data = fif_read(file_dir)"
   ],
   "id": "c7a2c6e74e34afa5"
  }
 ],
 "metadata": {
  "kernelspec": {
   "display_name": "Python 3",
   "language": "python",
   "name": "python3"
  },
  "language_info": {
   "codemirror_mode": {
    "name": "ipython",
    "version": 2
   },
   "file_extension": ".py",
   "mimetype": "text/x-python",
   "name": "python",
   "nbconvert_exporter": "python",
   "pygments_lexer": "ipython2",
   "version": "2.7.6"
  }
 },
 "nbformat": 4,
 "nbformat_minor": 5
}
