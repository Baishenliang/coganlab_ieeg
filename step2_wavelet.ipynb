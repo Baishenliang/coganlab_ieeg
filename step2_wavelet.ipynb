{
 "cells": [
  {
   "cell_type": "markdown",
   "id": "93d9af99cc9066ab",
   "metadata": {},
   "source": [
    "## Read the script"
   ]
  },
  {
   "cell_type": "code",
   "id": "initial_id",
   "metadata": {
    "collapsed": true
   },
   "source": [
    "import os\n",
    "import numpy as np\n",
    "import mne\n",
    "from ieeg.io import get_data, raw_from_layout, save_derivative\n",
    "from ieeg.navigate import trial_ieeg, outliers_to_nan, channel_outlier_marker, crop_empty_data\n",
    "from ieeg.calc.scaling import rescale\n",
    "from ieeg.viz.ensemble import chan_grid\n",
    "from ieeg.timefreq.utils import crop_pad, wavelet_scaleogram\n",
    "from ieeg.viz.parula import parula_map\n",
    "save_dir='C:\\\\Users\\\\bl314\\\\Box\\\\CoganLab\\\\IndividualMeetings\\\\Baishen\\\\ieeg_results\\\\lexical_delay'"
   ],
   "outputs": [],
   "execution_count": null
  },
  {
   "cell_type": "code",
   "id": "ddab12751f7eacd0",
   "metadata": {},
   "source": [
    "HOME = os.path.expanduser(\"~\")\n",
    "LAB_root = os.path.join(HOME, \"Box\", \"CoganLab\")\n",
    "layout = get_data(\"LexicalDecRepDelay\", root=LAB_root)\n",
    "subjects = layout.get(return_type=\"id\", target=\"subject\")\n",
    "subject = 'D0063'\n",
    "\n",
    "if subject=='D0053':\n",
    "    subject_Tag = 'D53'\n",
    "elif subject=='D0054':\n",
    "    subject_Tag = 'D54'\n",
    "elif subject=='D0055':\n",
    "    subject_Tag = 'D55'\n",
    "elif subject=='D0057':\n",
    "    subject_Tag = 'D57'\n",
    "elif subject=='D0059':\n",
    "    subject_Tag = 'D59'\n",
    "elif subject=='D0063':\n",
    "    subject_Tag = 'D63'\n",
    "elif subject=='D0065':\n",
    "    subject_Tag = 'D65'\n",
    "elif subject=='D0066':\n",
    "    subject_Tag = 'D66'\n",
    "elif subject=='D0068':\n",
    "    subject_Tag = 'D68'\n",
    "elif subject=='D0069':\n",
    "    subject_Tag = 'D69'\n",
    "elif subject=='D0070':\n",
    "    subject_Tag = 'D70'\n",
    "elif subject=='D0071':\n",
    "    subject_Tag = 'D71'\n",
    "elif subject=='D0077':\n",
    "    subject_Tag = 'D77'\n",
    "elif subject=='D0079':\n",
    "    subject_Tag = 'D79'\n",
    "elif subject=='D0081':\n",
    "    subject_Tag = 'D81'\n",
    "elif subject=='D0094':\n",
    "    subject_Tag = 'D94'\n",
    "elif subject=='D0096':\n",
    "    subject_Tag = 'D96'\n",
    "elif subject=='D0101':\n",
    "    subject_Tag = 'D101'\n",
    "elif subject=='D0102':\n",
    "    subject_Tag = 'D102'\n",
    "elif subject=='D0103':\n",
    "    subject_Tag = 'D103'\n",
    "elif subject=='D0107':\n",
    "    subject_Tag = 'D107B'\n",
    "else:\n",
    "    print(\"Subject not found, please check.\")"
   ],
   "outputs": [],
   "execution_count": null
  },
  {
   "cell_type": "markdown",
   "id": "f13a9a1c09fd5015",
   "metadata": {},
   "source": [
    "## Plot subj"
   ]
  },
  {
   "cell_type": "code",
   "id": "2c1efaa3e16170ba",
   "metadata": {},
   "source": [
    "from ieeg.viz.mri import plot_subj\n",
    "# plot the subject brain\n",
    "fig1 = plot_subj(subject_Tag)\n",
    "#Label every electrode\n",
    "mne.viz.set_3d_view(fig1, azimuth=150, elevation=70, focalpoint=\"auto\",\n",
    "                    distance=\"auto\")"
   ],
   "outputs": [],
   "execution_count": null
  },
  {
   "cell_type": "markdown",
   "id": "cc5af04c9c2a086d",
   "metadata": {},
   "source": [
    "## Load subj\n",
    "### <span style=\"color:red\">Please make sure that the **event.tsv** files in the **a** derivatives do not contain **\"BAD boundary\"** lines, or remove them if they have</span>"
   ]
  },
  {
   "metadata": {
    "ExecuteTime": {
     "end_time": "2024-12-06T16:20:24.365726Z",
     "start_time": "2024-12-06T16:20:24.261202Z"
    }
   },
   "cell_type": "code",
   "source": [
    "from rm_boundary_evnts import update_tsv \n",
    "tsv_loc = os.path.join(LAB_root, 'BIDS-1.0_LexicalDecRepDelay','BIDS','derivatives','a',f'sub-{subject}','ieeg')\n",
    "update_tsv(subject,tsv_loc)"
   ],
   "id": "e032c57cf2980181",
   "outputs": [
    {
     "name": "stdout",
     "output_type": "stream",
     "text": [
      "Processed and replaced the original file: C:\\Users\\bl314\\Box\\CoganLab\\BIDS-1.0_LexicalDecRepDelay\\BIDS\\derivatives\\a\\sub-D0063\\ieeg\\sub-D0063_task-LexicalDecRepDelay_acq-01_run-01_desc-a_events.tsv\n",
      "Processed and replaced the original file: C:\\Users\\bl314\\Box\\CoganLab\\BIDS-1.0_LexicalDecRepDelay\\BIDS\\derivatives\\a\\sub-D0063\\ieeg\\sub-D0063_task-LexicalDecRepDelay_acq-01_run-02_desc-a_events.tsv\n",
      "Processed and replaced the original file: C:\\Users\\bl314\\Box\\CoganLab\\BIDS-1.0_LexicalDecRepDelay\\BIDS\\derivatives\\a\\sub-D0063\\ieeg\\sub-D0063_task-LexicalDecRepDelay_acq-01_run-03_desc-a_events.tsv\n",
      "Processed and replaced the original file: C:\\Users\\bl314\\Box\\CoganLab\\BIDS-1.0_LexicalDecRepDelay\\BIDS\\derivatives\\a\\sub-D0063\\ieeg\\sub-D0063_task-LexicalDecRepDelay_acq-01_run-04_desc-a_events.tsv\n"
     ]
    }
   ],
   "execution_count": 8
  },
  {
   "cell_type": "code",
   "id": "cb83275425bcf97f",
   "metadata": {},
   "source": [
    "raw = raw_from_layout(layout.derivatives['derivatives/a'], subject=subject, desc='a',extension='.edf',preload=True)"
   ],
   "outputs": [],
   "execution_count": null
  },
  {
   "cell_type": "markdown",
   "id": "62fafe73be4f48ac",
   "metadata": {},
   "source": [
    "## Re-referenced to the average"
   ]
  },
  {
   "cell_type": "code",
   "id": "5bdcee9902be5c1d",
   "metadata": {},
   "source": [
    "ch_type = raw.get_channel_types(only_data_chs=True)[0]\n",
    "raw.set_eeg_reference(ref_channels=\"average\", ch_type=ch_type)"
   ],
   "outputs": [],
   "execution_count": null
  },
  {
   "cell_type": "markdown",
   "id": "d2e47178f74faab8",
   "metadata": {},
   "source": [
    "## Wavelet spectrogram"
   ]
  },
  {
   "cell_type": "code",
   "id": "86980e448c6aed08",
   "metadata": {},
   "source": [
    "if not os.path.exists(os.path.join(save_dir, subject)):\n",
    "    os.mkdir(os.path.join(save_dir, subject)) \n",
    "if not os.path.exists(os.path.join(save_dir, subject,'wavelet')):\n",
    "    os.mkdir(os.path.join(save_dir, subject,'wavelet'))"
   ],
   "outputs": [],
   "execution_count": null
  },
  {
   "cell_type": "code",
   "id": "8b797b0045922aa6",
   "metadata": {},
   "source": [
    "# Wavelet is good to detect and remove muscle artifact channels\n",
    "# Also plot the subject brain\n",
    "for task, task_Tag in zip(('Repeat','Yes_No'),('Rep','YN')):\n",
    "    for epoch, t, tag in zip(\n",
    "        ('Auditory_stim/'+task+'/CORRECT','Delay/'+task+'/CORRECT','Go/'+task+'/CORRECT','Resp/'+task+'/CORRECT'),\n",
    "        ((-0.5, 1.5),(-0.5, 1.5),(-0.5, 1.5),(-0.5, 1)),\n",
    "        ('Auditory-'+task_Tag,'Delay-'+task_Tag,'Go-'+task_Tag,'Resp-'+task_Tag)\n",
    "    ):\n",
    "        \n",
    "        # Get the spectras\n",
    "        t1 = t[0] - 0.5\n",
    "        t2 = t[1] + 0.5\n",
    "        times = (t1, t2)\n",
    "        trials = trial_ieeg(raw, epoch, times, preload=True)\n",
    "        outliers_to_nan(trials, outliers=10)\n",
    "        \n",
    "        ##############################\n",
    "        ####### Wavelet ##############\n",
    "        ##############################\n",
    "        \n",
    "        spectra_wavelet = wavelet_scaleogram(trials, n_jobs=-3, decim=int(\n",
    "            raw.info['sfreq'] / 200)) # 1/10 of the timepionts, don't take too long\n",
    "        crop_pad(spectra_wavelet, \"0.5s\") # cut the first and final 0.5s, change to zero\n",
    "        \n",
    "        # Get the baseline\n",
    "        if epoch=='Auditory_stim/'+task+'/CORRECT':\n",
    "            base_wavelet = spectra_wavelet.copy().crop(-0.5, 0)\n",
    "            base_wavelet = base_wavelet.average(lambda x: np.nanmean(x, axis=0), copy=True)\n",
    "        \n",
    "        # Baseline correction\n",
    "        spectra_wavelet = spectra_wavelet.average(lambda x: np.nanmean(x, axis=0), copy=True)   \n",
    "        spectra_wavelet = rescale(spectra_wavelet, base_wavelet, copy=True, mode='ratio')\n",
    "        spectra_wavelet._data = np.log10(spectra_wavelet._data) * 20\n",
    "    \n",
    "        # Save spectras\n",
    "        filename = os.path.join(save_dir, subject,'wavelet',f'{tag}-tfr.h5')\n",
    "        mne.time_frequency.write_tfrs(filename, spectra_wavelet, overwrite=True)\n",
    "        \n",
    "        # Make spectrograms\n",
    "        chan_grids=chan_grid(spectra_wavelet, size = (20,10),vlim=(-2, 2), cmap=parula_map)\n",
    "    \n",
    "        # Save spectrograms\n",
    "        fig_count=0\n",
    "        for fig in chan_grids:\n",
    "            figdir = os.path.join(save_dir, subject,'wavelet',f'{tag}_{fig_count+1}.jpg')\n",
    "            chan_grids[fig_count].savefig(figdir,dpi=300)   \n",
    "            fig_count+=1\n",
    "            \n",
    "        # Clean memory\n",
    "        del spectra_wavelet,filename\n",
    "  \n",
    "    del base_wavelet"
   ],
   "outputs": [],
   "execution_count": null
  },
  {
   "cell_type": "code",
   "id": "c936801fd2a93d81",
   "metadata": {},
   "source": [],
   "outputs": [],
   "execution_count": null
  }
 ],
 "metadata": {
  "kernelspec": {
   "display_name": "ieeg",
   "language": "python",
   "name": "python3"
  },
  "language_info": {
   "codemirror_mode": {
    "name": "ipython",
    "version": 3
   },
   "file_extension": ".py",
   "mimetype": "text/x-python",
   "name": "python",
   "nbconvert_exporter": "python",
   "pygments_lexer": "ipython3",
   "version": "3.12.5"
  }
 },
 "nbformat": 4,
 "nbformat_minor": 5
}
