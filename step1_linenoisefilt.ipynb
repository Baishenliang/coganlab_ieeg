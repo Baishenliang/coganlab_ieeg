{
 "cells": [
  {
   "cell_type": "markdown",
   "id": "47c4e2444f3b1016",
   "metadata": {},
   "source": [
    "### Read the script"
   ]
  },
  {
   "cell_type": "code",
   "id": "ef036aa96a64b090",
   "metadata": {
    "ExecuteTime": {
     "end_time": "2024-12-02T01:55:53.707739Z",
     "start_time": "2024-12-02T01:55:50.791054Z"
    }
   },
   "source": [
    "import os\n",
    "import mne\n",
    "from ieeg.navigate import crop_empty_data\n",
    "from ieeg.io import get_data, raw_from_layout, save_derivative, update"
   ],
   "outputs": [],
   "execution_count": 1
  },
  {
   "cell_type": "code",
   "id": "1b9f6efefc8a611a",
   "metadata": {
    "ExecuteTime": {
     "end_time": "2024-12-02T01:56:00.250845Z",
     "start_time": "2024-12-02T01:55:53.720265Z"
    }
   },
   "source": [
    "HOME = os.path.expanduser(\"~\")\n",
    "LAB_root = os.path.join(HOME, \"Box\", \"CoganLab\")\n",
    "layout = get_data(\"LexicalDecRepDelay\", root=LAB_root)\n",
    "subjects = layout.get(return_type=\"id\", target=\"subject\")"
   ],
   "outputs": [],
   "execution_count": 2
  },
  {
   "cell_type": "code",
   "id": "76ee79adeb014357",
   "metadata": {
    "ExecuteTime": {
     "end_time": "2024-12-02T01:56:00.452281Z",
     "start_time": "2024-12-02T01:56:00.448291Z"
    }
   },
   "source": [
    "subject = 'D0079'\n",
    "# subject_Tag = 'D107B'\n",
    "# subject_Tag = 'D0070'"
   ],
   "outputs": [],
   "execution_count": 3
  },
  {
   "cell_type": "code",
   "id": "9614475a1866ebae",
   "metadata": {
    "ExecuteTime": {
     "end_time": "2024-12-02T01:57:49.432179Z",
     "start_time": "2024-12-02T01:56:00.475580Z"
    }
   },
   "source": [
    "raw = raw_from_layout(layout, subject=subject, preload=True, extension='.edf')\n",
    "print(subjects)"
   ],
   "outputs": [
    {
     "name": "stdout",
     "output_type": "stream",
     "text": [
      "Extracting EDF parameters from C:\\Users\\bl314\\Box\\CoganLab\\BIDS-1.0_LexicalDecRepDelay\\BIDS\\sub-D0079\\ieeg\\sub-D0079_task-LexicalDecRepDelay_acq-01_run-01_ieeg.edf...\n",
      "EDF file detected\n",
      "Setting channel info structure...\n",
      "Creating raw.info structure...\n",
      "Reading events from C:\\Users\\bl314\\Box\\CoganLab\\BIDS-1.0_LexicalDecRepDelay\\BIDS\\sub-D0079\\ieeg\\sub-D0079_task-LexicalDecRepDelay_acq-01_run-01_events.tsv.\n",
      "Reading channel info from C:\\Users\\bl314\\Box\\CoganLab\\BIDS-1.0_LexicalDecRepDelay\\BIDS\\sub-D0079\\ieeg\\sub-D0079_task-LexicalDecRepDelay_channels.tsv.\n",
      "Reading electrode coords from C:\\Users\\bl314\\Box\\CoganLab\\BIDS-1.0_LexicalDecRepDelay\\BIDS\\sub-D0079\\ieeg\\sub-D0079_space-ACPC_electrodes.tsv.\n",
      "Extracting EDF parameters from C:\\Users\\bl314\\Box\\CoganLab\\BIDS-1.0_LexicalDecRepDelay\\BIDS\\sub-D0079\\ieeg\\sub-D0079_task-LexicalDecRepDelay_acq-02_run-02_ieeg.edf...\n",
      "EDF file detected\n",
      "Setting channel info structure...\n",
      "Creating raw.info structure...\n"
     ]
    },
    {
     "name": "stderr",
     "output_type": "stream",
     "text": [
      "C:\\Users\\bl314\\AppData\\Local\\miniconda3\\envs\\ieeg\\Lib\\site-packages\\ieeg\\io.py:113: RuntimeWarning: The unit for channel(s) Trigger has changed from NA to V.\n",
      "  new_raw = read_raw_bids(bids_path=BIDS_path, verbose=verbose)\n",
      "C:\\Users\\bl314\\AppData\\Local\\miniconda3\\envs\\ieeg\\Lib\\site-packages\\ieeg\\io.py:113: RuntimeWarning: participants.tsv file not found for C:\\Users\\bl314\\Box\\CoganLab\\BIDS-1.0_LexicalDecRepDelay\\BIDS\\sub-D0079\\ieeg\\sub-D0079_task-LexicalDecRepDelay_acq-01_run-01_ieeg.edf\n",
      "  new_raw = read_raw_bids(bids_path=BIDS_path, verbose=verbose)\n"
     ]
    },
    {
     "name": "stdout",
     "output_type": "stream",
     "text": [
      "Reading events from C:\\Users\\bl314\\Box\\CoganLab\\BIDS-1.0_LexicalDecRepDelay\\BIDS\\sub-D0079\\ieeg\\sub-D0079_task-LexicalDecRepDelay_acq-02_run-02_events.tsv.\n",
      "Reading channel info from C:\\Users\\bl314\\Box\\CoganLab\\BIDS-1.0_LexicalDecRepDelay\\BIDS\\sub-D0079\\ieeg\\sub-D0079_task-LexicalDecRepDelay_channels.tsv.\n",
      "Reading electrode coords from C:\\Users\\bl314\\Box\\CoganLab\\BIDS-1.0_LexicalDecRepDelay\\BIDS\\sub-D0079\\ieeg\\sub-D0079_space-ACPC_electrodes.tsv.\n",
      "Extracting EDF parameters from C:\\Users\\bl314\\Box\\CoganLab\\BIDS-1.0_LexicalDecRepDelay\\BIDS\\sub-D0079\\ieeg\\sub-D0079_task-LexicalDecRepDelay_acq-02_run-03_ieeg.edf...\n",
      "EDF file detected\n",
      "Setting channel info structure...\n",
      "Creating raw.info structure...\n"
     ]
    },
    {
     "name": "stderr",
     "output_type": "stream",
     "text": [
      "C:\\Users\\bl314\\AppData\\Local\\miniconda3\\envs\\ieeg\\Lib\\site-packages\\ieeg\\io.py:113: RuntimeWarning: The unit for channel(s) Trigger has changed from NA to V.\n",
      "  new_raw = read_raw_bids(bids_path=BIDS_path, verbose=verbose)\n",
      "C:\\Users\\bl314\\AppData\\Local\\miniconda3\\envs\\ieeg\\Lib\\site-packages\\ieeg\\io.py:113: RuntimeWarning: participants.tsv file not found for C:\\Users\\bl314\\Box\\CoganLab\\BIDS-1.0_LexicalDecRepDelay\\BIDS\\sub-D0079\\ieeg\\sub-D0079_task-LexicalDecRepDelay_acq-02_run-02_ieeg.edf\n",
      "  new_raw = read_raw_bids(bids_path=BIDS_path, verbose=verbose)\n"
     ]
    },
    {
     "name": "stdout",
     "output_type": "stream",
     "text": [
      "Reading events from C:\\Users\\bl314\\Box\\CoganLab\\BIDS-1.0_LexicalDecRepDelay\\BIDS\\sub-D0079\\ieeg\\sub-D0079_task-LexicalDecRepDelay_acq-02_run-03_events.tsv.\n",
      "Reading channel info from C:\\Users\\bl314\\Box\\CoganLab\\BIDS-1.0_LexicalDecRepDelay\\BIDS\\sub-D0079\\ieeg\\sub-D0079_task-LexicalDecRepDelay_channels.tsv.\n",
      "Reading electrode coords from C:\\Users\\bl314\\Box\\CoganLab\\BIDS-1.0_LexicalDecRepDelay\\BIDS\\sub-D0079\\ieeg\\sub-D0079_space-ACPC_electrodes.tsv.\n",
      "Extracting EDF parameters from C:\\Users\\bl314\\Box\\CoganLab\\BIDS-1.0_LexicalDecRepDelay\\BIDS\\sub-D0079\\ieeg\\sub-D0079_task-LexicalDecRepDelay_acq-02_run-04_ieeg.edf...\n",
      "EDF file detected\n",
      "Setting channel info structure...\n",
      "Creating raw.info structure...\n"
     ]
    },
    {
     "name": "stderr",
     "output_type": "stream",
     "text": [
      "C:\\Users\\bl314\\AppData\\Local\\miniconda3\\envs\\ieeg\\Lib\\site-packages\\ieeg\\io.py:113: RuntimeWarning: The unit for channel(s) Trigger has changed from NA to V.\n",
      "  new_raw = read_raw_bids(bids_path=BIDS_path, verbose=verbose)\n",
      "C:\\Users\\bl314\\AppData\\Local\\miniconda3\\envs\\ieeg\\Lib\\site-packages\\ieeg\\io.py:113: RuntimeWarning: participants.tsv file not found for C:\\Users\\bl314\\Box\\CoganLab\\BIDS-1.0_LexicalDecRepDelay\\BIDS\\sub-D0079\\ieeg\\sub-D0079_task-LexicalDecRepDelay_acq-02_run-03_ieeg.edf\n",
      "  new_raw = read_raw_bids(bids_path=BIDS_path, verbose=verbose)\n"
     ]
    },
    {
     "name": "stdout",
     "output_type": "stream",
     "text": [
      "Reading events from C:\\Users\\bl314\\Box\\CoganLab\\BIDS-1.0_LexicalDecRepDelay\\BIDS\\sub-D0079\\ieeg\\sub-D0079_task-LexicalDecRepDelay_acq-02_run-04_events.tsv.\n",
      "Reading channel info from C:\\Users\\bl314\\Box\\CoganLab\\BIDS-1.0_LexicalDecRepDelay\\BIDS\\sub-D0079\\ieeg\\sub-D0079_task-LexicalDecRepDelay_channels.tsv.\n",
      "Reading electrode coords from C:\\Users\\bl314\\Box\\CoganLab\\BIDS-1.0_LexicalDecRepDelay\\BIDS\\sub-D0079\\ieeg\\sub-D0079_space-ACPC_electrodes.tsv.\n"
     ]
    },
    {
     "name": "stderr",
     "output_type": "stream",
     "text": [
      "C:\\Users\\bl314\\AppData\\Local\\miniconda3\\envs\\ieeg\\Lib\\site-packages\\ieeg\\io.py:113: RuntimeWarning: The unit for channel(s) Trigger has changed from NA to V.\n",
      "  new_raw = read_raw_bids(bids_path=BIDS_path, verbose=verbose)\n",
      "C:\\Users\\bl314\\AppData\\Local\\miniconda3\\envs\\ieeg\\Lib\\site-packages\\ieeg\\io.py:113: RuntimeWarning: participants.tsv file not found for C:\\Users\\bl314\\Box\\CoganLab\\BIDS-1.0_LexicalDecRepDelay\\BIDS\\sub-D0079\\ieeg\\sub-D0079_task-LexicalDecRepDelay_acq-02_run-04_ieeg.edf\n",
      "  new_raw = read_raw_bids(bids_path=BIDS_path, verbose=verbose)\n"
     ]
    },
    {
     "name": "stdout",
     "output_type": "stream",
     "text": [
      "Reading 0 ... 26062847  =      0.000 ... 12726.000 secs...\n",
      "['D0053', 'D0054', 'D0055', 'D0057', 'D0059', 'D0063', 'D0065', 'D0066', 'D0068', 'D0069', 'D0070', 'D0071', 'D0077', 'D0079', 'D0081', 'D0094', 'D0096', 'D0101', 'D0102', 'D0103', 'D0107']\n"
     ]
    }
   ],
   "execution_count": 4
  },
  {
   "cell_type": "markdown",
   "id": "82e15d299ed340db",
   "metadata": {},
   "source": [
    "### Linear noise filtering\n",
    "https://ieeg-pipelines.readthedocs.io/en/latest/auto_examples/plot_clean.html"
   ]
  },
  {
   "cell_type": "code",
   "id": "de4ce49299e016eb",
   "metadata": {
    "ExecuteTime": {
     "end_time": "2024-12-02T01:57:49.623804Z",
     "start_time": "2024-12-02T01:57:49.596634Z"
    }
   },
   "source": [
    "from ieeg.mt_filter import line_filter"
   ],
   "outputs": [],
   "execution_count": 5
  },
  {
   "cell_type": "code",
   "id": "5dc5d88bfa1c04ec",
   "metadata": {
    "jupyter": {
     "is_executing": true
    },
    "ExecuteTime": {
     "start_time": "2024-12-02T01:57:49.771137Z"
    }
   },
   "source": [
    "# n_jobs=-1 means take all the processors, n_jobs=-2 means take all - 1 processors\n",
    "# Keep all the other parameters not changed\n",
    "# %% filter data\n",
    "line_filter(raw, mt_bandwidth=10., n_jobs=-3, copy=False, verbose=10,\n",
    "            filter_length='700ms', freqs=[60], notch_widths=20)\n",
    "line_filter(raw, mt_bandwidth=10., n_jobs=-3, copy=False, verbose=10,\n",
    "            filter_length='20s', freqs=[60, 120, 180, 240],\n",
    "            notch_widths=20)"
   ],
   "outputs": [],
   "execution_count": null
  },
  {
   "cell_type": "markdown",
   "id": "fa29ccfb26f440a1",
   "metadata": {},
   "source": [
    "## Remove eeg channels\n",
    "https://ieeg-pipelines.readthedocs.io/en/latest/auto_examples/plot_spectrograms.html\n",
    "### <span style=\"color:red\">Please pay attention to the section above and see what channels do not have locations when the raw was loaded. Write them down and remove them. They are usually EEG channels</span>"
   ]
  },
  {
   "cell_type": "code",
   "id": "4b2647aa214fb076",
   "metadata": {},
   "source": [
    "# Remove EEG channels for D101\n",
    "found=1\n",
    "if subject=='D0053':\n",
    "    eeg_channels_to_exclude=[]\n",
    "elif subject=='D0054':\n",
    "    eeg_channels_to_exclude=[]\n",
    "elif subject=='D0055':\n",
    "    eeg_channels_to_exclude=[]\n",
    "elif subject=='D0057':\n",
    "    eeg_channels_to_exclude=[]\n",
    "elif subject=='D0059':\n",
    "    eeg_channels_to_exclude=[]\n",
    "elif subject=='D0063':\n",
    "    eeg_channels_to_exclude=[]\n",
    "elif subject=='D0065':\n",
    "    eeg_channels_to_exclude=[]\n",
    "elif subject=='D0066':\n",
    "    eeg_channels_to_exclude=[]\n",
    "elif subject=='D0068':\n",
    "    eeg_channels_to_exclude=[]\n",
    "elif subject=='D0069':\n",
    "    eeg_channels_to_exclude=[]\n",
    "elif subject=='D0070':\n",
    "    eeg_channels_to_exclude=[]\n",
    "elif subject=='D0071':\n",
    "    eeg_channels_to_exclude=[]\n",
    "elif subject=='D0077':\n",
    "    eeg_channels_to_exclude=[]\n",
    "elif subject=='D0079':\n",
    "    eeg_channels_to_exclude=[]\n",
    "elif subject=='D0081':\n",
    "    eeg_channels_to_exclude=[]\n",
    "elif subject=='D0094':\n",
    "    eeg_channels_to_exclude=[]\n",
    "elif subject=='D0096':\n",
    "    eeg_channels_to_exclude=[]\n",
    "elif subject=='D0101':\n",
    "    eeg_channels_to_exclude = ['Fp1', 'Fp2', 'F3','F4','C3','C4','P3','P4','F7','F8','T3','T4','T5','T6','O1','O2','Fz','Cz','Pz']\n",
    "elif subject=='D0102':\n",
    "    eeg_channels_to_exclude = ['T5', 'T6', 'FZ', 'CZ', 'PZ', 'FP1', 'FP2', 'F3', 'F4', 'C3', 'C4', 'P3', 'P4', 'O1', '02', 'F7', 'F8', 'T3', 'T4']\n",
    "elif subject=='D0103':\n",
    "    eeg_channels_to_exclude = ['FZ', 'CZ', 'PZ', 'F7', 'F8', 'T5', 'T6', 'FP1', 'FP2', 'F3', 'F4', 'C3', 'C4', 'P3', 'P4', 'O1', 'O2', 'T3', 'T4']\n",
    "elif subject=='D0107':\n",
    "    eeg_channels_to_exclude=[]\n",
    "else:\n",
    "    print(\"Subject not found, please check.\")\n",
    "    found=0\n",
    "    \n",
    "if found and eeg_channels_to_exclude:\n",
    "    raw.drop_channels(eeg_channels_to_exclude)\n",
    "#raw.load_data()"
   ],
   "outputs": [],
   "execution_count": null
  },
  {
   "cell_type": "markdown",
   "id": "43e191a987abc314",
   "metadata": {},
   "source": [
    "## Save files\n"
   ]
  },
  {
   "cell_type": "code",
   "id": "38b3f11deabeabab",
   "metadata": {},
   "source": [
    "# Check if derivatives folder exists and create if not\n",
    "bids_root='C:\\\\Users\\\\bl314\\\\Box\\\\CoganLab\\\\BIDS-1.0_LexicalDecRepDelay\\\\BIDS'\n",
    "if not os.path.exists(os.path.join(bids_root, \"derivatives\")):\n",
    "    os.mkdir(os.path.join(bids_root, \"derivatives\"))\n",
    "    os.mkdir(os.path.join(bids_root, \"derivatives\", \"a\"))\n",
    "elif not os.path.exists(os.path.join(bids_root, \"derivatives\", \"a\")):\n",
    "    os.mkdir(os.path.join(bids_root, \"derivatives\", \"a\"))\n",
    "save_derivative(raw, layout, \"a\", True)"
   ],
   "outputs": [],
   "execution_count": null
  },
  {
   "cell_type": "markdown",
   "id": "9bf878bc9cfc65be",
   "metadata": {},
   "source": [
    "## Mark and update outlier channels"
   ]
  },
  {
   "cell_type": "code",
   "id": "799c047e24f51d0d",
   "metadata": {},
   "source": [
    "# load data\n",
    "layout = get_data(\"LexicalDecRepDelay\", root=LAB_root)\n",
    "raw2 = raw_from_layout(layout.derivatives['derivatives/a'], subject=subject, desc='a',extension='.edf',preload=True)"
   ],
   "outputs": [],
   "execution_count": null
  },
  {
   "cell_type": "code",
   "id": "5736ecc1833058d8",
   "metadata": {},
   "source": [
    "from ieeg.navigate import channel_outlier_marker\n",
    "# mark channel outliers as bad\n",
    "rawsmall = crop_empty_data(raw)\n",
    "del raw\n",
    "raw2.info['bads'] = channel_outlier_marker(rawsmall, 3, 2)\n",
    "del rawsmall\n",
    "update(raw2, layout, \"outlier\")\n",
    "#raw.load_data()"
   ],
   "outputs": [],
   "execution_count": null
  }
 ],
 "metadata": {
  "kernelspec": {
   "display_name": "ieeg",
   "language": "python",
   "name": "python3"
  },
  "language_info": {
   "codemirror_mode": {
    "name": "ipython",
    "version": 3
   },
   "file_extension": ".py",
   "mimetype": "text/x-python",
   "name": "python",
   "nbconvert_exporter": "python",
   "pygments_lexer": "ipython3",
   "version": "3.12.5"
  }
 },
 "nbformat": 4,
 "nbformat_minor": 5
}
