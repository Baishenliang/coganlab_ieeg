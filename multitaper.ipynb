{
 "cells": [
  {
   "metadata": {},
   "cell_type": "markdown",
   "source": "### Read the script",
   "id": "93d9af99cc9066ab"
  },
  {
   "cell_type": "code",
   "id": "initial_id",
   "metadata": {
    "collapsed": true
   },
   "source": [
    "import os\n",
    "from ieeg.io import get_data, raw_from_layout, save_derivative\n",
    "from ieeg.navigate import crop_empty_data"
   ],
   "outputs": [],
   "execution_count": null
  },
  {
   "metadata": {},
   "cell_type": "code",
   "source": [
    "HOME = os.path.expanduser(\"~\")\n",
    "LAB_root = os.path.join(HOME, \"Box\", \"CoganLab\")\n",
    "layout = get_data(\"LexicalDecRepDelay\", root=LAB_root)\n",
    "subjects = layout.get(return_type=\"id\", target=\"subject\")\n",
    "subject = subjects[1]"
   ],
   "id": "ddab12751f7eacd0",
   "outputs": [],
   "execution_count": null
  },
  {
   "metadata": {},
   "cell_type": "code",
   "source": [
    "raw = raw_from_layout(layout.derivatives['derivatives/clean'], subject=subject, preload=False, desc='clean',extension='.edf')\n",
    "# Choose preload=False to release RAM space (but )\n",
    "raw = crop_empty_data(raw)"
   ],
   "id": "52b5e66bc1b432a5",
   "outputs": [],
   "execution_count": null
  },
  {
   "metadata": {},
   "cell_type": "markdown",
   "source": [
    "### Remove bad channels\n",
    "https://ieeg-pipelines.readthedocs.io/en/latest/auto_examples/plot_spectrograms.html\n"
   ],
   "id": "c08d79928351d52b"
  },
  {
   "metadata": {},
   "cell_type": "code",
   "source": [
    "from ieeg.viz.ensemble import chan_grid\n",
    "from ieeg.timefreq.utils import crop_pad\n",
    "from ieeg.navigate import channel_outlier_marker, crop_empty_data\n",
    "from ieeg.viz.parula import parula_map\n",
    "import numpy as np\n",
    "import mne"
   ],
   "id": "9ddb24bcba77db77",
   "outputs": [],
   "execution_count": null
  },
  {
   "metadata": {},
   "cell_type": "code",
   "source": [
    "# plot subject\n",
    "# !!!!! problems: cannot find the surface file##########\n",
    "from ieeg.viz.mri import plot_subj, plot_on_average\n",
    "# plot the subject brain\n",
    "fig1 = plot_subj('D103')\n",
    "#C:\\Users\\bl314\\Box\\ECoG_Recon\\D103\n",
    "#Label every electrode\n",
    "mne.viz.set_3d_view(fig1, azimuth=150, elevation=70, focalpoint=\"auto\",\n",
    "                    distance=\"auto\")"
   ],
   "id": "dc240702558a4ff5",
   "outputs": [],
   "execution_count": null
  },
  {
   "metadata": {},
   "cell_type": "code",
   "source": [
    "# Remove EEG channels for D101\n",
    "# eeg_channels_to_exclude = ['Fp1', 'Fp2', 'F3','F4','C3','C4','P3','P4','F7','F8','T3','T4','T5','T6','O1','O2','Fz','Cz','Pz']\n",
    "# Remove EEG channels for D103 (same)\n",
    "eeg_channels_to_exclude = ['F7', 'F8', 'T5', 'T6', 'F3', 'F4', 'C3', 'C4', 'P3', 'P4',\n",
    "                           'T3', 'T4', 'O1', 'O2']\n",
    "# Problems: !!!!!!!!!!!!!!!!!!!!!!!!!!!!!!!!!!!!!!Channel(s) Fz, Cz, Pz, Fp1, Fp2 not found, nothing dropped. But these channels exist in the sub-D0103_task-LexicalDecRepDelay_channels.tsv!!!!!!!!!!!!!!!!!!!!!!!!!!!!!!!!!!!!!!!!!!!!!!!!!!!!!!!!!\n",
    "# Remove EEG channels for D107\n",
    "\n",
    "raw.drop_channels(eeg_channels_to_exclude)\n",
    "#raw.load_data()"
   ],
   "id": "6477cb1bb3233673",
   "outputs": [],
   "execution_count": null
  },
  {
   "metadata": {},
   "cell_type": "code",
   "source": [
    "# mark channel outliers as bad\n",
    "raw.info['bads'] = channel_outlier_marker(raw, 3, 2)\n",
    "# Exclude bad channels\n",
    "raw.drop_channels(raw.info['bads'])"
   ],
   "id": "ec90f9515f69b879",
   "outputs": [],
   "execution_count": null
  },
  {
   "metadata": {},
   "cell_type": "code",
   "source": [
    "# CAR (common average reference) DONT DO THIS NOW\n",
    "# raw.set_eeg_reference(ref_channels=\"average\", ch_type='seeg')"
   ],
   "id": "446c1784652b3919",
   "outputs": [],
   "execution_count": null
  },
  {
   "metadata": {},
   "cell_type": "code",
   "source": "raw.plot()",
   "id": "b36493b707bf4cf4",
   "outputs": [],
   "execution_count": null
  },
  {
   "metadata": {},
   "cell_type": "markdown",
   "source": [
    "### Remove bad trials and plot spectrogram\n",
    "https://ieeg-pipelines.readthedocs.io/en/latest/auto_examples/plot_spectrograms_wavelet.html"
   ],
   "id": "ffa68bdaf2ba11c9"
  },
  {
   "metadata": {},
   "cell_type": "code",
   "source": "from ieeg.navigate import channel_outlier_marker, trial_ieeg,outliers_to_nan",
   "id": "e4e98806f3ffb728",
   "outputs": [],
   "execution_count": null
  },
  {
   "metadata": {},
   "cell_type": "code",
   "source": [
    "# Epoches: https://mne.tools/stable/generated/mne.Epochs.html#mne.Epochs.__getitem__\n",
    "\n",
    "epoch = 'Auditory_stim'\n",
    "#epoch = 'Delay'\n",
    "times = (-1, 2)\n",
    "trials = trial_ieeg(raw, epoch, times, preload=True)\n",
    "# eeg file is big. If try load multiple subjects. \n",
    "# pointing\n",
    "outliers_to_nan(trials, outliers=10)"
   ],
   "id": "4d04b33afbcf55e3",
   "outputs": [],
   "execution_count": null
  },
  {
   "metadata": {},
   "cell_type": "code",
   "source": [
    "# baseline = 'Cue'\n",
    "# times = [-0.6, 0]\n",
    "# baselines = trial_ieeg(raw, baseline, times, preload=True)\n",
    "# outliers_to_nan(baselines, outliers=10)"
   ],
   "id": "8311c0da76ebff61",
   "outputs": [],
   "execution_count": null
  },
  {
   "metadata": {},
   "cell_type": "markdown",
   "source": "### Multitaper spectrogram plot",
   "id": "e9812c28e0300605"
  },
  {
   "metadata": {},
   "cell_type": "markdown",
   "source": "#### Calculate Spectra",
   "id": "bcf59cdf20d8555a"
  },
  {
   "metadata": {},
   "cell_type": "code",
   "source": [
    "# Multitaper wavelet timefreq\n",
    "#freq = np.arange(10, 200., 6.)\n",
    "#spectra = spectrogram(raw, freq, 'Auditory_stim', -1.2, 1.2, 'Cue', -0.5, 0,\n",
    "#                      n_jobs=-3, verbose=10, time_bandwidth=10, n_cycles=freq/2)\n",
    "# verbose: extra messages\n",
    "# https://mne.tools/dev/generated/mne.verbose.html#mne.verbose\n",
    "#spectra = spectrogram(trials, baseline=baselines, freqs=freq, n_jobs=-3, time_bandwidth=10, n_cycles=freq/2)\n",
    "# https://mne.tools/dev/generated/mne.time_frequency.tfr_array_multitaper.html (Notes)\n",
    "#crop_pad(spectra, \"0.5s\")"
   ],
   "id": "32376a26be40a077",
   "outputs": [],
   "execution_count": null
  },
  {
   "metadata": {},
   "cell_type": "code",
   "source": [
    "#Learned from Aaron's sentence rep\n",
    "#https://github.com/coganlab/SentenceRep_analysis/blob/main/analysis/check/multitaper_spec.py\n",
    "freq = np.linspace(0.5, 200, num=80)\n",
    "kwargs = dict(average=False, n_jobs=-3, freqs=freq, return_itc=False,\n",
    "              n_cycles=freq/2, time_bandwidth=4,\n",
    "              # n_fft=int(trials.info['sfreq'] * 2.75),\n",
    "              decim=20, )\n",
    "              # adaptive=True)\n",
    "spectra = trials.compute_tfr(method=\"multitaper\",  **kwargs)\n",
    "crop_pad(spectra, \"0.5s\") # cut the first and final 0.5s, change to zero"
   ],
   "id": "e80da1abaf35bc79",
   "outputs": [],
   "execution_count": null
  },
  {
   "metadata": {},
   "cell_type": "code",
   "source": [
    "base = spectra.copy().crop(-0.5, 0)\n",
    "# base = baselines.compute_tfr(method=\"multitaper\",  **kwargs)\n",
    "# crop_pad(base, \"0.5s\")"
   ],
   "id": "fc9a023527768967",
   "outputs": [],
   "execution_count": null
  },
  {
   "metadata": {},
   "cell_type": "code",
   "source": [
    "from ieeg.calc.scaling import rescale\n",
    "# del trials, baselines\n",
    "base = base.average(lambda x: np.nanmean(x, axis=0), copy=True)\n",
    "spectra = spectra.average(lambda x: np.nanmean(x, axis=0), copy=True)\n",
    "rescale(spectra._data, base._data, mode='ratio', axis=-1)"
   ],
   "id": "735e9aa159c6c173",
   "outputs": [],
   "execution_count": null
  },
  {
   "metadata": {},
   "cell_type": "code",
   "source": [
    "#fnames = [os.path.relpath(f, layout.root) for f in good.filenames]\n",
    "#spectra.info['subject_info']['files'] = tuple(fnames)\n",
    "spectra.info['bads'] = raw.info['bads']\n",
    "save_dir='C:\\\\Users\\\\bl314\\\\Box\\\\CoganLab\\\\IndividualMeetings\\\\Baishen\\\\ieeg_results\\\\lexical_delay'\n",
    "#https://github.com/coganlab/SentenceRep_analysis/blob/main/analysis/check/multitaper_spec.py\n",
    "if not os.path.exists(os.path.join(save_dir, subject)):\n",
    "    os.mkdir(os.path.join(save_dir, subject))\n",
    "filename = os.path.join(save_dir, subject,f'{epoch}-tfr.h5')\n",
    "mne.time_frequency.write_tfrs(filename, spectra, overwrite=True)\n",
    "#spectra.save(os.path.join(save_dir,subject, 'Auditor-avg.fif'))\n"
   ],
   "id": "8166b50f16860c7c",
   "outputs": [],
   "execution_count": null
  },
  {
   "metadata": {},
   "cell_type": "markdown",
   "source": "#### Plot data",
   "id": "139f63431925e53c"
  },
  {
   "metadata": {},
   "cell_type": "code",
   "source": [
    "del spectra\n",
    "filename = os.path.join(save_dir, subject,f'{epoch}-tfr.h5')\n",
    "spectra = mne.time_frequency.read_tfrs(filename)\n"
   ],
   "id": "62a6144c73f7c46b",
   "outputs": [],
   "execution_count": null
  },
  {
   "metadata": {},
   "cell_type": "code",
   "source": [
    "chan_grid(spectra, size = (20,10),vlim=(0.7, 1.4), fmax=200, show=True, cmap=parula_map,)# yscale=\"log\")\n",
    "# MNE bsl correction does not allow"
   ],
   "id": "bd641e681fbbdad1",
   "outputs": [],
   "execution_count": null
  },
  {
   "metadata": {},
   "cell_type": "code",
   "source": "",
   "id": "daaf789bc5cfa055",
   "outputs": [],
   "execution_count": null
  }
 ],
 "metadata": {
  "kernelspec": {
   "display_name": "Python 3",
   "language": "python",
   "name": "python3"
  },
  "language_info": {
   "codemirror_mode": {
    "name": "ipython",
    "version": 2
   },
   "file_extension": ".py",
   "mimetype": "text/x-python",
   "name": "python",
   "nbconvert_exporter": "python",
   "pygments_lexer": "ipython2",
   "version": "2.7.6"
  }
 },
 "nbformat": 4,
 "nbformat_minor": 5
}
