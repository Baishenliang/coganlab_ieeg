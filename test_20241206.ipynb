{
 "cells": [
  {
   "cell_type": "markdown",
   "id": "4f4008472c337391",
   "metadata": {},
   "source": [
    "## Testing script before batching"
   ]
  },
  {
   "cell_type": "code",
   "execution_count": 9,
   "id": "initial_id",
   "metadata": {
    "ExecuteTime": {
     "end_time": "2024-12-07T03:01:44.657119Z",
     "start_time": "2024-12-07T03:01:44.642109Z"
    },
    "collapsed": true
   },
   "outputs": [],
   "source": [
    "import os\n",
    "HOME = os.path.expanduser(\"~\")\n",
    "LAB_root = os.path.join(HOME, \"Box\", \"CoganLab\")\n",
    "subj='D0054'"
   ]
  },
  {
   "cell_type": "code",
   "execution_count": null,
   "id": "3f36cf5f3835185c",
   "metadata": {
    "ExecuteTime": {
     "end_time": "2024-12-07T03:01:46.115300Z",
     "start_time": "2024-12-07T03:01:44.657119Z"
    }
   },
   "outputs": [],
   "source": [
    "from bsliang_utils import get_unused_chs\n",
    "BIDS_loc = os.path.join(LAB_root, \"BIDS-1.0_LexicalDecRepDelay\",\"BIDS\",f\"sub-{subj}\",\"ieeg\")\n",
    "eeg_chs = get_unused_chs(BIDS_loc)"
   ]
  },
  {
   "cell_type": "code",
   "execution_count": 10,
   "id": "04ae9f87",
   "metadata": {},
   "outputs": [
    {
     "ename": "ValueError",
     "evalue": "Outlier channels for the D0054 have been removed. Skip outlier channels removal now. If you want to re-do it, mark all the channels in the derivative as good and n/a for status first.",
     "output_type": "error",
     "traceback": [
      "\u001b[1;31m---------------------------------------------------------------------------\u001b[0m",
      "\u001b[1;31mValueError\u001b[0m                                Traceback (most recent call last)",
      "Cell \u001b[1;32mIn[10], line 5\u001b[0m\n\u001b[0;32m      3\u001b[0m is_outlier \u001b[38;5;241m=\u001b[39m detect_outlier(subj,derivative_loc)\n\u001b[0;32m      4\u001b[0m \u001b[38;5;28;01mif\u001b[39;00m is_outlier \u001b[38;5;241m==\u001b[39m \u001b[38;5;241m1\u001b[39m:\n\u001b[1;32m----> 5\u001b[0m     \u001b[38;5;28;01mraise\u001b[39;00m \u001b[38;5;167;01mValueError\u001b[39;00m(\n\u001b[0;32m      6\u001b[0m         \u001b[38;5;124mf\u001b[39m\u001b[38;5;124m\"\u001b[39m\u001b[38;5;124mOutlier channels for the \u001b[39m\u001b[38;5;132;01m{\u001b[39;00msubj\u001b[38;5;132;01m}\u001b[39;00m\u001b[38;5;124m have been removed. Skip outlier channels removal now. \u001b[39m\u001b[38;5;124m\"\u001b[39m\n\u001b[0;32m      7\u001b[0m         \u001b[38;5;124m\"\u001b[39m\u001b[38;5;124mIf you want to re-do it, mark all the channels in the derivative as good and n/a for status first.\u001b[39m\u001b[38;5;124m\"\u001b[39m\n\u001b[0;32m      8\u001b[0m     )\n\u001b[0;32m      9\u001b[0m \u001b[38;5;28;01melse\u001b[39;00m:\n\u001b[0;32m     10\u001b[0m     \u001b[38;5;241m1\u001b[39m\n",
      "\u001b[1;31mValueError\u001b[0m: Outlier channels for the D0054 have been removed. Skip outlier channels removal now. If you want to re-do it, mark all the channels in the derivative as good and n/a for status first."
     ]
    }
   ],
   "source": [
    "from bsliang_utils import detect_outlier\n",
    "derivative_loc = os.path.join(LAB_root, \"BIDS-1.0_LexicalDecRepDelay\",\"BIDS\",\"derivatives\",\"a\",f\"sub-{subj}\",\"ieeg\")\n",
    "is_outlier = detect_outlier(subj,derivative_loc)\n",
    "if is_outlier == 1:\n",
    "    raise ValueError(\n",
    "        f\"Outlier channels for the {subj} have been removed. Skip outlier channels removal now. \"\n",
    "        \"If you want to re-do it, mark all the channels in the derivative as good and n/a for status first.\"\n",
    "    )\n",
    "else:\n",
    "    1\n",
    "    "
   ]
  }
 ],
 "metadata": {
  "kernelspec": {
   "display_name": "ieeg",
   "language": "python",
   "name": "python3"
  },
  "language_info": {
   "codemirror_mode": {
    "name": "ipython",
    "version": 3
   },
   "file_extension": ".py",
   "mimetype": "text/x-python",
   "name": "python",
   "nbconvert_exporter": "python",
   "pygments_lexer": "ipython3",
   "version": "3.10.0"
  }
 },
 "nbformat": 4,
 "nbformat_minor": 5
}
