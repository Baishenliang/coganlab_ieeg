{
 "cells": [
  {
   "cell_type": "markdown",
   "id": "4f4008472c337391",
   "metadata": {},
   "source": [
    "## Testing script before batching"
   ]
  },
  {
   "cell_type": "code",
   "id": "initial_id",
   "metadata": {
    "collapsed": true,
    "ExecuteTime": {
     "end_time": "2024-12-08T22:50:27.823572Z",
     "start_time": "2024-12-08T22:50:27.815061Z"
    }
   },
   "source": [
    "import os\n",
    "HOME = os.path.expanduser(\"~\")\n",
    "LAB_root = os.path.join(HOME, \"Box\", \"CoganLab\")\n",
    "subj='D0077'"
   ],
   "outputs": [],
   "execution_count": 1
  },
  {
   "cell_type": "code",
   "id": "3f36cf5f3835185c",
   "metadata": {
    "ExecuteTime": {
     "end_time": "2024-12-08T22:50:28.229828Z",
     "start_time": "2024-12-08T22:50:27.831580Z"
    }
   },
   "source": [
    "from bsliang_utils import get_unused_chs\n",
    "BIDS_loc = os.path.join(LAB_root, \"BIDS-1.0_LexicalDecRepDelay\",\"BIDS\",f\"sub-{subj}\",\"ieeg\")\n",
    "eeg_chs = get_unused_chs(BIDS_loc)\n",
    "if eeg_chs:\n",
    "    print(1)"
   ],
   "outputs": [],
   "execution_count": 2
  },
  {
   "cell_type": "code",
   "id": "04ae9f87",
   "metadata": {
    "ExecuteTime": {
     "end_time": "2024-12-08T22:44:18.181131Z",
     "start_time": "2024-12-08T22:44:18.155622Z"
    }
   },
   "source": [
    "from bsliang_utils import detect_outlier\n",
    "derivative_loc = os.path.join(LAB_root, \"BIDS-1.0_LexicalDecRepDelay\",\"BIDS\",\"derivatives\",\"a\",f\"sub-{subj}\",\"ieeg\")\n",
    "is_outlier = detect_outlier(subj,derivative_loc)\n",
    "if is_outlier == 1:\n",
    "    raise ValueError(\n",
    "        f\"Outlier channels for the {subj} have been removed. Skip outlier channels removal now. \"\n",
    "        \"If you want to re-do it, mark all the channels in the derivative as good and n/a for status first.\"\n",
    "    )\n",
    "else:\n",
    "    1\n",
    "    "
   ],
   "outputs": [
    {
     "ename": "FileNotFoundError",
     "evalue": "[WinError 3] The system cannot find the path specified: 'C:\\\\Users\\\\bl314\\\\Box\\\\CoganLab\\\\BIDS-1.0_LexicalDecRepDelay\\\\BIDS\\\\derivatives\\\\a\\\\sub-D0077\\\\ieeg'",
     "output_type": "error",
     "traceback": [
      "\u001B[1;31m---------------------------------------------------------------------------\u001B[0m",
      "\u001B[1;31mFileNotFoundError\u001B[0m                         Traceback (most recent call last)",
      "Cell \u001B[1;32mIn[5], line 3\u001B[0m\n\u001B[0;32m      1\u001B[0m \u001B[38;5;28;01mfrom\u001B[39;00m \u001B[38;5;21;01mbsliang_utils\u001B[39;00m \u001B[38;5;28;01mimport\u001B[39;00m detect_outlier\n\u001B[0;32m      2\u001B[0m derivative_loc \u001B[38;5;241m=\u001B[39m os\u001B[38;5;241m.\u001B[39mpath\u001B[38;5;241m.\u001B[39mjoin(LAB_root, \u001B[38;5;124m\"\u001B[39m\u001B[38;5;124mBIDS-1.0_LexicalDecRepDelay\u001B[39m\u001B[38;5;124m\"\u001B[39m,\u001B[38;5;124m\"\u001B[39m\u001B[38;5;124mBIDS\u001B[39m\u001B[38;5;124m\"\u001B[39m,\u001B[38;5;124m\"\u001B[39m\u001B[38;5;124mderivatives\u001B[39m\u001B[38;5;124m\"\u001B[39m,\u001B[38;5;124m\"\u001B[39m\u001B[38;5;124ma\u001B[39m\u001B[38;5;124m\"\u001B[39m,\u001B[38;5;124mf\u001B[39m\u001B[38;5;124m\"\u001B[39m\u001B[38;5;124msub-\u001B[39m\u001B[38;5;132;01m{\u001B[39;00msubj\u001B[38;5;132;01m}\u001B[39;00m\u001B[38;5;124m\"\u001B[39m,\u001B[38;5;124m\"\u001B[39m\u001B[38;5;124mieeg\u001B[39m\u001B[38;5;124m\"\u001B[39m)\n\u001B[1;32m----> 3\u001B[0m is_outlier \u001B[38;5;241m=\u001B[39m \u001B[43mdetect_outlier\u001B[49m\u001B[43m(\u001B[49m\u001B[43msubj\u001B[49m\u001B[43m,\u001B[49m\u001B[43mderivative_loc\u001B[49m\u001B[43m)\u001B[49m\n\u001B[0;32m      4\u001B[0m \u001B[38;5;28;01mif\u001B[39;00m is_outlier \u001B[38;5;241m==\u001B[39m \u001B[38;5;241m1\u001B[39m:\n\u001B[0;32m      5\u001B[0m     \u001B[38;5;28;01mraise\u001B[39;00m \u001B[38;5;167;01mValueError\u001B[39;00m(\n\u001B[0;32m      6\u001B[0m         \u001B[38;5;124mf\u001B[39m\u001B[38;5;124m\"\u001B[39m\u001B[38;5;124mOutlier channels for the \u001B[39m\u001B[38;5;132;01m{\u001B[39;00msubj\u001B[38;5;132;01m}\u001B[39;00m\u001B[38;5;124m have been removed. Skip outlier channels removal now. \u001B[39m\u001B[38;5;124m\"\u001B[39m\n\u001B[0;32m      7\u001B[0m         \u001B[38;5;124m\"\u001B[39m\u001B[38;5;124mIf you want to re-do it, mark all the channels in the derivative as good and n/a for status first.\u001B[39m\u001B[38;5;124m\"\u001B[39m\n\u001B[0;32m      8\u001B[0m     )\n",
      "File \u001B[1;32mD:\\bsliang_Coganlabcode\\ieeg_processing\\bsliang_utils.py:112\u001B[0m, in \u001B[0;36mdetect_outlier\u001B[1;34m(subj, search_dir)\u001B[0m\n\u001B[0;32m    109\u001B[0m pattern \u001B[38;5;241m=\u001B[39m \u001B[38;5;124mf\u001B[39m\u001B[38;5;124m\"\u001B[39m\u001B[38;5;124msub-\u001B[39m\u001B[38;5;132;01m{\u001B[39;00msubj\u001B[38;5;132;01m}\u001B[39;00m\u001B[38;5;124m_task-LexicalDecRepDelay_acq-.+?_run-.+?_desc-a_channels.tsv\u001B[39m\u001B[38;5;124m\"\u001B[39m\n\u001B[0;32m    111\u001B[0m \u001B[38;5;66;03m# Search for all files in the specified directory that match the pattern\u001B[39;00m\n\u001B[1;32m--> 112\u001B[0m files \u001B[38;5;241m=\u001B[39m [f \u001B[38;5;28;01mfor\u001B[39;00m f \u001B[38;5;129;01min\u001B[39;00m \u001B[43mos\u001B[49m\u001B[38;5;241;43m.\u001B[39;49m\u001B[43mlistdir\u001B[49m\u001B[43m(\u001B[49m\u001B[43msearch_dir\u001B[49m\u001B[43m)\u001B[49m \u001B[38;5;28;01mif\u001B[39;00m re\u001B[38;5;241m.\u001B[39mmatch(pattern, f)]\n\u001B[0;32m    114\u001B[0m \u001B[38;5;28;01mif\u001B[39;00m \u001B[38;5;129;01mnot\u001B[39;00m files:\n\u001B[0;32m    115\u001B[0m     \u001B[38;5;28;01mraise\u001B[39;00m \u001B[38;5;167;01mValueError\u001B[39;00m(\u001B[38;5;124mf\u001B[39m\u001B[38;5;124m\"\u001B[39m\u001B[38;5;124mNo files matching the pattern found for subj \u001B[39m\u001B[38;5;132;01m{\u001B[39;00msubj\u001B[38;5;132;01m}\u001B[39;00m\u001B[38;5;124m.\u001B[39m\u001B[38;5;124m\"\u001B[39m)\n",
      "\u001B[1;31mFileNotFoundError\u001B[0m: [WinError 3] The system cannot find the path specified: 'C:\\\\Users\\\\bl314\\\\Box\\\\CoganLab\\\\BIDS-1.0_LexicalDecRepDelay\\\\BIDS\\\\derivatives\\\\a\\\\sub-D0077\\\\ieeg'"
     ]
    }
   ],
   "execution_count": 5
  }
 ],
 "metadata": {
  "kernelspec": {
   "display_name": "ieeg",
   "language": "python",
   "name": "python3"
  },
  "language_info": {
   "codemirror_mode": {
    "name": "ipython",
    "version": 3
   },
   "file_extension": ".py",
   "mimetype": "text/x-python",
   "name": "python",
   "nbconvert_exporter": "python",
   "pygments_lexer": "ipython3",
   "version": "3.10.0"
  }
 },
 "nbformat": 4,
 "nbformat_minor": 5
}
