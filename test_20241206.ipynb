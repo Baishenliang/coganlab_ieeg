{
 "cells": [
  {
   "metadata": {},
   "cell_type": "markdown",
   "source": "## Testing script before batching",
   "id": "4f4008472c337391"
  },
  {
   "cell_type": "code",
   "id": "initial_id",
   "metadata": {
    "collapsed": true,
    "ExecuteTime": {
     "end_time": "2024-12-07T03:01:44.657119Z",
     "start_time": "2024-12-07T03:01:44.642109Z"
    }
   },
   "source": [
    "import os\n",
    "HOME = os.path.expanduser(\"~\")\n",
    "LAB_root = os.path.join(HOME, \"Box\", \"CoganLab\")\n",
    "subj='D0081'"
   ],
   "outputs": [],
   "execution_count": 7
  },
  {
   "metadata": {
    "ExecuteTime": {
     "end_time": "2024-12-07T03:01:46.115300Z",
     "start_time": "2024-12-07T03:01:44.657119Z"
    }
   },
   "cell_type": "code",
   "source": [
    "from bsliang_utils import get_unused_chs\n",
    "BIDS_loc = os.path.join(LAB_root, \"BIDS-1.0_LexicalDecRepDelay\",\"BIDS\",f\"sub-{subj}\",\"ieeg\")\n",
    "eeg_chs = get_unused_chs(BIDS_loc)\n"
   ],
   "id": "3f36cf5f3835185c",
   "outputs": [],
   "execution_count": 8
  }
 ],
 "metadata": {
  "kernelspec": {
   "display_name": "Python 3",
   "language": "python",
   "name": "python3"
  },
  "language_info": {
   "codemirror_mode": {
    "name": "ipython",
    "version": 2
   },
   "file_extension": ".py",
   "mimetype": "text/x-python",
   "name": "python",
   "nbconvert_exporter": "python",
   "pygments_lexer": "ipython2",
   "version": "2.7.6"
  }
 },
 "nbformat": 4,
 "nbformat_minor": 5
}
