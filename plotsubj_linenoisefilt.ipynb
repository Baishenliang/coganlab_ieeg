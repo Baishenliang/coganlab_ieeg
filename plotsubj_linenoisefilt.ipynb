{
 "cells": [
  {
   "metadata": {},
   "cell_type": "markdown",
   "source": "### Read the script",
   "id": "47c4e2444f3b1016"
  },
  {
   "metadata": {
    "ExecuteTime": {
     "end_time": "2024-10-07T17:51:45.198364Z",
     "start_time": "2024-10-07T17:51:41.739641Z"
    }
   },
   "cell_type": "code",
   "source": [
    "import os\n",
    "import mne\n",
    "from ieeg.io import get_data, raw_from_layout, save_derivative"
   ],
   "id": "ef036aa96a64b090",
   "outputs": [],
   "execution_count": 1
  },
  {
   "metadata": {
    "ExecuteTime": {
     "end_time": "2024-10-07T17:52:22.712700Z",
     "start_time": "2024-10-07T17:51:47.802152Z"
    }
   },
   "cell_type": "code",
   "source": [
    "HOME = os.path.expanduser(\"~\")\n",
    "LAB_root = os.path.join(HOME, \"Box\", \"CoganLab\")\n",
    "layout = get_data(\"LexicalDecRepDelay\", root=LAB_root)\n",
    "subjects = layout.get(return_type=\"id\", target=\"subject\")"
   ],
   "id": "1b9f6efefc8a611a",
   "outputs": [],
   "execution_count": 2
  },
  {
   "metadata": {
    "ExecuteTime": {
     "end_time": "2024-10-07T17:54:07.681521Z",
     "start_time": "2024-10-07T17:54:07.677777Z"
    }
   },
   "cell_type": "code",
   "source": [
    "subject = subjects[0]\n",
    "# subject_Tag = 'D107B'\n",
    "subject_Tag = 'D103'"
   ],
   "id": "76ee79adeb014357",
   "outputs": [],
   "execution_count": 9
  },
  {
   "metadata": {
    "ExecuteTime": {
     "end_time": "2024-10-07T17:00:35.759664400Z",
     "start_time": "2024-10-07T16:58:19.961625Z"
    }
   },
   "cell_type": "code",
   "source": [
    "raw = raw_from_layout(layout, subject=subject, preload=False, extension='.edf')\n",
    "print(subjects)"
   ],
   "id": "9614475a1866ebae",
   "outputs": [
    {
     "name": "stdout",
     "output_type": "stream",
     "text": [
      "Extracting EDF parameters from C:\\Users\\bl314\\Box\\CoganLab\\BIDS-1.0_LexicalDecRepDelay\\BIDS\\sub-D0101\\ieeg\\sub-D0101_task-LexicalDecRepDelay_acq-01_run-01_ieeg.edf...\n",
      "EDF file detected\n",
      "Setting channel info structure...\n",
      "Creating raw.info structure...\n",
      "Reading events from C:\\Users\\bl314\\Box\\CoganLab\\BIDS-1.0_LexicalDecRepDelay\\BIDS\\sub-D0101\\ieeg\\sub-D0101_task-LexicalDecRepDelay_acq-01_run-01_events.tsv.\n",
      "Reading channel info from C:\\Users\\bl314\\Box\\CoganLab\\BIDS-1.0_LexicalDecRepDelay\\BIDS\\sub-D0101\\ieeg\\sub-D0101_task-LexicalDecRepDelay_channels.tsv.\n"
     ]
    },
    {
     "name": "stderr",
     "output_type": "stream",
     "text": [
      "C:\\Users\\bl314\\AppData\\Local\\miniconda3\\envs\\ieeg\\Lib\\site-packages\\ieeg\\io.py:113: RuntimeWarning: The unit for channel(s) Trigger has changed from NA to V.\n",
      "  new_raw = read_raw_bids(bids_path=BIDS_path, verbose=verbose)\n"
     ]
    },
    {
     "name": "stdout",
     "output_type": "stream",
     "text": [
      "Reading electrode coords from C:\\Users\\bl314\\Box\\CoganLab\\BIDS-1.0_LexicalDecRepDelay\\BIDS\\sub-D0101\\ieeg\\sub-D0101_space-ACPC_electrodes.tsv.\n",
      "Extracting EDF parameters from C:\\Users\\bl314\\Box\\CoganLab\\BIDS-1.0_LexicalDecRepDelay\\BIDS\\sub-D0101\\ieeg\\sub-D0101_task-LexicalDecRepDelay_acq-01_run-02_ieeg.edf...\n",
      "EDF file detected\n"
     ]
    },
    {
     "name": "stderr",
     "output_type": "stream",
     "text": [
      "C:\\Users\\bl314\\AppData\\Local\\miniconda3\\envs\\ieeg\\Lib\\site-packages\\ieeg\\io.py:113: RuntimeWarning: DigMontage is only a subset of info. There are 19 channel positions not present in the DigMontage. The channels missing from the montage are:\n",
      "\n",
      "['Fp1', 'Fp2', 'F3', 'F4', 'C3', 'C4', 'P3', 'P4', 'F7', 'F8', 'T3', 'T4', 'T5', 'T6', 'O1', 'O2', 'Fz', 'Cz', 'Pz'].\n",
      "\n",
      "Consider using inst.rename_channels to match the montage nomenclature, or inst.set_channel_types if these are not EEG channels, or use the on_missing parameter if the channel positions are allowed to be unknown in your analyses.\n",
      "  new_raw = read_raw_bids(bids_path=BIDS_path, verbose=verbose)\n",
      "C:\\Users\\bl314\\AppData\\Local\\miniconda3\\envs\\ieeg\\Lib\\site-packages\\ieeg\\io.py:113: RuntimeWarning: participants.tsv file not found for C:\\Users\\bl314\\Box\\CoganLab\\BIDS-1.0_LexicalDecRepDelay\\BIDS\\sub-D0101\\ieeg\\sub-D0101_task-LexicalDecRepDelay_acq-01_run-01_ieeg.edf\n",
      "  new_raw = read_raw_bids(bids_path=BIDS_path, verbose=verbose)\n"
     ]
    },
    {
     "name": "stdout",
     "output_type": "stream",
     "text": [
      "Setting channel info structure...\n",
      "Creating raw.info structure...\n"
     ]
    },
    {
     "ename": "KeyboardInterrupt",
     "evalue": "",
     "output_type": "error",
     "traceback": [
      "\u001B[1;31m---------------------------------------------------------------------------\u001B[0m",
      "\u001B[1;31mKeyboardInterrupt\u001B[0m                         Traceback (most recent call last)",
      "Cell \u001B[1;32mIn[4], line 1\u001B[0m\n\u001B[1;32m----> 1\u001B[0m raw \u001B[38;5;241m=\u001B[39m \u001B[43mraw_from_layout\u001B[49m\u001B[43m(\u001B[49m\u001B[43mlayout\u001B[49m\u001B[43m,\u001B[49m\u001B[43m \u001B[49m\u001B[43msubject\u001B[49m\u001B[38;5;241;43m=\u001B[39;49m\u001B[43msubject\u001B[49m\u001B[43m,\u001B[49m\u001B[43m \u001B[49m\u001B[43mpreload\u001B[49m\u001B[38;5;241;43m=\u001B[39;49m\u001B[38;5;28;43;01mFalse\u001B[39;49;00m\u001B[43m,\u001B[49m\u001B[43m \u001B[49m\u001B[43mextension\u001B[49m\u001B[38;5;241;43m=\u001B[39;49m\u001B[38;5;124;43m'\u001B[39;49m\u001B[38;5;124;43m.edf\u001B[39;49m\u001B[38;5;124;43m'\u001B[39;49m\u001B[43m)\u001B[49m\n\u001B[0;32m      2\u001B[0m \u001B[38;5;28mprint\u001B[39m(subjects)\n",
      "File \u001B[1;32m~\\AppData\\Local\\miniconda3\\envs\\ieeg\\Lib\\site-packages\\ieeg\\io.py:113\u001B[0m, in \u001B[0;36mraw_from_layout\u001B[1;34m(layout, preload, run, **kwargs)\u001B[0m\n\u001B[0;32m    111\u001B[0m \u001B[38;5;28;01mfor\u001B[39;00m r \u001B[38;5;129;01min\u001B[39;00m runs:\n\u001B[0;32m    112\u001B[0m     BIDS_path \u001B[38;5;241m=\u001B[39m bidspath_from_layout(layout, run\u001B[38;5;241m=\u001B[39mr, \u001B[38;5;241m*\u001B[39m\u001B[38;5;241m*\u001B[39mkwargs)\n\u001B[1;32m--> 113\u001B[0m     new_raw \u001B[38;5;241m=\u001B[39m \u001B[43mread_raw_bids\u001B[49m\u001B[43m(\u001B[49m\u001B[43mbids_path\u001B[49m\u001B[38;5;241;43m=\u001B[39;49m\u001B[43mBIDS_path\u001B[49m\u001B[43m,\u001B[49m\u001B[43m \u001B[49m\u001B[43mverbose\u001B[49m\u001B[38;5;241;43m=\u001B[39;49m\u001B[43mverbose\u001B[49m\u001B[43m)\u001B[49m\n\u001B[0;32m    114\u001B[0m     raw\u001B[38;5;241m.\u001B[39mappend(new_raw\u001B[38;5;241m.\u001B[39mcopy())\n\u001B[0;32m    115\u001B[0m whole_raw: mne\u001B[38;5;241m.\u001B[39mio\u001B[38;5;241m.\u001B[39mRaw \u001B[38;5;241m=\u001B[39m mne\u001B[38;5;241m.\u001B[39mconcatenate_raws(raw)\n",
      "File \u001B[1;32m<decorator-gen-389>:10\u001B[0m, in \u001B[0;36mread_raw_bids\u001B[1;34m(bids_path, extra_params, verbose)\u001B[0m\n",
      "File \u001B[1;32m~\\AppData\\Local\\miniconda3\\envs\\ieeg\\Lib\\site-packages\\mne_bids\\read.py:828\u001B[0m, in \u001B[0;36mread_raw_bids\u001B[1;34m(bids_path, extra_params, verbose)\u001B[0m\n\u001B[0;32m    826\u001B[0m \u001B[38;5;28;01mif\u001B[39;00m raw_path\u001B[38;5;241m.\u001B[39msuffix \u001B[38;5;241m==\u001B[39m \u001B[38;5;124m\"\u001B[39m\u001B[38;5;124m.fif\u001B[39m\u001B[38;5;124m\"\u001B[39m \u001B[38;5;129;01mand\u001B[39;00m \u001B[38;5;124m\"\u001B[39m\u001B[38;5;124mallow_maxshield\u001B[39m\u001B[38;5;124m\"\u001B[39m \u001B[38;5;129;01mnot\u001B[39;00m \u001B[38;5;129;01min\u001B[39;00m extra_params:\n\u001B[0;32m    827\u001B[0m     extra_params[\u001B[38;5;124m\"\u001B[39m\u001B[38;5;124mallow_maxshield\u001B[39m\u001B[38;5;124m\"\u001B[39m] \u001B[38;5;241m=\u001B[39m \u001B[38;5;28;01mTrue\u001B[39;00m\n\u001B[1;32m--> 828\u001B[0m raw \u001B[38;5;241m=\u001B[39m \u001B[43m_read_raw\u001B[49m\u001B[43m(\u001B[49m\n\u001B[0;32m    829\u001B[0m \u001B[43m    \u001B[49m\u001B[43mraw_path\u001B[49m\u001B[43m,\u001B[49m\n\u001B[0;32m    830\u001B[0m \u001B[43m    \u001B[49m\u001B[43melectrode\u001B[49m\u001B[38;5;241;43m=\u001B[39;49m\u001B[38;5;28;43;01mNone\u001B[39;49;00m\u001B[43m,\u001B[49m\n\u001B[0;32m    831\u001B[0m \u001B[43m    \u001B[49m\u001B[43mhsp\u001B[49m\u001B[38;5;241;43m=\u001B[39;49m\u001B[38;5;28;43;01mNone\u001B[39;49;00m\u001B[43m,\u001B[49m\n\u001B[0;32m    832\u001B[0m \u001B[43m    \u001B[49m\u001B[43mhpi\u001B[49m\u001B[38;5;241;43m=\u001B[39;49m\u001B[38;5;28;43;01mNone\u001B[39;49;00m\u001B[43m,\u001B[49m\n\u001B[0;32m    833\u001B[0m \u001B[43m    \u001B[49m\u001B[43mconfig_path\u001B[49m\u001B[38;5;241;43m=\u001B[39;49m\u001B[43mconfig_path\u001B[49m\u001B[43m,\u001B[49m\n\u001B[0;32m    834\u001B[0m \u001B[43m    \u001B[49m\u001B[38;5;241;43m*\u001B[39;49m\u001B[38;5;241;43m*\u001B[39;49m\u001B[43mextra_params\u001B[49m\u001B[43m,\u001B[49m\n\u001B[0;32m    835\u001B[0m \u001B[43m\u001B[49m\u001B[43m)\u001B[49m\n\u001B[0;32m    837\u001B[0m \u001B[38;5;66;03m# Try to find an associated events.tsv to get information about the\u001B[39;00m\n\u001B[0;32m    838\u001B[0m \u001B[38;5;66;03m# events in the recorded data\u001B[39;00m\n\u001B[0;32m    839\u001B[0m \u001B[38;5;28;01mif\u001B[39;00m (\n\u001B[0;32m    840\u001B[0m     bids_path\u001B[38;5;241m.\u001B[39msubject \u001B[38;5;241m==\u001B[39m \u001B[38;5;124m\"\u001B[39m\u001B[38;5;124memptyroom\u001B[39m\u001B[38;5;124m\"\u001B[39m \u001B[38;5;129;01mand\u001B[39;00m bids_path\u001B[38;5;241m.\u001B[39mtask \u001B[38;5;241m==\u001B[39m \u001B[38;5;124m\"\u001B[39m\u001B[38;5;124mnoise\u001B[39m\u001B[38;5;124m\"\u001B[39m\n\u001B[0;32m    841\u001B[0m ) \u001B[38;5;129;01mor\u001B[39;00m bids_path\u001B[38;5;241m.\u001B[39mtask\u001B[38;5;241m.\u001B[39mstartswith(\u001B[38;5;124m\"\u001B[39m\u001B[38;5;124mrest\u001B[39m\u001B[38;5;124m\"\u001B[39m):\n",
      "File \u001B[1;32m~\\AppData\\Local\\miniconda3\\envs\\ieeg\\Lib\\site-packages\\mne_bids\\read.py:76\u001B[0m, in \u001B[0;36m_read_raw\u001B[1;34m(raw_path, electrode, hsp, hpi, allow_maxshield, config_path, **kwargs)\u001B[0m\n\u001B[0;32m     74\u001B[0m \u001B[38;5;28;01melif\u001B[39;00m ext \u001B[38;5;129;01min\u001B[39;00m [\u001B[38;5;124m\"\u001B[39m\u001B[38;5;124m.ds\u001B[39m\u001B[38;5;124m\"\u001B[39m, \u001B[38;5;124m\"\u001B[39m\u001B[38;5;124m.vhdr\u001B[39m\u001B[38;5;124m\"\u001B[39m, \u001B[38;5;124m\"\u001B[39m\u001B[38;5;124m.set\u001B[39m\u001B[38;5;124m\"\u001B[39m, \u001B[38;5;124m\"\u001B[39m\u001B[38;5;124m.edf\u001B[39m\u001B[38;5;124m\"\u001B[39m, \u001B[38;5;124m\"\u001B[39m\u001B[38;5;124m.bdf\u001B[39m\u001B[38;5;124m\"\u001B[39m, \u001B[38;5;124m\"\u001B[39m\u001B[38;5;124m.EDF\u001B[39m\u001B[38;5;124m\"\u001B[39m, \u001B[38;5;124m\"\u001B[39m\u001B[38;5;124m.snirf\u001B[39m\u001B[38;5;124m\"\u001B[39m, \u001B[38;5;124m\"\u001B[39m\u001B[38;5;124m.cdt\u001B[39m\u001B[38;5;124m\"\u001B[39m]:\n\u001B[0;32m     75\u001B[0m     raw_path \u001B[38;5;241m=\u001B[39m Path(raw_path)\n\u001B[1;32m---> 76\u001B[0m     raw \u001B[38;5;241m=\u001B[39m \u001B[43mreader\u001B[49m\u001B[43m[\u001B[49m\u001B[43mext\u001B[49m\u001B[43m]\u001B[49m\u001B[43m(\u001B[49m\u001B[43mraw_path\u001B[49m\u001B[43m,\u001B[49m\u001B[43m \u001B[49m\u001B[38;5;241;43m*\u001B[39;49m\u001B[38;5;241;43m*\u001B[39;49m\u001B[43mkwargs\u001B[49m\u001B[43m)\u001B[49m\n\u001B[0;32m     78\u001B[0m \u001B[38;5;66;03m# MEF and NWB are allowed, but not yet implemented\u001B[39;00m\n\u001B[0;32m     79\u001B[0m \u001B[38;5;28;01melif\u001B[39;00m ext \u001B[38;5;129;01min\u001B[39;00m [\u001B[38;5;124m\"\u001B[39m\u001B[38;5;124m.mef\u001B[39m\u001B[38;5;124m\"\u001B[39m, \u001B[38;5;124m\"\u001B[39m\u001B[38;5;124m.nwb\u001B[39m\u001B[38;5;124m\"\u001B[39m]:\n",
      "File \u001B[1;32m~\\AppData\\Local\\miniconda3\\envs\\ieeg\\Lib\\site-packages\\mne\\io\\edf\\edf.py:1689\u001B[0m, in \u001B[0;36mread_raw_edf\u001B[1;34m(input_fname, eog, misc, stim_channel, exclude, infer_types, include, preload, units, encoding, exclude_after_unique, verbose)\u001B[0m\n\u001B[0;32m   1687\u001B[0m \u001B[38;5;28;01mif\u001B[39;00m ext \u001B[38;5;241m!=\u001B[39m \u001B[38;5;124m\"\u001B[39m\u001B[38;5;124medf\u001B[39m\u001B[38;5;124m\"\u001B[39m:\n\u001B[0;32m   1688\u001B[0m     \u001B[38;5;28;01mraise\u001B[39;00m \u001B[38;5;167;01mNotImplementedError\u001B[39;00m(\u001B[38;5;124mf\u001B[39m\u001B[38;5;124m\"\u001B[39m\u001B[38;5;124mOnly EDF files are supported, got \u001B[39m\u001B[38;5;132;01m{\u001B[39;00mext\u001B[38;5;132;01m}\u001B[39;00m\u001B[38;5;124m.\u001B[39m\u001B[38;5;124m\"\u001B[39m)\n\u001B[1;32m-> 1689\u001B[0m \u001B[38;5;28;01mreturn\u001B[39;00m \u001B[43mRawEDF\u001B[49m\u001B[43m(\u001B[49m\n\u001B[0;32m   1690\u001B[0m \u001B[43m    \u001B[49m\u001B[43minput_fname\u001B[49m\u001B[38;5;241;43m=\u001B[39;49m\u001B[43minput_fname\u001B[49m\u001B[43m,\u001B[49m\n\u001B[0;32m   1691\u001B[0m \u001B[43m    \u001B[49m\u001B[43meog\u001B[49m\u001B[38;5;241;43m=\u001B[39;49m\u001B[43meog\u001B[49m\u001B[43m,\u001B[49m\n\u001B[0;32m   1692\u001B[0m \u001B[43m    \u001B[49m\u001B[43mmisc\u001B[49m\u001B[38;5;241;43m=\u001B[39;49m\u001B[43mmisc\u001B[49m\u001B[43m,\u001B[49m\n\u001B[0;32m   1693\u001B[0m \u001B[43m    \u001B[49m\u001B[43mstim_channel\u001B[49m\u001B[38;5;241;43m=\u001B[39;49m\u001B[43mstim_channel\u001B[49m\u001B[43m,\u001B[49m\n\u001B[0;32m   1694\u001B[0m \u001B[43m    \u001B[49m\u001B[43mexclude\u001B[49m\u001B[38;5;241;43m=\u001B[39;49m\u001B[43mexclude\u001B[49m\u001B[43m,\u001B[49m\n\u001B[0;32m   1695\u001B[0m \u001B[43m    \u001B[49m\u001B[43minfer_types\u001B[49m\u001B[38;5;241;43m=\u001B[39;49m\u001B[43minfer_types\u001B[49m\u001B[43m,\u001B[49m\n\u001B[0;32m   1696\u001B[0m \u001B[43m    \u001B[49m\u001B[43mpreload\u001B[49m\u001B[38;5;241;43m=\u001B[39;49m\u001B[43mpreload\u001B[49m\u001B[43m,\u001B[49m\n\u001B[0;32m   1697\u001B[0m \u001B[43m    \u001B[49m\u001B[43minclude\u001B[49m\u001B[38;5;241;43m=\u001B[39;49m\u001B[43minclude\u001B[49m\u001B[43m,\u001B[49m\n\u001B[0;32m   1698\u001B[0m \u001B[43m    \u001B[49m\u001B[43munits\u001B[49m\u001B[38;5;241;43m=\u001B[39;49m\u001B[43munits\u001B[49m\u001B[43m,\u001B[49m\n\u001B[0;32m   1699\u001B[0m \u001B[43m    \u001B[49m\u001B[43mencoding\u001B[49m\u001B[38;5;241;43m=\u001B[39;49m\u001B[43mencoding\u001B[49m\u001B[43m,\u001B[49m\n\u001B[0;32m   1700\u001B[0m \u001B[43m    \u001B[49m\u001B[43mexclude_after_unique\u001B[49m\u001B[38;5;241;43m=\u001B[39;49m\u001B[43mexclude_after_unique\u001B[49m\u001B[43m,\u001B[49m\n\u001B[0;32m   1701\u001B[0m \u001B[43m    \u001B[49m\u001B[43mverbose\u001B[49m\u001B[38;5;241;43m=\u001B[39;49m\u001B[43mverbose\u001B[49m\u001B[43m,\u001B[49m\n\u001B[0;32m   1702\u001B[0m \u001B[43m\u001B[49m\u001B[43m)\u001B[49m\n",
      "File \u001B[1;32m<decorator-gen-274>:12\u001B[0m, in \u001B[0;36m__init__\u001B[1;34m(self, input_fname, eog, misc, stim_channel, exclude, infer_types, preload, include, units, encoding, exclude_after_unique, verbose)\u001B[0m\n",
      "File \u001B[1;32m~\\AppData\\Local\\miniconda3\\envs\\ieeg\\Lib\\site-packages\\mne\\io\\edf\\edf.py:202\u001B[0m, in \u001B[0;36mRawEDF.__init__\u001B[1;34m(self, input_fname, eog, misc, stim_channel, exclude, infer_types, preload, include, units, encoding, exclude_after_unique, verbose)\u001B[0m\n\u001B[0;32m    199\u001B[0m \u001B[38;5;28;01mif\u001B[39;00m \u001B[38;5;28mlen\u001B[39m(edf_info[\u001B[38;5;124m\"\u001B[39m\u001B[38;5;124mtal_idx\u001B[39m\u001B[38;5;124m\"\u001B[39m]) \u001B[38;5;241m>\u001B[39m \u001B[38;5;241m0\u001B[39m:\n\u001B[0;32m    200\u001B[0m     \u001B[38;5;66;03m# Read TAL data exploiting the header info (no regexp)\u001B[39;00m\n\u001B[0;32m    201\u001B[0m     idx \u001B[38;5;241m=\u001B[39m np\u001B[38;5;241m.\u001B[39mempty(\u001B[38;5;241m0\u001B[39m, \u001B[38;5;28mint\u001B[39m)\n\u001B[1;32m--> 202\u001B[0m     tal_data \u001B[38;5;241m=\u001B[39m \u001B[38;5;28;43mself\u001B[39;49m\u001B[38;5;241;43m.\u001B[39;49m\u001B[43m_read_segment_file\u001B[49m\u001B[43m(\u001B[49m\n\u001B[0;32m    203\u001B[0m \u001B[43m        \u001B[49m\u001B[43mnp\u001B[49m\u001B[38;5;241;43m.\u001B[39;49m\u001B[43mempty\u001B[49m\u001B[43m(\u001B[49m\u001B[43m(\u001B[49m\u001B[38;5;241;43m0\u001B[39;49m\u001B[43m,\u001B[49m\u001B[43m \u001B[49m\u001B[38;5;28;43mself\u001B[39;49m\u001B[38;5;241;43m.\u001B[39;49m\u001B[43mn_times\u001B[49m\u001B[43m)\u001B[49m\u001B[43m)\u001B[49m\u001B[43m,\u001B[49m\n\u001B[0;32m    204\u001B[0m \u001B[43m        \u001B[49m\u001B[43midx\u001B[49m\u001B[43m,\u001B[49m\n\u001B[0;32m    205\u001B[0m \u001B[43m        \u001B[49m\u001B[38;5;241;43m0\u001B[39;49m\u001B[43m,\u001B[49m\n\u001B[0;32m    206\u001B[0m \u001B[43m        \u001B[49m\u001B[38;5;241;43m0\u001B[39;49m\u001B[43m,\u001B[49m\n\u001B[0;32m    207\u001B[0m \u001B[43m        \u001B[49m\u001B[38;5;28;43mint\u001B[39;49m\u001B[43m(\u001B[49m\u001B[38;5;28;43mself\u001B[39;49m\u001B[38;5;241;43m.\u001B[39;49m\u001B[43mn_times\u001B[49m\u001B[43m)\u001B[49m\u001B[43m,\u001B[49m\n\u001B[0;32m    208\u001B[0m \u001B[43m        \u001B[49m\u001B[43mnp\u001B[49m\u001B[38;5;241;43m.\u001B[39;49m\u001B[43mones\u001B[49m\u001B[43m(\u001B[49m\u001B[43m(\u001B[49m\u001B[38;5;28;43mlen\u001B[39;49m\u001B[43m(\u001B[49m\u001B[43midx\u001B[49m\u001B[43m)\u001B[49m\u001B[43m,\u001B[49m\u001B[43m \u001B[49m\u001B[38;5;241;43m1\u001B[39;49m\u001B[43m)\u001B[49m\u001B[43m)\u001B[49m\u001B[43m,\u001B[49m\n\u001B[0;32m    209\u001B[0m \u001B[43m        \u001B[49m\u001B[38;5;28;43;01mNone\u001B[39;49;00m\u001B[43m,\u001B[49m\n\u001B[0;32m    210\u001B[0m \u001B[43m    \u001B[49m\u001B[43m)\u001B[49m\n\u001B[0;32m    211\u001B[0m     annotations \u001B[38;5;241m=\u001B[39m _read_annotations_edf(\n\u001B[0;32m    212\u001B[0m         tal_data[\u001B[38;5;241m0\u001B[39m],\n\u001B[0;32m    213\u001B[0m         ch_names\u001B[38;5;241m=\u001B[39minfo[\u001B[38;5;124m\"\u001B[39m\u001B[38;5;124mch_names\u001B[39m\u001B[38;5;124m\"\u001B[39m],\n\u001B[0;32m    214\u001B[0m         encoding\u001B[38;5;241m=\u001B[39mencoding,\n\u001B[0;32m    215\u001B[0m     )\n\u001B[0;32m    216\u001B[0m     \u001B[38;5;28mself\u001B[39m\u001B[38;5;241m.\u001B[39mset_annotations(annotations, on_missing\u001B[38;5;241m=\u001B[39m\u001B[38;5;124m\"\u001B[39m\u001B[38;5;124mwarn\u001B[39m\u001B[38;5;124m\"\u001B[39m)\n",
      "File \u001B[1;32m~\\AppData\\Local\\miniconda3\\envs\\ieeg\\Lib\\site-packages\\mne\\io\\edf\\edf.py:220\u001B[0m, in \u001B[0;36mRawEDF._read_segment_file\u001B[1;34m(self, data, idx, fi, start, stop, cals, mult)\u001B[0m\n\u001B[0;32m    218\u001B[0m \u001B[38;5;28;01mdef\u001B[39;00m \u001B[38;5;21m_read_segment_file\u001B[39m(\u001B[38;5;28mself\u001B[39m, data, idx, fi, start, stop, cals, mult):\n\u001B[0;32m    219\u001B[0m \u001B[38;5;250m    \u001B[39m\u001B[38;5;124;03m\"\"\"Read a chunk of raw data.\"\"\"\u001B[39;00m\n\u001B[1;32m--> 220\u001B[0m     \u001B[38;5;28;01mreturn\u001B[39;00m \u001B[43m_read_segment_file\u001B[49m\u001B[43m(\u001B[49m\n\u001B[0;32m    221\u001B[0m \u001B[43m        \u001B[49m\u001B[43mdata\u001B[49m\u001B[43m,\u001B[49m\n\u001B[0;32m    222\u001B[0m \u001B[43m        \u001B[49m\u001B[43midx\u001B[49m\u001B[43m,\u001B[49m\n\u001B[0;32m    223\u001B[0m \u001B[43m        \u001B[49m\u001B[43mfi\u001B[49m\u001B[43m,\u001B[49m\n\u001B[0;32m    224\u001B[0m \u001B[43m        \u001B[49m\u001B[43mstart\u001B[49m\u001B[43m,\u001B[49m\n\u001B[0;32m    225\u001B[0m \u001B[43m        \u001B[49m\u001B[43mstop\u001B[49m\u001B[43m,\u001B[49m\n\u001B[0;32m    226\u001B[0m \u001B[43m        \u001B[49m\u001B[38;5;28;43mself\u001B[39;49m\u001B[38;5;241;43m.\u001B[39;49m\u001B[43m_raw_extras\u001B[49m\u001B[43m[\u001B[49m\u001B[43mfi\u001B[49m\u001B[43m]\u001B[49m\u001B[43m,\u001B[49m\n\u001B[0;32m    227\u001B[0m \u001B[43m        \u001B[49m\u001B[38;5;28;43mself\u001B[39;49m\u001B[38;5;241;43m.\u001B[39;49m\u001B[43m_filenames\u001B[49m\u001B[43m[\u001B[49m\u001B[43mfi\u001B[49m\u001B[43m]\u001B[49m\u001B[43m,\u001B[49m\n\u001B[0;32m    228\u001B[0m \u001B[43m        \u001B[49m\u001B[43mcals\u001B[49m\u001B[43m,\u001B[49m\n\u001B[0;32m    229\u001B[0m \u001B[43m        \u001B[49m\u001B[43mmult\u001B[49m\u001B[43m,\u001B[49m\n\u001B[0;32m    230\u001B[0m \u001B[43m    \u001B[49m\u001B[43m)\u001B[49m\n",
      "File \u001B[1;32m~\\AppData\\Local\\miniconda3\\envs\\ieeg\\Lib\\site-packages\\mne\\io\\edf\\edf.py:398\u001B[0m, in \u001B[0;36m_read_segment_file\u001B[1;34m(data, idx, fi, start, stop, raw_extras, filenames, cals, mult)\u001B[0m\n\u001B[0;32m    396\u001B[0m fid\u001B[38;5;241m.\u001B[39mseek(start_offset \u001B[38;5;241m+\u001B[39m block_offset, \u001B[38;5;241m0\u001B[39m)\n\u001B[0;32m    397\u001B[0m \u001B[38;5;66;03m# Read and reshape to (n_chunks_read, ch0_ch1_ch2_ch3...)\u001B[39;00m\n\u001B[1;32m--> 398\u001B[0m many_chunk \u001B[38;5;241m=\u001B[39m \u001B[43m_read_ch\u001B[49m\u001B[43m(\u001B[49m\n\u001B[0;32m    399\u001B[0m \u001B[43m    \u001B[49m\u001B[43mfid\u001B[49m\u001B[43m,\u001B[49m\u001B[43m \u001B[49m\u001B[43msubtype\u001B[49m\u001B[43m,\u001B[49m\u001B[43m \u001B[49m\u001B[43mch_offsets\u001B[49m\u001B[43m[\u001B[49m\u001B[38;5;241;43m-\u001B[39;49m\u001B[38;5;241;43m1\u001B[39;49m\u001B[43m]\u001B[49m\u001B[43m \u001B[49m\u001B[38;5;241;43m*\u001B[39;49m\u001B[43m \u001B[49m\u001B[43mn_read\u001B[49m\u001B[43m,\u001B[49m\u001B[43m \u001B[49m\u001B[43mdtype_byte\u001B[49m\u001B[43m,\u001B[49m\u001B[43m \u001B[49m\u001B[43mdtype\u001B[49m\n\u001B[0;32m    400\u001B[0m \u001B[43m\u001B[49m\u001B[43m)\u001B[49m\u001B[38;5;241m.\u001B[39mreshape(n_read, \u001B[38;5;241m-\u001B[39m\u001B[38;5;241m1\u001B[39m)\n\u001B[0;32m    401\u001B[0m r_sidx \u001B[38;5;241m=\u001B[39m r_lims[ai][\u001B[38;5;241m0\u001B[39m]\n\u001B[0;32m    402\u001B[0m r_eidx \u001B[38;5;241m=\u001B[39m buf_len \u001B[38;5;241m*\u001B[39m (n_read \u001B[38;5;241m-\u001B[39m \u001B[38;5;241m1\u001B[39m) \u001B[38;5;241m+\u001B[39m r_lims[ai \u001B[38;5;241m+\u001B[39m n_read \u001B[38;5;241m-\u001B[39m \u001B[38;5;241m1\u001B[39m][\u001B[38;5;241m1\u001B[39m]\n",
      "File \u001B[1;32m~\\AppData\\Local\\miniconda3\\envs\\ieeg\\Lib\\site-packages\\mne\\io\\edf\\edf.py:347\u001B[0m, in \u001B[0;36m_read_ch\u001B[1;34m(fid, subtype, samp, dtype_byte, dtype)\u001B[0m\n\u001B[0;32m    343\u001B[0m     ch_data[ch_data \u001B[38;5;241m>\u001B[39m\u001B[38;5;241m=\u001B[39m (\u001B[38;5;241m1\u001B[39m \u001B[38;5;241m<<\u001B[39m \u001B[38;5;241m23\u001B[39m)] \u001B[38;5;241m-\u001B[39m\u001B[38;5;241m=\u001B[39m \u001B[38;5;241m1\u001B[39m \u001B[38;5;241m<<\u001B[39m \u001B[38;5;241m24\u001B[39m\n\u001B[0;32m    345\u001B[0m \u001B[38;5;66;03m# GDF data and EDF data\u001B[39;00m\n\u001B[0;32m    346\u001B[0m \u001B[38;5;28;01melse\u001B[39;00m:\n\u001B[1;32m--> 347\u001B[0m     ch_data \u001B[38;5;241m=\u001B[39m \u001B[43mnp\u001B[49m\u001B[38;5;241;43m.\u001B[39;49m\u001B[43mfromfile\u001B[49m\u001B[43m(\u001B[49m\u001B[43mfid\u001B[49m\u001B[43m,\u001B[49m\u001B[43m \u001B[49m\u001B[43mdtype\u001B[49m\u001B[38;5;241;43m=\u001B[39;49m\u001B[43mdtype\u001B[49m\u001B[43m,\u001B[49m\u001B[43m \u001B[49m\u001B[43mcount\u001B[49m\u001B[38;5;241;43m=\u001B[39;49m\u001B[43msamp\u001B[49m\u001B[43m)\u001B[49m\n\u001B[0;32m    349\u001B[0m \u001B[38;5;28;01mreturn\u001B[39;00m ch_data\n",
      "\u001B[1;31mKeyboardInterrupt\u001B[0m: "
     ]
    }
   ],
   "execution_count": 4
  },
  {
   "metadata": {},
   "cell_type": "markdown",
   "source": [
    "### Linear noise filtering\n",
    "https://ieeg-pipelines.readthedocs.io/en/latest/auto_examples/plot_clean.html"
   ],
   "id": "82e15d299ed340db"
  },
  {
   "metadata": {},
   "cell_type": "code",
   "source": "from ieeg.mt_filter import line_filter",
   "id": "de4ce49299e016eb",
   "outputs": [],
   "execution_count": null
  },
  {
   "metadata": {},
   "cell_type": "code",
   "source": [
    "# n_jobs=-1 means take all the processors, n_jobs=-2 means take all - 1 processors\n",
    "# Keep all the other parameters not changed\n",
    "# %% filter data\n",
    "line_filter(raw, mt_bandwidth=10., n_jobs=-3, copy=False, verbose=10,\n",
    "            filter_length='700ms', freqs=[60], notch_widths=20)\n",
    "line_filter(raw, mt_bandwidth=10., n_jobs=-3, copy=False, verbose=10,\n",
    "            filter_length='20s', freqs=[60, 120, 180, 240],\n",
    "            notch_widths=20)"
   ],
   "id": "5dc5d88bfa1c04ec",
   "outputs": [],
   "execution_count": null
  },
  {
   "metadata": {},
   "cell_type": "code",
   "source": [
    "# Check if derivatives folder exists and create if not\n",
    "bids_root='C:\\\\Users\\\\bl314\\\\Box\\\\CoganLab\\\\BIDS-1.0_LexicalDecRepDelay\\\\BIDS'\n",
    "if not os.path.exists(os.path.join(bids_root, \"derivatives\")):\n",
    "    os.mkdir(os.path.join(bids_root, \"derivatives\"))\n",
    "    os.mkdir(os.path.join(bids_root, \"derivatives\", \"clean\"))\n",
    "elif not os.path.exists(os.path.join(bids_root, \"derivatives\", \"clean\")):\n",
    "    os.mkdir(os.path.join(bids_root, \"derivatives\", \"clean\"))\n",
    "save_derivative(raw, layout, \"clean\", True)"
   ],
   "id": "da996f3e0a9c7d",
   "outputs": [],
   "execution_count": null
  }
 ],
 "metadata": {
  "kernelspec": {
   "display_name": "Python 3",
   "language": "python",
   "name": "python3"
  },
  "language_info": {
   "codemirror_mode": {
    "name": "ipython",
    "version": 2
   },
   "file_extension": ".py",
   "mimetype": "text/x-python",
   "name": "python",
   "nbconvert_exporter": "python",
   "pygments_lexer": "ipython2",
   "version": "2.7.6"
  }
 },
 "nbformat": 4,
 "nbformat_minor": 5
}
