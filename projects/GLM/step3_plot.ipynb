{
 "cells": [
  {
   "cell_type": "code",
   "execution_count": null,
   "id": "initial_id",
   "metadata": {
    "collapsed": true
   },
   "outputs": [],
   "source": [
    "# Common module\n",
    "import numpy as np\n",
    "import json\n",
    "import glm_utils as glm\n",
    "import glm_validate_plot as glmp\n",
    "from ieeg.calc.stats import time_cluster\n",
    "\n",
    "# Set parameters\n",
    "\n",
    "with open('glm_config.json', 'r') as f:\n",
    "    config = json.load(f)\n",
    "\n",
    "# Extract parameters from config\n",
    "alpha = config['alpha']\n",
    "alpha_clus = config['alpha_clus']\n",
    "n_perms = config['n_perms']\n",
    "event = config['event']\n",
    "stat = config['stat']\n",
    "task_Tag = config['task_Tag']\n",
    "glm_fea = config['glm_fea']\n",
    "f_ranges = config['feature_ranges'][glm_fea]\n",
    "\n",
    "if len(f_ranges) == 1:\n",
    "    feature_seleted = np.r_[0, f_ranges[0]]\n",
    "else:\n",
    "    feature_seleted = np.r_[0, f_ranges[0]:f_ranges[1]]\n",
    "\n",
    "subjs, _, _, chs, _ = glm.fifread(event, stat, task_Tag)"
   ]
  },
  {
   "metadata": {},
   "cell_type": "code",
   "outputs": [],
   "execution_count": null,
   "source": [
    "for i, _ in enumerate(subjs):\n",
    "\n",
    "    print(f\"Plotting: Patient {subjs[i]}\")\n",
    "    \n",
    "    org_mask_i = np.load(f\"data\\\\org_mask {subjs[i]} {event} {task_Tag} {glm_fea}.npy\")\n",
    "    glmp.plot_r2(org_mask_i,f\"Patient {subjs[i]}\",\"original mask\",\"significance\")\n",
    "\n",
    "    cluster_mask_i = np.load(f\"data\\\\org_mask {subjs[i]} {event} {task_Tag} {glm_fea}.npy\")\n",
    "    glmp.plot_r2(cluster_mask_i,f\"Patient {subjs[i]}\",\"cluster corrected mask\",\"significance\")"
   ],
   "id": "f67a6d2bd9ed283e"
  }
 ],
 "metadata": {
  "kernelspec": {
   "display_name": "Python 3",
   "language": "python",
   "name": "python3"
  },
  "language_info": {
   "codemirror_mode": {
    "name": "ipython",
    "version": 2
   },
   "file_extension": ".py",
   "mimetype": "text/x-python",
   "name": "python",
   "nbconvert_exporter": "python",
   "pygments_lexer": "ipython2",
   "version": "2.7.6"
  }
 },
 "nbformat": 4,
 "nbformat_minor": 5
}
