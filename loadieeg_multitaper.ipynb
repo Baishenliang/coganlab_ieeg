{
 "cells": [
  {
   "metadata": {},
   "cell_type": "markdown",
   "source": "### Read the script",
   "id": "93d9af99cc9066ab"
  },
  {
   "cell_type": "code",
   "id": "initial_id",
   "metadata": {
    "collapsed": true,
    "ExecuteTime": {
     "end_time": "2024-10-01T00:47:06.911968Z",
     "start_time": "2024-10-01T00:47:06.901106Z"
    }
   },
   "source": [
    "import os\n",
    "from ieeg.io import get_data, raw_from_layout"
   ],
   "outputs": [],
   "execution_count": 17
  },
  {
   "metadata": {
    "ExecuteTime": {
     "end_time": "2024-10-01T00:47:12.677436Z",
     "start_time": "2024-10-01T00:47:12.083559Z"
    }
   },
   "cell_type": "code",
   "source": [
    "HOME = os.path.expanduser(\"~\")\n",
    "LAB_root = os.path.join(HOME, \"Box\", \"CoganLab\")\n",
    "layout = get_data(\"LexicalDecRepDelay\", root=LAB_root)\n",
    "subjects = layout.get(return_type=\"id\", target=\"subject\")"
   ],
   "id": "ddab12751f7eacd0",
   "outputs": [
    {
     "name": "stderr",
     "output_type": "stream",
     "text": [
      "C:\\Users\\bl314\\AppData\\Local\\miniconda3\\envs\\ieeg\\Lib\\site-packages\\bids\\layout\\layout.py:516: UserWarning: Derivative indexing was requested, but no valid datasets were found in the specified locations ([WindowsUPath('C:/Users/bl314/Box/CoganLab/BIDS-1.0_LexicalDecRepDelay/BIDS/derivatives')]). Note that all BIDS-Derivatives datasets must meet all the requirements for BIDS-Raw datasets (a common problem is to fail to include a 'dataset_description.json' file in derivatives datasets).\n",
      "Example contents of 'dataset_description.json':\n",
      "{\"Name\": \"Example dataset\", \"BIDSVersion\": \"1.0.2\", \"GeneratedBy\": [{\"Name\": \"Example pipeline\"}]}\n",
      "  warnings.warn(\"Derivative indexing was requested, but no valid \"\n"
     ]
    }
   ],
   "execution_count": 18
  },
  {
   "metadata": {},
   "cell_type": "code",
   "outputs": [],
   "execution_count": null,
   "source": [
    "#for subject in subjects:\n",
    "#    raw = raw_from_layout(layout, subject=subject, preload=True, extension='.edf')\n",
    "    # do stuff with each subject data\n",
    "\n",
    "subject = subjects[0]\n",
    "raw = raw_from_layout(layout, subject=subject, preload=True, extension='.edf')\n",
    "print(subjects)"
   ],
   "id": "7791ffbabe06738e"
  },
  {
   "metadata": {
    "ExecuteTime": {
     "end_time": "2024-10-01T00:49:45.745626Z",
     "start_time": "2024-10-01T00:49:39.418274Z"
    }
   },
   "cell_type": "code",
   "source": "raw.plot()",
   "id": "390e29b6276ddc12",
   "outputs": [
    {
     "data": {
      "text/plain": [
       "<mne_qt_browser._pg_figure.MNEQtBrowser at 0x1d811c97da0>"
      ]
     },
     "execution_count": 20,
     "metadata": {},
     "output_type": "execute_result"
    }
   ],
   "execution_count": 20
  },
  {
   "metadata": {},
   "cell_type": "markdown",
   "source": [
    "### Linear noise filtering\n",
    "https://ieeg-pipelines.readthedocs.io/en/latest/auto_examples/plot_clean.html"
   ],
   "id": "a78ec6c93d1b5e10"
  },
  {
   "metadata": {
    "ExecuteTime": {
     "end_time": "2024-10-01T01:14:35.061711Z",
     "start_time": "2024-10-01T01:14:35.048289Z"
    }
   },
   "cell_type": "code",
   "source": [
    "from ieeg.mt_filter import line_filter\n",
    "from ieeg.viz.ensemble import figure_compare"
   ],
   "id": "d5f977db7495a37d",
   "outputs": [],
   "execution_count": 22
  },
  {
   "metadata": {
    "ExecuteTime": {
     "end_time": "2024-10-01T14:30:20.670921400Z",
     "start_time": "2024-10-01T01:14:38.221392Z"
    }
   },
   "cell_type": "code",
   "source": [
    "# get gid of \n",
    "filt = line_filter(raw,\n",
    "                   mt_bandwidth=10.,\n",
    "                   n_jobs=-3,\n",
    "                   filter_length='700ms',\n",
    "                   verbose=10,\n",
    "                   freqs=[60],\n",
    "                   notch_widths=20)\n",
    "\n",
    "filt = line_filter(raw,\n",
    "                   mt_bandwidth=10.,\n",
    "                   n_jobs=1,\n",
    "                   filter_length='20s',\n",
    "                   verbose=10,\n",
    "                   freqs=[60, 120,180, 240],\n",
    "                   notch_widths=20)"
   ],
   "id": "61b343b215965725",
   "outputs": [
    {
     "name": "stdout",
     "output_type": "stream",
     "text": [
      "  Using multitaper spectrum estimation with 13 DPSS windows\n",
      "  Using multitaper spectrum estimation with 15 DPSS windows\n",
      "Removed notch frequencies (Hz):\n",
      "     60.00 : 11324 windows\n"
     ]
    },
    {
     "name": "stderr",
     "output_type": "stream",
     "text": [
      "[Parallel(n_jobs=1)]: Done   1 tasks      | elapsed:    7.4s\n"
     ]
    },
    {
     "name": "stdout",
     "output_type": "stream",
     "text": [
      "Removed notch frequencies (Hz):\n",
      "     60.00 : 22649 windows\n"
     ]
    },
    {
     "name": "stderr",
     "output_type": "stream",
     "text": [
      "[Parallel(n_jobs=1)]: Done   2 tasks      | elapsed:   15.1s\n"
     ]
    },
    {
     "name": "stdout",
     "output_type": "stream",
     "text": [
      "Removed notch frequencies (Hz):\n",
      "     60.00 : 33973 windows\n"
     ]
    },
    {
     "name": "stderr",
     "output_type": "stream",
     "text": [
      "[Parallel(n_jobs=1)]: Done   3 tasks      | elapsed:   23.4s\n"
     ]
    },
    {
     "name": "stdout",
     "output_type": "stream",
     "text": [
      "Removed notch frequencies (Hz):\n",
      "     60.00 : 45297 windows\n"
     ]
    },
    {
     "name": "stderr",
     "output_type": "stream",
     "text": [
      "[Parallel(n_jobs=1)]: Done   4 tasks      | elapsed:   32.7s\n"
     ]
    },
    {
     "name": "stdout",
     "output_type": "stream",
     "text": [
      "Removed notch frequencies (Hz):\n",
      "     60.00 : 56622 windows\n"
     ]
    },
    {
     "name": "stderr",
     "output_type": "stream",
     "text": [
      "[Parallel(n_jobs=1)]: Done   5 tasks      | elapsed:   43.6s\n"
     ]
    },
    {
     "name": "stdout",
     "output_type": "stream",
     "text": [
      "Removed notch frequencies (Hz):\n",
      "     60.00 : 67946 windows\n"
     ]
    },
    {
     "name": "stderr",
     "output_type": "stream",
     "text": [
      "[Parallel(n_jobs=1)]: Done   6 tasks      | elapsed:   55.9s\n"
     ]
    },
    {
     "name": "stdout",
     "output_type": "stream",
     "text": [
      "Removed notch frequencies (Hz):\n",
      "     60.00 : 79270 windows\n"
     ]
    },
    {
     "name": "stderr",
     "output_type": "stream",
     "text": [
      "[Parallel(n_jobs=1)]: Done   7 tasks      | elapsed:  1.2min\n"
     ]
    },
    {
     "name": "stdout",
     "output_type": "stream",
     "text": [
      "Removed notch frequencies (Hz):\n",
      "     60.00 : 90594 windows\n"
     ]
    },
    {
     "name": "stderr",
     "output_type": "stream",
     "text": [
      "[Parallel(n_jobs=1)]: Done   8 tasks      | elapsed:  1.5min\n"
     ]
    },
    {
     "name": "stdout",
     "output_type": "stream",
     "text": [
      "Removed notch frequencies (Hz):\n",
      "     60.00 : 101918 windows\n"
     ]
    },
    {
     "name": "stderr",
     "output_type": "stream",
     "text": [
      "[Parallel(n_jobs=1)]: Done   9 tasks      | elapsed:  1.8min\n"
     ]
    },
    {
     "name": "stdout",
     "output_type": "stream",
     "text": [
      "Removed notch frequencies (Hz):\n",
      "     60.00 : 113243 windows\n"
     ]
    },
    {
     "name": "stderr",
     "output_type": "stream",
     "text": [
      "[Parallel(n_jobs=1)]: Done  10 tasks      | elapsed:  2.2min\n"
     ]
    },
    {
     "name": "stdout",
     "output_type": "stream",
     "text": [
      "Removed notch frequencies (Hz):\n",
      "     60.00 : 124568 windows\n"
     ]
    },
    {
     "name": "stderr",
     "output_type": "stream",
     "text": [
      "[Parallel(n_jobs=1)]: Done  11 tasks      | elapsed:  2.6min\n"
     ]
    },
    {
     "name": "stdout",
     "output_type": "stream",
     "text": [
      "Removed notch frequencies (Hz):\n",
      "     60.00 : 135890 windows\n"
     ]
    },
    {
     "name": "stderr",
     "output_type": "stream",
     "text": [
      "[Parallel(n_jobs=1)]: Done  12 tasks      | elapsed:  3.1min\n"
     ]
    },
    {
     "name": "stdout",
     "output_type": "stream",
     "text": [
      "Removed notch frequencies (Hz):\n",
      "     60.00 : 147211 windows\n"
     ]
    },
    {
     "name": "stderr",
     "output_type": "stream",
     "text": [
      "[Parallel(n_jobs=1)]: Done  13 tasks      | elapsed:  3.8min\n"
     ]
    },
    {
     "name": "stdout",
     "output_type": "stream",
     "text": [
      "Removed notch frequencies (Hz):\n",
      "     60.00 : 158537 windows\n"
     ]
    },
    {
     "name": "stderr",
     "output_type": "stream",
     "text": [
      "[Parallel(n_jobs=1)]: Done  14 tasks      | elapsed:  4.5min\n"
     ]
    },
    {
     "name": "stdout",
     "output_type": "stream",
     "text": [
      "Removed notch frequencies (Hz):\n",
      "     60.00 : 169863 windows\n"
     ]
    },
    {
     "name": "stderr",
     "output_type": "stream",
     "text": [
      "[Parallel(n_jobs=1)]: Done  15 tasks      | elapsed:  5.4min\n"
     ]
    },
    {
     "name": "stdout",
     "output_type": "stream",
     "text": [
      "Removed notch frequencies (Hz):\n",
      "     60.00 : 181189 windows\n"
     ]
    },
    {
     "name": "stderr",
     "output_type": "stream",
     "text": [
      "[Parallel(n_jobs=1)]: Done  16 tasks      | elapsed:  6.5min\n"
     ]
    },
    {
     "name": "stdout",
     "output_type": "stream",
     "text": [
      "Removed notch frequencies (Hz):\n",
      "     60.00 : 192513 windows\n"
     ]
    },
    {
     "name": "stderr",
     "output_type": "stream",
     "text": [
      "[Parallel(n_jobs=1)]: Done  17 tasks      | elapsed:  7.6min\n"
     ]
    },
    {
     "name": "stdout",
     "output_type": "stream",
     "text": [
      "Removed notch frequencies (Hz):\n",
      "     60.00 : 203836 windows\n"
     ]
    },
    {
     "name": "stderr",
     "output_type": "stream",
     "text": [
      "[Parallel(n_jobs=1)]: Done  18 tasks      | elapsed:  9.0min\n"
     ]
    },
    {
     "name": "stdout",
     "output_type": "stream",
     "text": [
      "Removed notch frequencies (Hz):\n",
      "     60.00 : 215159 windows\n"
     ]
    },
    {
     "name": "stderr",
     "output_type": "stream",
     "text": [
      "[Parallel(n_jobs=1)]: Done  19 tasks      | elapsed: 10.5min\n"
     ]
    },
    {
     "name": "stdout",
     "output_type": "stream",
     "text": [
      "Removed notch frequencies (Hz):\n",
      "     60.00 : 226482 windows\n"
     ]
    },
    {
     "name": "stderr",
     "output_type": "stream",
     "text": [
      "[Parallel(n_jobs=1)]: Done  20 tasks      | elapsed: 12.2min\n"
     ]
    },
    {
     "name": "stdout",
     "output_type": "stream",
     "text": [
      "Removed notch frequencies (Hz):\n",
      "     60.00 : 237806 windows\n"
     ]
    },
    {
     "name": "stderr",
     "output_type": "stream",
     "text": [
      "[Parallel(n_jobs=1)]: Done  21 tasks      | elapsed: 14.1min\n"
     ]
    },
    {
     "name": "stdout",
     "output_type": "stream",
     "text": [
      "Removed notch frequencies (Hz):\n",
      "     60.00 : 249130 windows\n"
     ]
    },
    {
     "name": "stderr",
     "output_type": "stream",
     "text": [
      "[Parallel(n_jobs=1)]: Done  22 tasks      | elapsed: 16.2min\n"
     ]
    },
    {
     "name": "stdout",
     "output_type": "stream",
     "text": [
      "Removed notch frequencies (Hz):\n",
      "     60.00 : 260454 windows\n"
     ]
    },
    {
     "name": "stderr",
     "output_type": "stream",
     "text": [
      "[Parallel(n_jobs=1)]: Done  23 tasks      | elapsed: 18.5min\n"
     ]
    },
    {
     "name": "stdout",
     "output_type": "stream",
     "text": [
      "Removed notch frequencies (Hz):\n",
      "     60.00 : 271778 windows\n"
     ]
    },
    {
     "name": "stderr",
     "output_type": "stream",
     "text": [
      "[Parallel(n_jobs=1)]: Done  24 tasks      | elapsed: 21.0min\n"
     ]
    },
    {
     "name": "stdout",
     "output_type": "stream",
     "text": [
      "Removed notch frequencies (Hz):\n",
      "     60.00 : 283102 windows\n"
     ]
    },
    {
     "name": "stderr",
     "output_type": "stream",
     "text": [
      "[Parallel(n_jobs=1)]: Done  25 tasks      | elapsed: 23.7min\n"
     ]
    },
    {
     "name": "stdout",
     "output_type": "stream",
     "text": [
      "Removed notch frequencies (Hz):\n",
      "     60.00 : 294427 windows\n"
     ]
    },
    {
     "name": "stderr",
     "output_type": "stream",
     "text": [
      "[Parallel(n_jobs=1)]: Done  26 tasks      | elapsed: 26.7min\n"
     ]
    },
    {
     "name": "stdout",
     "output_type": "stream",
     "text": [
      "Removed notch frequencies (Hz):\n",
      "     60.00 : 305752 windows\n"
     ]
    },
    {
     "name": "stderr",
     "output_type": "stream",
     "text": [
      "[Parallel(n_jobs=1)]: Done  27 tasks      | elapsed: 30.0min\n"
     ]
    },
    {
     "name": "stdout",
     "output_type": "stream",
     "text": [
      "Removed notch frequencies (Hz):\n",
      "     60.00 : 317075 windows\n"
     ]
    },
    {
     "name": "stderr",
     "output_type": "stream",
     "text": [
      "[Parallel(n_jobs=1)]: Done  28 tasks      | elapsed: 33.4min\n"
     ]
    },
    {
     "name": "stdout",
     "output_type": "stream",
     "text": [
      "Removed notch frequencies (Hz):\n",
      "     60.00 : 328399 windows\n"
     ]
    },
    {
     "name": "stderr",
     "output_type": "stream",
     "text": [
      "[Parallel(n_jobs=1)]: Done  29 tasks      | elapsed: 36.9min\n"
     ]
    },
    {
     "name": "stdout",
     "output_type": "stream",
     "text": [
      "Removed notch frequencies (Hz):\n",
      "     60.00 : 339723 windows\n"
     ]
    },
    {
     "name": "stderr",
     "output_type": "stream",
     "text": [
      "[Parallel(n_jobs=1)]: Done  30 tasks      | elapsed: 40.5min\n"
     ]
    },
    {
     "name": "stdout",
     "output_type": "stream",
     "text": [
      "Removed notch frequencies (Hz):\n",
      "     60.00 : 351047 windows\n"
     ]
    },
    {
     "name": "stderr",
     "output_type": "stream",
     "text": [
      "[Parallel(n_jobs=1)]: Done  31 tasks      | elapsed: 44.3min\n"
     ]
    },
    {
     "name": "stdout",
     "output_type": "stream",
     "text": [
      "Removed notch frequencies (Hz):\n",
      "     60.00 : 362370 windows\n"
     ]
    },
    {
     "name": "stderr",
     "output_type": "stream",
     "text": [
      "[Parallel(n_jobs=1)]: Done  32 tasks      | elapsed: 48.4min\n"
     ]
    },
    {
     "name": "stdout",
     "output_type": "stream",
     "text": [
      "Removed notch frequencies (Hz):\n",
      "     60.00 : 373693 windows\n"
     ]
    },
    {
     "name": "stderr",
     "output_type": "stream",
     "text": [
      "[Parallel(n_jobs=1)]: Done  33 tasks      | elapsed: 52.7min\n"
     ]
    },
    {
     "name": "stdout",
     "output_type": "stream",
     "text": [
      "Removed notch frequencies (Hz):\n",
      "     60.00 : 385018 windows\n"
     ]
    },
    {
     "name": "stderr",
     "output_type": "stream",
     "text": [
      "[Parallel(n_jobs=1)]: Done  34 tasks      | elapsed: 57.4min\n"
     ]
    },
    {
     "name": "stdout",
     "output_type": "stream",
     "text": [
      "Removed notch frequencies (Hz):\n",
      "     60.00 : 396344 windows\n"
     ]
    },
    {
     "name": "stderr",
     "output_type": "stream",
     "text": [
      "[Parallel(n_jobs=1)]: Done  35 tasks      | elapsed: 62.3min\n"
     ]
    },
    {
     "name": "stdout",
     "output_type": "stream",
     "text": [
      "Removed notch frequencies (Hz):\n",
      "     60.00 : 407670 windows\n"
     ]
    },
    {
     "name": "stderr",
     "output_type": "stream",
     "text": [
      "[Parallel(n_jobs=1)]: Done  36 tasks      | elapsed: 67.6min\n"
     ]
    },
    {
     "name": "stdout",
     "output_type": "stream",
     "text": [
      "Removed notch frequencies (Hz):\n",
      "     60.00 : 418997 windows\n"
     ]
    },
    {
     "name": "stderr",
     "output_type": "stream",
     "text": [
      "[Parallel(n_jobs=1)]: Done  37 tasks      | elapsed: 73.1min\n"
     ]
    },
    {
     "name": "stdout",
     "output_type": "stream",
     "text": [
      "Removed notch frequencies (Hz):\n",
      "     60.00 : 430322 windows\n"
     ]
    },
    {
     "name": "stderr",
     "output_type": "stream",
     "text": [
      "[Parallel(n_jobs=1)]: Done  38 tasks      | elapsed: 79.0min\n"
     ]
    },
    {
     "name": "stdout",
     "output_type": "stream",
     "text": [
      "Removed notch frequencies (Hz):\n",
      "     60.00 : 441648 windows\n"
     ]
    },
    {
     "name": "stderr",
     "output_type": "stream",
     "text": [
      "[Parallel(n_jobs=1)]: Done  39 tasks      | elapsed: 85.2min\n"
     ]
    },
    {
     "name": "stdout",
     "output_type": "stream",
     "text": [
      "Removed notch frequencies (Hz):\n",
      "     60.00 : 452973 windows\n"
     ]
    },
    {
     "name": "stderr",
     "output_type": "stream",
     "text": [
      "[Parallel(n_jobs=1)]: Done  40 tasks      | elapsed: 91.6min\n"
     ]
    },
    {
     "name": "stdout",
     "output_type": "stream",
     "text": [
      "Removed notch frequencies (Hz):\n",
      "     60.00 : 464297 windows\n"
     ]
    },
    {
     "name": "stderr",
     "output_type": "stream",
     "text": [
      "[Parallel(n_jobs=1)]: Done  41 tasks      | elapsed: 98.4min\n"
     ]
    },
    {
     "name": "stdout",
     "output_type": "stream",
     "text": [
      "Removed notch frequencies (Hz):\n",
      "     60.00 : 475621 windows\n"
     ]
    },
    {
     "name": "stderr",
     "output_type": "stream",
     "text": [
      "[Parallel(n_jobs=1)]: Done  42 tasks      | elapsed: 105.6min\n"
     ]
    },
    {
     "name": "stdout",
     "output_type": "stream",
     "text": [
      "Removed notch frequencies (Hz):\n",
      "     60.00 : 486942 windows\n"
     ]
    },
    {
     "name": "stderr",
     "output_type": "stream",
     "text": [
      "[Parallel(n_jobs=1)]: Done  43 tasks      | elapsed: 113.1min\n"
     ]
    },
    {
     "name": "stdout",
     "output_type": "stream",
     "text": [
      "Removed notch frequencies (Hz):\n",
      "     60.00 : 498266 windows\n"
     ]
    },
    {
     "name": "stderr",
     "output_type": "stream",
     "text": [
      "[Parallel(n_jobs=1)]: Done  44 tasks      | elapsed: 121.0min\n"
     ]
    },
    {
     "name": "stdout",
     "output_type": "stream",
     "text": [
      "Removed notch frequencies (Hz):\n",
      "     60.00 : 509591 windows\n"
     ]
    },
    {
     "name": "stderr",
     "output_type": "stream",
     "text": [
      "[Parallel(n_jobs=1)]: Done  45 tasks      | elapsed: 129.4min\n"
     ]
    },
    {
     "name": "stdout",
     "output_type": "stream",
     "text": [
      "Removed notch frequencies (Hz):\n",
      "     60.00 : 520916 windows\n"
     ]
    },
    {
     "name": "stderr",
     "output_type": "stream",
     "text": [
      "[Parallel(n_jobs=1)]: Done  46 tasks      | elapsed: 138.1min\n"
     ]
    },
    {
     "name": "stdout",
     "output_type": "stream",
     "text": [
      "Removed notch frequencies (Hz):\n",
      "     60.00 : 532242 windows\n"
     ]
    },
    {
     "name": "stderr",
     "output_type": "stream",
     "text": [
      "[Parallel(n_jobs=1)]: Done  47 tasks      | elapsed: 147.2min\n"
     ]
    },
    {
     "name": "stdout",
     "output_type": "stream",
     "text": [
      "Removed notch frequencies (Hz):\n",
      "     60.00 : 543567 windows\n"
     ]
    },
    {
     "name": "stderr",
     "output_type": "stream",
     "text": [
      "[Parallel(n_jobs=1)]: Done  48 tasks      | elapsed: 157.3min\n"
     ]
    },
    {
     "name": "stdout",
     "output_type": "stream",
     "text": [
      "Removed notch frequencies (Hz):\n",
      "     60.00 : 554889 windows\n"
     ]
    },
    {
     "name": "stderr",
     "output_type": "stream",
     "text": [
      "[Parallel(n_jobs=1)]: Done  49 tasks      | elapsed: 167.1min\n"
     ]
    },
    {
     "name": "stdout",
     "output_type": "stream",
     "text": [
      "Removed notch frequencies (Hz):\n",
      "     60.00 : 566212 windows\n"
     ]
    },
    {
     "name": "stderr",
     "output_type": "stream",
     "text": [
      "[Parallel(n_jobs=1)]: Done  50 tasks      | elapsed: 177.6min\n"
     ]
    },
    {
     "name": "stdout",
     "output_type": "stream",
     "text": [
      "Removed notch frequencies (Hz):\n",
      "     60.00 : 577535 windows\n"
     ]
    },
    {
     "name": "stderr",
     "output_type": "stream",
     "text": [
      "[Parallel(n_jobs=1)]: Done  51 tasks      | elapsed: 188.4min\n"
     ]
    },
    {
     "name": "stdout",
     "output_type": "stream",
     "text": [
      "Removed notch frequencies (Hz):\n",
      "     60.00 : 588860 windows\n"
     ]
    },
    {
     "name": "stderr",
     "output_type": "stream",
     "text": [
      "[Parallel(n_jobs=1)]: Done  52 tasks      | elapsed: 199.6min\n"
     ]
    },
    {
     "name": "stdout",
     "output_type": "stream",
     "text": [
      "Removed notch frequencies (Hz):\n",
      "     60.00 : 600185 windows\n"
     ]
    },
    {
     "name": "stderr",
     "output_type": "stream",
     "text": [
      "[Parallel(n_jobs=1)]: Done  53 tasks      | elapsed: 211.4min\n"
     ]
    },
    {
     "name": "stdout",
     "output_type": "stream",
     "text": [
      "Removed notch frequencies (Hz):\n",
      "     60.00 : 611511 windows\n"
     ]
    },
    {
     "name": "stderr",
     "output_type": "stream",
     "text": [
      "[Parallel(n_jobs=1)]: Done  54 tasks      | elapsed: 223.6min\n"
     ]
    },
    {
     "name": "stdout",
     "output_type": "stream",
     "text": [
      "Removed notch frequencies (Hz):\n",
      "     60.00 : 622836 windows\n"
     ]
    },
    {
     "name": "stderr",
     "output_type": "stream",
     "text": [
      "[Parallel(n_jobs=1)]: Done  55 tasks      | elapsed: 236.3min\n"
     ]
    },
    {
     "name": "stdout",
     "output_type": "stream",
     "text": [
      "Removed notch frequencies (Hz):\n",
      "     60.00 : 634160 windows\n"
     ]
    },
    {
     "name": "stderr",
     "output_type": "stream",
     "text": [
      "[Parallel(n_jobs=1)]: Done  56 tasks      | elapsed: 249.6min\n"
     ]
    },
    {
     "name": "stdout",
     "output_type": "stream",
     "text": [
      "Removed notch frequencies (Hz):\n",
      "     60.00 : 645485 windows\n"
     ]
    },
    {
     "name": "stderr",
     "output_type": "stream",
     "text": [
      "[Parallel(n_jobs=1)]: Done  57 tasks      | elapsed: 263.3min\n"
     ]
    },
    {
     "name": "stdout",
     "output_type": "stream",
     "text": [
      "Removed notch frequencies (Hz):\n",
      "     60.00 : 656809 windows\n"
     ]
    },
    {
     "name": "stderr",
     "output_type": "stream",
     "text": [
      "[Parallel(n_jobs=1)]: Done  58 tasks      | elapsed: 277.9min\n"
     ]
    },
    {
     "name": "stdout",
     "output_type": "stream",
     "text": [
      "Removed notch frequencies (Hz):\n",
      "     60.00 : 668137 windows\n"
     ]
    },
    {
     "name": "stderr",
     "output_type": "stream",
     "text": [
      "[Parallel(n_jobs=1)]: Done  59 tasks      | elapsed: 292.8min\n"
     ]
    },
    {
     "name": "stdout",
     "output_type": "stream",
     "text": [
      "Removed notch frequencies (Hz):\n",
      "     60.00 : 679463 windows\n"
     ]
    },
    {
     "name": "stderr",
     "output_type": "stream",
     "text": [
      "[Parallel(n_jobs=1)]: Done  60 tasks      | elapsed: 308.1min\n"
     ]
    },
    {
     "name": "stdout",
     "output_type": "stream",
     "text": [
      "Removed notch frequencies (Hz):\n",
      "     60.00 : 690790 windows\n"
     ]
    },
    {
     "name": "stderr",
     "output_type": "stream",
     "text": [
      "[Parallel(n_jobs=1)]: Done  61 tasks      | elapsed: 324.3min\n"
     ]
    },
    {
     "name": "stdout",
     "output_type": "stream",
     "text": [
      "Removed notch frequencies (Hz):\n",
      "     60.00 : 702114 windows\n"
     ]
    },
    {
     "name": "stderr",
     "output_type": "stream",
     "text": [
      "[Parallel(n_jobs=1)]: Done  62 tasks      | elapsed: 341.2min\n"
     ]
    },
    {
     "name": "stdout",
     "output_type": "stream",
     "text": [
      "Removed notch frequencies (Hz):\n",
      "     60.00 : 713438 windows\n"
     ]
    },
    {
     "name": "stderr",
     "output_type": "stream",
     "text": [
      "[Parallel(n_jobs=1)]: Done  63 tasks      | elapsed: 358.5min\n"
     ]
    },
    {
     "name": "stdout",
     "output_type": "stream",
     "text": [
      "Removed notch frequencies (Hz):\n",
      "     60.00 : 724764 windows\n"
     ]
    },
    {
     "name": "stderr",
     "output_type": "stream",
     "text": [
      "[Parallel(n_jobs=1)]: Done  64 tasks      | elapsed: 376.6min\n"
     ]
    },
    {
     "name": "stdout",
     "output_type": "stream",
     "text": [
      "Removed notch frequencies (Hz):\n",
      "     60.00 : 736090 windows\n"
     ]
    },
    {
     "name": "stderr",
     "output_type": "stream",
     "text": [
      "[Parallel(n_jobs=1)]: Done  65 tasks      | elapsed: 395.6min\n"
     ]
    },
    {
     "name": "stdout",
     "output_type": "stream",
     "text": [
      "Removed notch frequencies (Hz):\n",
      "     60.00 : 747411 windows\n"
     ]
    },
    {
     "name": "stderr",
     "output_type": "stream",
     "text": [
      "[Parallel(n_jobs=1)]: Done  66 tasks      | elapsed: 415.0min\n"
     ]
    },
    {
     "name": "stdout",
     "output_type": "stream",
     "text": [
      "Removed notch frequencies (Hz):\n",
      "     60.00 : 758733 windows\n"
     ]
    },
    {
     "name": "stderr",
     "output_type": "stream",
     "text": [
      "[Parallel(n_jobs=1)]: Done  67 tasks      | elapsed: 434.9min\n"
     ]
    },
    {
     "name": "stdout",
     "output_type": "stream",
     "text": [
      "Removed notch frequencies (Hz):\n",
      "     60.00 : 770055 windows\n"
     ]
    },
    {
     "name": "stderr",
     "output_type": "stream",
     "text": [
      "[Parallel(n_jobs=1)]: Done  68 tasks      | elapsed: 455.7min\n"
     ]
    },
    {
     "name": "stdout",
     "output_type": "stream",
     "text": [
      "Removed notch frequencies (Hz):\n",
      "     60.00 : 781379 windows\n"
     ]
    },
    {
     "name": "stderr",
     "output_type": "stream",
     "text": [
      "[Parallel(n_jobs=1)]: Done  69 tasks      | elapsed: 477.1min\n"
     ]
    },
    {
     "name": "stdout",
     "output_type": "stream",
     "text": [
      "Removed notch frequencies (Hz):\n",
      "     60.00 : 792703 windows\n"
     ]
    },
    {
     "name": "stderr",
     "output_type": "stream",
     "text": [
      "[Parallel(n_jobs=1)]: Done  70 tasks      | elapsed: 499.8min\n"
     ]
    },
    {
     "name": "stdout",
     "output_type": "stream",
     "text": [
      "Removed notch frequencies (Hz):\n",
      "     60.00 : 804027 windows\n"
     ]
    },
    {
     "name": "stderr",
     "output_type": "stream",
     "text": [
      "[Parallel(n_jobs=1)]: Done  71 tasks      | elapsed: 523.0min\n"
     ]
    },
    {
     "name": "stdout",
     "output_type": "stream",
     "text": [
      "Removed notch frequencies (Hz):\n",
      "     60.00 : 815351 windows\n"
     ]
    },
    {
     "name": "stderr",
     "output_type": "stream",
     "text": [
      "[Parallel(n_jobs=1)]: Done  72 tasks      | elapsed: 546.7min\n"
     ]
    },
    {
     "name": "stdout",
     "output_type": "stream",
     "text": [
      "Removed notch frequencies (Hz):\n",
      "     60.00 : 826674 windows\n"
     ]
    },
    {
     "name": "stderr",
     "output_type": "stream",
     "text": [
      "[Parallel(n_jobs=1)]: Done  73 tasks      | elapsed: 571.1min\n"
     ]
    },
    {
     "name": "stdout",
     "output_type": "stream",
     "text": [
      "Removed notch frequencies (Hz):\n",
      "     60.00 : 838000 windows\n"
     ]
    },
    {
     "name": "stderr",
     "output_type": "stream",
     "text": [
      "[Parallel(n_jobs=1)]: Done  74 tasks      | elapsed: 596.5min\n"
     ]
    },
    {
     "name": "stdout",
     "output_type": "stream",
     "text": [
      "Removed notch frequencies (Hz):\n",
      "     60.00 : 849325 windows\n"
     ]
    },
    {
     "name": "stderr",
     "output_type": "stream",
     "text": [
      "[Parallel(n_jobs=1)]: Done  75 tasks      | elapsed: 622.9min\n"
     ]
    },
    {
     "name": "stdout",
     "output_type": "stream",
     "text": [
      "Removed notch frequencies (Hz):\n",
      "     60.00 : 860650 windows\n"
     ]
    },
    {
     "name": "stderr",
     "output_type": "stream",
     "text": [
      "[Parallel(n_jobs=1)]: Done  76 tasks      | elapsed: 650.0min\n"
     ]
    },
    {
     "name": "stdout",
     "output_type": "stream",
     "text": [
      "Removed notch frequencies (Hz):\n",
      "     60.00 : 871972 windows\n"
     ]
    },
    {
     "name": "stderr",
     "output_type": "stream",
     "text": [
      "[Parallel(n_jobs=1)]: Done  77 tasks      | elapsed: 678.3min\n"
     ]
    },
    {
     "name": "stdout",
     "output_type": "stream",
     "text": [
      "Removed notch frequencies (Hz):\n",
      "     60.00 : 883296 windows\n"
     ]
    },
    {
     "name": "stderr",
     "output_type": "stream",
     "text": [
      "[Parallel(n_jobs=1)]: Done  78 tasks      | elapsed: 707.3min\n"
     ]
    },
    {
     "name": "stdout",
     "output_type": "stream",
     "text": [
      "Removed notch frequencies (Hz):\n",
      "     60.00 : 894619 windows\n"
     ]
    },
    {
     "name": "stderr",
     "output_type": "stream",
     "text": [
      "[Parallel(n_jobs=1)]: Done  79 tasks      | elapsed: 736.9min\n"
     ]
    },
    {
     "name": "stdout",
     "output_type": "stream",
     "text": [
      "Removed notch frequencies (Hz):\n",
      "     60.00 : 905941 windows\n"
     ]
    },
    {
     "name": "stderr",
     "output_type": "stream",
     "text": [
      "[Parallel(n_jobs=1)]: Done  80 tasks      | elapsed: 767.7min\n",
      "[Parallel(n_jobs=1)]: Done  80 tasks      | elapsed: 795.1min\n"
     ]
    },
    {
     "ename": "KeyboardInterrupt",
     "evalue": "",
     "output_type": "error",
     "traceback": [
      "\u001B[1;31m---------------------------------------------------------------------------\u001B[0m",
      "\u001B[1;31mKeyboardInterrupt\u001B[0m                         Traceback (most recent call last)",
      "Cell \u001B[1;32mIn[23], line 1\u001B[0m\n\u001B[1;32m----> 1\u001B[0m filt \u001B[38;5;241m=\u001B[39m \u001B[43mline_filter\u001B[49m\u001B[43m(\u001B[49m\u001B[43mraw\u001B[49m\u001B[43m,\u001B[49m\n\u001B[0;32m      2\u001B[0m \u001B[43m                   \u001B[49m\u001B[43mmt_bandwidth\u001B[49m\u001B[38;5;241;43m=\u001B[39;49m\u001B[38;5;241;43m10.\u001B[39;49m\u001B[43m,\u001B[49m\n\u001B[0;32m      3\u001B[0m \u001B[43m                   \u001B[49m\u001B[43mn_jobs\u001B[49m\u001B[38;5;241;43m=\u001B[39;49m\u001B[38;5;241;43m1\u001B[39;49m\u001B[43m,\u001B[49m\n\u001B[0;32m      4\u001B[0m \u001B[43m                   \u001B[49m\u001B[43mfilter_length\u001B[49m\u001B[38;5;241;43m=\u001B[39;49m\u001B[38;5;124;43m'\u001B[39;49m\u001B[38;5;124;43m700ms\u001B[39;49m\u001B[38;5;124;43m'\u001B[39;49m\u001B[43m,\u001B[49m\n\u001B[0;32m      5\u001B[0m \u001B[43m                   \u001B[49m\u001B[43mverbose\u001B[49m\u001B[38;5;241;43m=\u001B[39;49m\u001B[38;5;241;43m10\u001B[39;49m\u001B[43m,\u001B[49m\n\u001B[0;32m      6\u001B[0m \u001B[43m                   \u001B[49m\u001B[43mfreqs\u001B[49m\u001B[38;5;241;43m=\u001B[39;49m\u001B[43m[\u001B[49m\u001B[38;5;241;43m60\u001B[39;49m\u001B[43m]\u001B[49m\u001B[43m,\u001B[49m\n\u001B[0;32m      7\u001B[0m \u001B[43m                   \u001B[49m\u001B[43mnotch_widths\u001B[49m\u001B[38;5;241;43m=\u001B[39;49m\u001B[38;5;241;43m20\u001B[39;49m\u001B[43m)\u001B[49m\n",
      "File \u001B[1;32m<decorator-gen-499>:10\u001B[0m, in \u001B[0;36mline_filter\u001B[1;34m(raw, fs, freqs, filter_length, notch_widths, mt_bandwidth, p_value, picks, n_jobs, adaptive, low_bias, copy, verbose)\u001B[0m\n",
      "File \u001B[1;32m~\\AppData\\Local\\miniconda3\\envs\\ieeg\\Lib\\site-packages\\ieeg\\mt_filter.py:157\u001B[0m, in \u001B[0;36mline_filter\u001B[1;34m(raw, fs, freqs, filter_length, notch_widths, mt_bandwidth, p_value, picks, n_jobs, adaptive, low_bias, copy, verbose)\u001B[0m\n\u001B[0;32m    151\u001B[0m filter_length: \u001B[38;5;28mint\u001B[39m \u001B[38;5;241m=\u001B[39m \u001B[38;5;28mmin\u001B[39m(mt_utils\u001B[38;5;241m.\u001B[39mto_samples(filter_length, fs),\n\u001B[0;32m    152\u001B[0m                          x\u001B[38;5;241m.\u001B[39mshape[\u001B[38;5;241m-\u001B[39m\u001B[38;5;241m1\u001B[39m])\n\u001B[0;32m    154\u001B[0m process \u001B[38;5;241m=\u001B[39m WindowingRemover(fs, freqs, notch_widths, filter_length,\n\u001B[0;32m    155\u001B[0m                            adaptive, low_bias, mt_bandwidth, p_value)\n\u001B[1;32m--> 157\u001B[0m filt\u001B[38;5;241m.\u001B[39m_data[data_idx] \u001B[38;5;241m=\u001B[39m \u001B[43mmt_spectrum_proc\u001B[49m\u001B[43m(\u001B[49m\u001B[43mx\u001B[49m\u001B[43m,\u001B[49m\u001B[43m \u001B[49m\u001B[43mprocess\u001B[49m\u001B[43m,\u001B[49m\u001B[43m \u001B[49m\u001B[43mpicks\u001B[49m\u001B[43m,\u001B[49m\u001B[43m \u001B[49m\u001B[43mn_jobs\u001B[49m\u001B[43m)\u001B[49m\n\u001B[0;32m    159\u001B[0m \u001B[38;5;28;01mreturn\u001B[39;00m filt\n",
      "File \u001B[1;32m~\\AppData\\Local\\miniconda3\\envs\\ieeg\\Lib\\site-packages\\ieeg\\mt_filter.py:168\u001B[0m, in \u001B[0;36mmt_spectrum_proc\u001B[1;34m(x, process, picks, n_jobs)\u001B[0m\n\u001B[0;32m    165\u001B[0m \u001B[38;5;66;03m# set up array for filtering, reshape to 2D, operate on last axis\u001B[39;00m\n\u001B[0;32m    166\u001B[0m x, orig_shape, picks \u001B[38;5;241m=\u001B[39m _prep_for_filtering(x, picks)\n\u001B[1;32m--> 168\u001B[0m \u001B[43mproc_array\u001B[49m\u001B[43m(\u001B[49m\u001B[43mprocess\u001B[49m\u001B[43m,\u001B[49m\u001B[43m \u001B[49m\u001B[43mx\u001B[49m\u001B[43m,\u001B[49m\u001B[43m \u001B[49m\u001B[43mn_jobs\u001B[49m\u001B[38;5;241;43m=\u001B[39;49m\u001B[43mn_jobs\u001B[49m\u001B[43m,\u001B[49m\u001B[43m \u001B[49m\u001B[43mdesc\u001B[49m\u001B[38;5;241;43m=\u001B[39;49m\u001B[38;5;124;43m\"\u001B[39;49m\u001B[38;5;124;43mChannels\u001B[39;49m\u001B[38;5;124;43m\"\u001B[39;49m\u001B[43m)\u001B[49m\n\u001B[0;32m    170\u001B[0m x\u001B[38;5;241m.\u001B[39mshape \u001B[38;5;241m=\u001B[39m orig_shape\n\u001B[0;32m    171\u001B[0m \u001B[38;5;28;01mreturn\u001B[39;00m x\n",
      "File \u001B[1;32m~\\AppData\\Local\\miniconda3\\envs\\ieeg\\Lib\\site-packages\\ieeg\\process.py:219\u001B[0m, in \u001B[0;36mproc_array\u001B[1;34m(func, arr_in, axes, n_jobs, desc, inplace, **kwargs)\u001B[0m\n\u001B[0;32m    215\u001B[0m gen \u001B[38;5;241m=\u001B[39m Parallel(n_jobs, return_as\u001B[38;5;241m=\u001B[39m\u001B[38;5;124m'\u001B[39m\u001B[38;5;124mgenerator\u001B[39m\u001B[38;5;124m'\u001B[39m, verbose\u001B[38;5;241m=\u001B[39m\u001B[38;5;241m40\u001B[39m)(\n\u001B[0;32m    216\u001B[0m     delayed(func)(x_, \u001B[38;5;241m*\u001B[39m\u001B[38;5;241m*\u001B[39mkwargs) \u001B[38;5;28;01mfor\u001B[39;00m x_ \u001B[38;5;129;01min\u001B[39;00m array_gen)\n\u001B[0;32m    218\u001B[0m \u001B[38;5;66;03m# Create process pool and apply the function in parallel\u001B[39;00m\n\u001B[1;32m--> 219\u001B[0m \u001B[43m\u001B[49m\u001B[38;5;28;43;01mfor\u001B[39;49;00m\u001B[43m \u001B[49m\u001B[43mout\u001B[49m\u001B[43m,\u001B[49m\u001B[43m \u001B[49m\u001B[43mind\u001B[49m\u001B[43m \u001B[49m\u001B[38;5;129;43;01min\u001B[39;49;00m\u001B[43m \u001B[49m\u001B[38;5;28;43mzip\u001B[39;49m\u001B[43m(\u001B[49m\u001B[43mgen\u001B[49m\u001B[43m,\u001B[49m\u001B[43m \u001B[49m\u001B[43mcross_sect_ind\u001B[49m\u001B[43m)\u001B[49m\u001B[43m:\u001B[49m\n\u001B[0;32m    220\u001B[0m \u001B[43m    \u001B[49m\u001B[43marr_out\u001B[49m\u001B[43m[\u001B[49m\u001B[43mind\u001B[49m\u001B[43m]\u001B[49m\u001B[43m \u001B[49m\u001B[38;5;241;43m=\u001B[39;49m\u001B[43m \u001B[49m\u001B[43mout\u001B[49m\n\u001B[0;32m    222\u001B[0m \u001B[38;5;28;01mreturn\u001B[39;00m arr_out\n",
      "File \u001B[1;32m~\\AppData\\Local\\miniconda3\\envs\\ieeg\\Lib\\site-packages\\joblib\\parallel.py:1847\u001B[0m, in \u001B[0;36mParallel._get_sequential_output\u001B[1;34m(self, iterable)\u001B[0m\n\u001B[0;32m   1845\u001B[0m \u001B[38;5;28mself\u001B[39m\u001B[38;5;241m.\u001B[39mn_dispatched_batches \u001B[38;5;241m+\u001B[39m\u001B[38;5;241m=\u001B[39m \u001B[38;5;241m1\u001B[39m\n\u001B[0;32m   1846\u001B[0m \u001B[38;5;28mself\u001B[39m\u001B[38;5;241m.\u001B[39mn_dispatched_tasks \u001B[38;5;241m+\u001B[39m\u001B[38;5;241m=\u001B[39m \u001B[38;5;241m1\u001B[39m\n\u001B[1;32m-> 1847\u001B[0m res \u001B[38;5;241m=\u001B[39m \u001B[43mfunc\u001B[49m\u001B[43m(\u001B[49m\u001B[38;5;241;43m*\u001B[39;49m\u001B[43margs\u001B[49m\u001B[43m,\u001B[49m\u001B[43m \u001B[49m\u001B[38;5;241;43m*\u001B[39;49m\u001B[38;5;241;43m*\u001B[39;49m\u001B[43mkwargs\u001B[49m\u001B[43m)\u001B[49m\n\u001B[0;32m   1848\u001B[0m \u001B[38;5;28mself\u001B[39m\u001B[38;5;241m.\u001B[39mn_completed_tasks \u001B[38;5;241m+\u001B[39m\u001B[38;5;241m=\u001B[39m \u001B[38;5;241m1\u001B[39m\n\u001B[0;32m   1849\u001B[0m \u001B[38;5;28mself\u001B[39m\u001B[38;5;241m.\u001B[39mprint_progress()\n",
      "File \u001B[1;32m~\\AppData\\Local\\miniconda3\\envs\\ieeg\\Lib\\site-packages\\ieeg\\timefreq\\multitaper.py:234\u001B[0m, in \u001B[0;36mWindowingRemover.__call__\u001B[1;34m(self, x)\u001B[0m\n\u001B[0;32m    230\u001B[0m \u001B[38;5;28;01massert\u001B[39;00m idx[\u001B[38;5;241m0\u001B[39m] \u001B[38;5;241m==\u001B[39m n_times\n\u001B[0;32m    232\u001B[0m \u001B[38;5;66;03m# report found frequencies, but do some sanitizing first by binning\u001B[39;00m\n\u001B[0;32m    233\u001B[0m \u001B[38;5;66;03m# into 1 Hz bins\u001B[39;00m\n\u001B[1;32m--> 234\u001B[0m counts \u001B[38;5;241m=\u001B[39m Counter(\u001B[38;5;28;43msum\u001B[39;49m\u001B[43m(\u001B[49m\u001B[43m(\u001B[49m\u001B[43mnp\u001B[49m\u001B[38;5;241;43m.\u001B[39;49m\u001B[43munique\u001B[49m\u001B[43m(\u001B[49m\u001B[43mnp\u001B[49m\u001B[38;5;241;43m.\u001B[39;49m\u001B[43mround\u001B[49m\u001B[43m(\u001B[49m\u001B[43mff\u001B[49m\u001B[43m)\u001B[49m\u001B[43m)\u001B[49m\u001B[38;5;241;43m.\u001B[39;49m\u001B[43mtolist\u001B[49m\u001B[43m(\u001B[49m\u001B[43m)\u001B[49m\n\u001B[0;32m    235\u001B[0m \u001B[43m                      \u001B[49m\u001B[38;5;28;43;01mfor\u001B[39;49;00m\u001B[43m \u001B[49m\u001B[43mf\u001B[49m\u001B[43m \u001B[49m\u001B[38;5;129;43;01min\u001B[39;49;00m\u001B[43m \u001B[49m\u001B[38;5;28;43mself\u001B[39;49m\u001B[38;5;241;43m.\u001B[39;49m\u001B[43mrm_freqs\u001B[49m\u001B[43m \u001B[49m\u001B[38;5;28;43;01mfor\u001B[39;49;00m\u001B[43m \u001B[49m\u001B[43mff\u001B[49m\u001B[43m \u001B[49m\u001B[38;5;129;43;01min\u001B[39;49;00m\u001B[43m \u001B[49m\u001B[43mf\u001B[49m\u001B[43m)\u001B[49m\u001B[43m,\u001B[49m\u001B[43m \u001B[49m\u001B[38;5;28;43mlist\u001B[39;49m\u001B[43m(\u001B[49m\u001B[43m)\u001B[49m\u001B[43m)\u001B[49m)\n\u001B[0;32m    236\u001B[0m kind \u001B[38;5;241m=\u001B[39m \u001B[38;5;124m'\u001B[39m\u001B[38;5;124mDetected\u001B[39m\u001B[38;5;124m'\u001B[39m \u001B[38;5;28;01mif\u001B[39;00m \u001B[38;5;28mself\u001B[39m\u001B[38;5;241m.\u001B[39mline_freqs \u001B[38;5;129;01mis\u001B[39;00m \u001B[38;5;28;01mNone\u001B[39;00m \u001B[38;5;28;01melse\u001B[39;00m \u001B[38;5;124m'\u001B[39m\u001B[38;5;124mRemoved\u001B[39m\u001B[38;5;124m'\u001B[39m\n\u001B[0;32m    237\u001B[0m found_freqs \u001B[38;5;241m=\u001B[39m \u001B[38;5;124m'\u001B[39m\u001B[38;5;130;01m\\n\u001B[39;00m\u001B[38;5;124m'\u001B[39m\u001B[38;5;241m.\u001B[39mjoin(\u001B[38;5;124mf\u001B[39m\u001B[38;5;124m'\u001B[39m\u001B[38;5;124m    \u001B[39m\u001B[38;5;132;01m{\u001B[39;00mfreq\u001B[38;5;132;01m:\u001B[39;00m\u001B[38;5;124m6.2f\u001B[39m\u001B[38;5;132;01m}\u001B[39;00m\u001B[38;5;124m : \u001B[39m\u001B[38;5;124m'\u001B[39m\n\u001B[0;32m    238\u001B[0m                         \u001B[38;5;124mf\u001B[39m\u001B[38;5;124m'\u001B[39m\u001B[38;5;132;01m{\u001B[39;00mcounts[freq]\u001B[38;5;132;01m:\u001B[39;00m\u001B[38;5;124m4d\u001B[39m\u001B[38;5;132;01m}\u001B[39;00m\u001B[38;5;124m window\u001B[39m\u001B[38;5;132;01m{\u001B[39;00m_pl(counts[freq])\u001B[38;5;132;01m}\u001B[39;00m\u001B[38;5;124m'\u001B[39m\n\u001B[0;32m    239\u001B[0m                         \u001B[38;5;28;01mfor\u001B[39;00m freq \u001B[38;5;129;01min\u001B[39;00m \u001B[38;5;28msorted\u001B[39m(counts)) \u001B[38;5;129;01mor\u001B[39;00m \u001B[38;5;124m'\u001B[39m\u001B[38;5;124m    None\u001B[39m\u001B[38;5;124m'\u001B[39m\n",
      "File \u001B[1;32m~\\AppData\\Local\\miniconda3\\envs\\ieeg\\Lib\\site-packages\\ieeg\\timefreq\\multitaper.py:234\u001B[0m, in \u001B[0;36m<genexpr>\u001B[1;34m(.0)\u001B[0m\n\u001B[0;32m    230\u001B[0m \u001B[38;5;28;01massert\u001B[39;00m idx[\u001B[38;5;241m0\u001B[39m] \u001B[38;5;241m==\u001B[39m n_times\n\u001B[0;32m    232\u001B[0m \u001B[38;5;66;03m# report found frequencies, but do some sanitizing first by binning\u001B[39;00m\n\u001B[0;32m    233\u001B[0m \u001B[38;5;66;03m# into 1 Hz bins\u001B[39;00m\n\u001B[1;32m--> 234\u001B[0m counts \u001B[38;5;241m=\u001B[39m Counter(\u001B[38;5;28msum\u001B[39m((np\u001B[38;5;241m.\u001B[39munique(np\u001B[38;5;241m.\u001B[39mround(ff))\u001B[38;5;241m.\u001B[39mtolist()\n\u001B[0;32m    235\u001B[0m                       \u001B[38;5;28;01mfor\u001B[39;00m f \u001B[38;5;129;01min\u001B[39;00m \u001B[38;5;28mself\u001B[39m\u001B[38;5;241m.\u001B[39mrm_freqs \u001B[38;5;28;01mfor\u001B[39;00m ff \u001B[38;5;129;01min\u001B[39;00m f), \u001B[38;5;28mlist\u001B[39m()))\n\u001B[0;32m    236\u001B[0m kind \u001B[38;5;241m=\u001B[39m \u001B[38;5;124m'\u001B[39m\u001B[38;5;124mDetected\u001B[39m\u001B[38;5;124m'\u001B[39m \u001B[38;5;28;01mif\u001B[39;00m \u001B[38;5;28mself\u001B[39m\u001B[38;5;241m.\u001B[39mline_freqs \u001B[38;5;129;01mis\u001B[39;00m \u001B[38;5;28;01mNone\u001B[39;00m \u001B[38;5;28;01melse\u001B[39;00m \u001B[38;5;124m'\u001B[39m\u001B[38;5;124mRemoved\u001B[39m\u001B[38;5;124m'\u001B[39m\n\u001B[0;32m    237\u001B[0m found_freqs \u001B[38;5;241m=\u001B[39m \u001B[38;5;124m'\u001B[39m\u001B[38;5;130;01m\\n\u001B[39;00m\u001B[38;5;124m'\u001B[39m\u001B[38;5;241m.\u001B[39mjoin(\u001B[38;5;124mf\u001B[39m\u001B[38;5;124m'\u001B[39m\u001B[38;5;124m    \u001B[39m\u001B[38;5;132;01m{\u001B[39;00mfreq\u001B[38;5;132;01m:\u001B[39;00m\u001B[38;5;124m6.2f\u001B[39m\u001B[38;5;132;01m}\u001B[39;00m\u001B[38;5;124m : \u001B[39m\u001B[38;5;124m'\u001B[39m\n\u001B[0;32m    238\u001B[0m                         \u001B[38;5;124mf\u001B[39m\u001B[38;5;124m'\u001B[39m\u001B[38;5;132;01m{\u001B[39;00mcounts[freq]\u001B[38;5;132;01m:\u001B[39;00m\u001B[38;5;124m4d\u001B[39m\u001B[38;5;132;01m}\u001B[39;00m\u001B[38;5;124m window\u001B[39m\u001B[38;5;132;01m{\u001B[39;00m_pl(counts[freq])\u001B[38;5;132;01m}\u001B[39;00m\u001B[38;5;124m'\u001B[39m\n\u001B[0;32m    239\u001B[0m                         \u001B[38;5;28;01mfor\u001B[39;00m freq \u001B[38;5;129;01min\u001B[39;00m \u001B[38;5;28msorted\u001B[39m(counts)) \u001B[38;5;129;01mor\u001B[39;00m \u001B[38;5;124m'\u001B[39m\u001B[38;5;124m    None\u001B[39m\u001B[38;5;124m'\u001B[39m\n",
      "\u001B[1;31mKeyboardInterrupt\u001B[0m: "
     ]
    }
   ],
   "execution_count": 23
  },
  {
   "metadata": {},
   "cell_type": "markdown",
   "source": [
    "### Remove bad channels\n",
    "https://ieeg-pipelines.readthedocs.io/en/latest/auto_examples/plot_spectrograms.html\n"
   ],
   "id": "c08d79928351d52b"
  },
  {
   "metadata": {
    "ExecuteTime": {
     "end_time": "2024-09-30T14:35:23.909308Z",
     "start_time": "2024-09-30T14:35:23.780903Z"
    }
   },
   "cell_type": "code",
   "source": [
    "from ieeg.viz.ensemble import chan_grid\n",
    "from ieeg.timefreq.multitaper import spectrogram\n",
    "from ieeg.timefreq.utils import crop_pad\n",
    "from ieeg.navigate import channel_outlier_marker\n",
    "from ieeg.viz.parula import parula_map\n",
    "import numpy as np\n",
    "import mne"
   ],
   "id": "9ddb24bcba77db77",
   "outputs": [],
   "execution_count": 5
  },
  {
   "metadata": {
    "ExecuteTime": {
     "end_time": "2024-09-30T14:43:44.566657Z",
     "start_time": "2024-09-30T14:36:37.937956Z"
    }
   },
   "cell_type": "code",
   "source": [
    "# mark channel outliers as bad\n",
    "raw.info['bads'] = channel_outlier_marker(raw, 3)"
   ],
   "id": "ec90f9515f69b879",
   "outputs": [
    {
     "name": "stdout",
     "output_type": "stream",
     "text": [
      "outlier round 1 channels: ['RFOA18']\n",
      "outlier round 1 channels: ['RFOA18', 'RTMM11']\n",
      "outlier round 2 channels: ['RFOA18', 'RTMM11', 'RFAM4']\n",
      "outlier round 2 channels: ['RFOA18', 'RTMM11', 'RFAM4', 'RTAM13']\n",
      "outlier round 2 channels: ['RFOA18', 'RTMM11', 'RFAM4', 'RTAM13', 'RIP10']\n",
      "outlier round 3 channels: ['RFOA18', 'RTMM11', 'RFAM4', 'RTAM13', 'RIP10', 'RFOA2']\n",
      "outlier round 3 channels: ['RFOA18', 'RTMM11', 'RFAM4', 'RTAM13', 'RIP10', 'RFOA2', 'RFOA3']\n",
      "outlier round 3 channels: ['RFOA18', 'RTMM11', 'RFAM4', 'RTAM13', 'RIP10', 'RFOA2', 'RFOA3', 'RFOP1']\n",
      "outlier round 3 channels: ['RFOA18', 'RTMM11', 'RFAM4', 'RTAM13', 'RIP10', 'RFOA2', 'RFOA3', 'RFOP1', 'RTMM9']\n",
      "outlier round 4 channels: ['RFOA18', 'RTMM11', 'RFAM4', 'RTAM13', 'RIP10', 'RFOA2', 'RFOA3', 'RFOP1', 'RTMM9', 'RFOA7']\n",
      "outlier round 5 channels: ['RFOA18', 'RTMM11', 'RFAM4', 'RTAM13', 'RIP10', 'RFOA2', 'RFOA3', 'RFOP1', 'RTMM9', 'RFOA7', 'RFOA10']\n",
      "outlier round 6 channels: ['RFOA18', 'RTMM11', 'RFAM4', 'RTAM13', 'RIP10', 'RFOA2', 'RFOA3', 'RFOP1', 'RTMM9', 'RFOA7', 'RFOA10', 'RFP2']\n"
     ]
    }
   ],
   "execution_count": 6
  },
  {
   "metadata": {
    "ExecuteTime": {
     "end_time": "2024-09-30T14:45:58.243349Z",
     "start_time": "2024-09-30T14:45:05.200778Z"
    }
   },
   "cell_type": "code",
   "source": [
    "# Exclude bad channels\n",
    "raw.drop_channels(raw.info['bads'])\n",
    "raw.load_data()"
   ],
   "id": "a73036bd87dbd1bc",
   "outputs": [
    {
     "data": {
      "text/plain": [
       "<RawEDF | sub-D0101_task-LexicalDecRepDelay_acq-01_run-01_ieeg.edf, 221 x 8134656 (3972.0 s), ~13.39 GB, data loaded>"
      ],
      "text/html": [
       "<script type=\"text/javascript\">\n",
       "    const toggleVisibility = (className) => {\n",
       "\n",
       "  const elements = document.querySelectorAll(`.${className}`)\n",
       "\n",
       "  elements.forEach(element => {\n",
       "    if (element.classList.contains('repr-section-header')) {\n",
       "      // Don't collapse the section header row.\n",
       "       return\n",
       "    }\n",
       "    if (element.classList.contains('repr-element-collapsed')) {\n",
       "      // Force a reflow to ensure the display change takes effect before removing the class\n",
       "      element.classList.remove('repr-element-collapsed')\n",
       "      element.offsetHeight // This forces the browser to recalculate layout\n",
       "      element.classList.remove('repr-element-faded')\n",
       "    } else {\n",
       "      // Start transition to hide the element\n",
       "      element.classList.add('repr-element-faded')\n",
       "      element.addEventListener('transitionend', handler = (e) => {\n",
       "        if (e.propertyName === 'opacity' && getComputedStyle(element).opacity === '0.2') {\n",
       "          element.classList.add('repr-element-collapsed')\n",
       "          element.removeEventListener('transitionend', handler)\n",
       "        }\n",
       "      });\n",
       "    }\n",
       "  });\n",
       "\n",
       "  // Take care of button (adjust caret)\n",
       "  const button = document.querySelectorAll(`.repr-section-header.${className} > th.repr-section-toggle-col > button`)[0]\n",
       "  button.classList.toggle('collapsed')\n",
       "\n",
       "  // Take care of the tooltip of the section header row\n",
       "  const sectionHeaderRow = document.querySelectorAll(`tr.repr-section-header.${className}`)[0]\n",
       "  sectionHeaderRow.classList.toggle('collapsed')\n",
       "  sectionHeaderRow.title = sectionHeaderRow.title === 'Hide section' ? 'Show section' : 'Hide section'\n",
       "}\n",
       "</script>\n",
       "\n",
       "<style type=\"text/css\">\n",
       "    table.repr.table.table-hover.table-striped.table-sm.table-responsive.small {\n",
       "  /* Don't make rows wider than they need to be. */\n",
       "  display: inline;\n",
       "}\n",
       "\n",
       "table > tbody > tr.repr-element > td {\n",
       "  /* Apply a tighter layout to the table cells. */\n",
       "  padding-top: 0.1rem;\n",
       "  padding-bottom: 0.1rem;\n",
       "  padding-right: 1rem;\n",
       "}\n",
       "\n",
       "table > tbody > tr > td.repr-section-toggle-col {\n",
       "  /* Remove background and border of the first cell in every row\n",
       "     (this row is only used for the collapse / uncollapse caret)\n",
       "\n",
       "     TODO: Need to find a good solution for VS Code that works in both\n",
       "           light and dark mode. */\n",
       "  border-color: transparent;\n",
       "  --bs-table-accent-bg: transparent;\n",
       "}\n",
       "\n",
       "tr.repr-section-header {\n",
       "  /* Remove stripes from section header rows */\n",
       "  background-color: transparent;\n",
       "  border-color: transparent;\n",
       "  --bs-table-striped-bg: transparent;\n",
       "  cursor: pointer;\n",
       "}\n",
       "\n",
       "tr.repr-section-header > th {\n",
       "  text-align: left !important;\n",
       "  vertical-align: middle;\n",
       "}\n",
       "\n",
       ".repr-element, tr.repr-element > td {\n",
       "  opacity: 1;\n",
       "  text-align: left !important;\n",
       "}\n",
       "\n",
       ".repr-element-faded {\n",
       "  transition: 0.3s ease;\n",
       "  opacity: 0.2;\n",
       "}\n",
       "\n",
       ".repr-element-collapsed {\n",
       "  display: none;\n",
       "}\n",
       "\n",
       "/* Collapse / uncollapse button and the caret it contains. */\n",
       ".repr-section-toggle-col button {\n",
       "  cursor: pointer;\n",
       "  width: 1rem;\n",
       "  background-color: transparent;\n",
       "  border-color: transparent;\n",
       "}\n",
       "\n",
       "span.collapse-uncollapse-caret {\n",
       "  width: 1rem;\n",
       "  height: 1rem;\n",
       "  display: block;\n",
       "  background-repeat: no-repeat;\n",
       "  background-position: left;\n",
       "  background-size: contain;\n",
       "}\n",
       "\n",
       "/* The collapse / uncollapse carets were copied from the free Font Awesome collection and adjusted. */\n",
       "\n",
       "/* Default to black carets for light mode */\n",
       ".repr-section-toggle-col > button.collapsed > span.collapse-uncollapse-caret {\n",
       "  background-image: url('data:image/svg+xml;charset=utf8,<svg xmlns=\"http://www.w3.org/2000/svg\" viewBox=\"0 0 256 512\"><!--!Font Awesome Free 6.5.2 by @fontawesome - https://fontawesome.com License - https://fontawesome.com/license/free Copyright 2024 Fonticons, Inc.--><path fill=\"black\" d=\"M246.6 278.6c12.5-12.5 12.5-32.8 0-45.3l-128-128c-9.2-9.2-22.9-11.9-34.9-6.9s-19.8 16.6-19.8 29.6l0 256c0 12.9 7.8 24.6 19.8 29.6s25.7 2.2 34.9-6.9l128-128z\"/></svg>');\n",
       "}\n",
       "\n",
       ".repr-section-toggle-col\n",
       "  > button:not(.collapsed)\n",
       "  > span.collapse-uncollapse-caret {\n",
       "  background-image: url('data:image/svg+xml;charset=utf8,<svg xmlns=\"http://www.w3.org/2000/svg\" viewBox=\"0 0 320 512\"><!--!Font Awesome Free 6.5.2 by @fontawesome - https://fontawesome.com License - https://fontawesome.com/license/free Copyright 2024 Fonticons, Inc.--><path fill=\"black\" d=\"M137.4 374.6c12.5 12.5 32.8 12.5 45.3 0l128-128c9.2-9.2 11.9-22.9 6.9-34.9s-16.6-19.8-29.6-19.8L32 192c-12.9 0-24.6 7.8-29.6 19.8s-2.2 25.7 6.9 34.9l128 128z\"/></svg>');\n",
       "}\n",
       "\n",
       "/* Use white carets for dark mode */\n",
       "@media (prefers-color-scheme: dark) {\n",
       "  .repr-section-toggle-col > button.collapsed > span.collapse-uncollapse-caret {\n",
       "    background-image: url('data:image/svg+xml;charset=utf8,<svg xmlns=\"http://www.w3.org/2000/svg\" viewBox=\"0 0 256 512\"><!--!Font Awesome Free 6.5.2 by @fontawesome - https://fontawesome.com License - https://fontawesome.com/license/free Copyright 2024 Fonticons, Inc.--><path fill=\"white\" d=\"M246.6 278.6c12.5-12.5 12.5-32.8 0-45.3l-128-128c-9.2-9.2-22.9-11.9-34.9-6.9s-19.8 16.6-19.8 29.6l0 256c0 12.9 7.8 24.6 19.8 29.6s25.7 2.2 34.9-6.9l128-128z\"/></svg>');\n",
       "  }\n",
       "\n",
       "  .repr-section-toggle-col\n",
       "    > button:not(.collapsed)\n",
       "    > span.collapse-uncollapse-caret {\n",
       "    background-image: url('data:image/svg+xml;charset=utf8,<svg xmlns=\"http://www.w3.org/2000/svg\" viewBox=\"0 0 320 512\"><!--!Font Awesome Free 6.5.2 by @fontawesome - https://fontawesome.com License - https://fontawesome.com/license/free Copyright 2024 Fonticons, Inc.--><path fill=\"white\" d=\"M137.4 374.6c12.5 12.5 32.8 12.5 45.3 0l128-128c9.2-9.2 11.9-22.9 6.9-34.9s-16.6-19.8-29.6-19.8L32 192c-12.9 0-24.6 7.8-29.6 19.8s-2.2 25.7 6.9 34.9l128 128z\"/></svg>');\n",
       "  }\n",
       "}\n",
       "\n",
       ".channel-names-btn {\n",
       "  padding: 0;\n",
       "  border: none;\n",
       "  background: none;\n",
       "  text-decoration: underline;\n",
       "  text-decoration-style: dashed;\n",
       "  cursor: pointer;\n",
       "  color: #0d6efd;\n",
       "}\n",
       "\n",
       ".channel-names-btn:hover {\n",
       "  color: #0a58ca;\n",
       "}\n",
       "</style>\n",
       "\n",
       "\n",
       "\n",
       "<table class=\"repr table table-hover table-striped table-sm table-responsive small\">\n",
       "    \n",
       "\n",
       "\n",
       "\n",
       "\n",
       "\n",
       "\n",
       "\n",
       "<tr class=\"repr-section-header general-050b0e95-f3ec-440b-b7f2-b356c8e802fa\"  title=\"Hide section\" \n",
       "    onclick=\"toggleVisibility('general-050b0e95-f3ec-440b-b7f2-b356c8e802fa')\">\n",
       "    <th class=\"repr-section-toggle-col\">\n",
       "        <button>\n",
       "            \n",
       "            <span class=\"collapse-uncollapse-caret\"></span>\n",
       "        </button>\n",
       "    </th>\n",
       "    <th colspan=\"2\">\n",
       "        <strong>General</strong>\n",
       "    </th>\n",
       "</tr>\n",
       "\n",
       "<tr class=\"repr-element general-050b0e95-f3ec-440b-b7f2-b356c8e802fa \">\n",
       "    <td class=\"repr-section-toggle-col\"></td>\n",
       "    <td>Filename(s)</td>\n",
       "    <td>\n",
       "        \n",
       "        sub-D0101_task-LexicalDecRepDelay_acq-01_run-01_ieeg.edf\n",
       "        <br />\n",
       "        \n",
       "        sub-D0101_task-LexicalDecRepDelay_acq-01_run-02_ieeg.edf\n",
       "        <br />\n",
       "        \n",
       "        sub-D0101_task-LexicalDecRepDelay_acq-01_run-03_ieeg.edf\n",
       "        <br />\n",
       "        \n",
       "        sub-D0101_task-LexicalDecRepDelay_acq-01_run-04_ieeg.edf\n",
       "        \n",
       "        \n",
       "    </td>\n",
       "</tr>\n",
       "\n",
       "<tr class=\"repr-element general-050b0e95-f3ec-440b-b7f2-b356c8e802fa \">\n",
       "    <td class=\"repr-section-toggle-col\"></td>\n",
       "    <td>MNE object type</td>\n",
       "    <td>RawEDF</td>\n",
       "</tr>\n",
       "<tr class=\"repr-element general-050b0e95-f3ec-440b-b7f2-b356c8e802fa \">\n",
       "    <td class=\"repr-section-toggle-col\"></td>\n",
       "    <td>Measurement date</td>\n",
       "    \n",
       "    <td>2024-09-29 at 22:39:09 UTC</td>\n",
       "    \n",
       "</tr>\n",
       "<tr class=\"repr-element general-050b0e95-f3ec-440b-b7f2-b356c8e802fa \">\n",
       "    <td class=\"repr-section-toggle-col\"></td>\n",
       "    <td>Participant</td>\n",
       "    \n",
       "    \n",
       "    \n",
       "</tr>\n",
       "<tr class=\"repr-element general-050b0e95-f3ec-440b-b7f2-b356c8e802fa \">\n",
       "    <td class=\"repr-section-toggle-col\"></td>\n",
       "    <td>Experimenter</td>\n",
       "    \n",
       "    <td>Unknown</td>\n",
       "    \n",
       "</tr>\n",
       "    \n",
       "\n",
       "\n",
       "\n",
       "\n",
       "\n",
       "\n",
       "\n",
       "<tr class=\"repr-section-header acquisition-f903712f-6d6c-4565-aaf2-35ab018c8ba5\" \n",
       "    title=\"Hide section\"  onclick=\"toggleVisibility('acquisition-f903712f-6d6c-4565-aaf2-35ab018c8ba5')\">\n",
       "    <th class=\"repr-section-toggle-col\">\n",
       "        <button>\n",
       "            \n",
       "            <span class=\"collapse-uncollapse-caret\"></span>\n",
       "        </button>\n",
       "    </th>\n",
       "    <th colspan=\"2\">\n",
       "        <strong>Acquisition</strong>\n",
       "    </th>\n",
       "</tr>\n",
       "\n",
       "<tr class=\"repr-element acquisition-f903712f-6d6c-4565-aaf2-35ab018c8ba5 \">\n",
       "    <td class=\"repr-section-toggle-col\"></td>\n",
       "    <td>Duration</td>\n",
       "    <td>01:06:12 (HH:MM:SS)</td>\n",
       "</tr>\n",
       "\n",
       "\n",
       "\n",
       "\n",
       "\n",
       "\n",
       "\n",
       "\n",
       "<tr class=\"repr-element acquisition-f903712f-6d6c-4565-aaf2-35ab018c8ba5 \">\n",
       "    <td class=\"repr-section-toggle-col\"></td>\n",
       "    <td>Sampling frequency</td>\n",
       "    <td>2048.00 Hz</td>\n",
       "</tr>\n",
       "\n",
       "\n",
       "<tr class=\"repr-element acquisition-f903712f-6d6c-4565-aaf2-35ab018c8ba5 \">\n",
       "    <td class=\"repr-section-toggle-col\"></td>\n",
       "    <td>Time points</td>\n",
       "    <td>8,134,656</td>\n",
       "</tr>\n",
       "\n",
       "\n",
       "    \n",
       "\n",
       "\n",
       "\n",
       "\n",
       "\n",
       "\n",
       "\n",
       "<tr class=\"repr-section-header channels-4dd89890-f942-4bcc-a37a-52562e37a347\"  title=\"Hide section\" \n",
       "    onclick=\"toggleVisibility('channels-4dd89890-f942-4bcc-a37a-52562e37a347')\">\n",
       "    <th class=\"repr-section-toggle-col\">\n",
       "        <button>\n",
       "            \n",
       "            <span class=\"collapse-uncollapse-caret\"></span>\n",
       "        </button>\n",
       "    </th>\n",
       "    <th colspan=\"2\">\n",
       "        <strong>Channels</strong>\n",
       "    </th>\n",
       "</tr>\n",
       "\n",
       "\n",
       "<tr class=\"repr-element channels-4dd89890-f942-4bcc-a37a-52562e37a347 \">\n",
       "    <td class=\"repr-section-toggle-col\"></td>\n",
       "    <td>sEEG</td>\n",
       "    <td>\n",
       "        <button class=\"channel-names-btn\" onclick=\"alert('Good sEEG:\\n\\nRFP1, RFP3, RFP4, RFP5, RFP6, RFP7, RFP8, RFP9, RFP10, RFP11, RFP12, RFP13, RFP14, RFP15, RFAS1, RFAS2, RFAS3, RFAS4, RFAS5, RFAS6, RFAS7, RFAS8, RFAS9, RFAS10, RFMS1, RFMS2, RFMS3, RFMS4, RFMS5, RFMS6, RFMS7, RFMS8, RFMS9, RFMS10, RFMS11, RFMS12, RFPS1, RFPS2, RFPS3, RFPS4, RFPS5, RFPS6, RFPS7, RFPS8, RFPS9, RFPS10, RFAM1, RFAM2, RFAM3, RFAM5, RFAM6, RFAM7, RFAM8, RFAM9, RFAM10, RFAM11, RFAM12, RFMM1, RFMM2, RFMM3, RFMM4, RFMM5, RFMM6, RFMM7, RFMM8, RFMM9, RFMM10, RFMM11, RFMM12, RFPM1, RFPM2, RFPM3, RFPM4, RFPM5, RFPM6, RFPM7, RFPM8, RFPM9, RFPM10, RFPM11, RFPM12, RFPM13, RFPM14, RFPM15, RFOA1, RFOA4, RFOA5, RFOA6, RFOA8, RFOA9, RFOA11, RFOA12, RFOA13, RFOA14, RFOA15, RFOA16, RFOA17, RFOP2, RFOP3, RFOP4, RFOP5, RFOP6, RFOP7, RFOP8, RFOP9, RFOP10, RFOP11, RFOP12, RFOP13, RFOP14, RFOP15, RFOP16, RFOP17, RFOP18, RFAI1, RFAI2, RFAI3, RFAI4, RFAI5, RFAI6, RFAI7, RFAI8, RFMI1, RFMI2, RFMI3, RFMI4, RFMI5, RFMI6, RFMI7, RFMI8, RTP1, RTP2, RTP3, RTP4, RTP5, RTP6, RTP7, RTP8, RTP9, RTP10, RTP11, RTP12, RTAM1, RTAM2, RTAM3, RTAM4, RTAM5, RTAM6, RTAM7, RTAM8, RTAM9, RTAM10, RTAM11, RTAM12, RTAM14, RTAM15, RTMM1, RTMM2, RTMM3, RTMM4, RTMM5, RTMM6, RTMM7, RTMM8, RTMM10, RTMM12, RIA1, RIA2, RIA3, RIA4, RIA5, RIA6, RIA7, RIA8, RIA9, RIA10, RIA11, RIA12, RIA13, RIA14, RIA15, RIA16, RIA17, RIA18, RIP1, RIP2, RIP3, RIP4, RIP5, RIP6, RIP7, RIP8, RIP9, RIP11, RIP12, RIP13, RIP14, RIP15, RIP16, RIP17, RIP18, Fp1, Fp2, F3, F4, C3, C4, P3, P4, F7, F8, T3, T4, T5, T6, O1, O2, Fz, Cz, Pz')\" title=\"(Click to open in popup)&#13;&#13;RFP1, RFP3, RFP4, RFP5, RFP6, RFP7, RFP8, RFP9, RFP10, RFP11, RFP12, RFP13, RFP14, RFP15, RFAS1, RFAS2, RFAS3, RFAS4, RFAS5, RFAS6, RFAS7, RFAS8, RFAS9, RFAS10, RFMS1, RFMS2, RFMS3, RFMS4, RFMS5, RFMS6, RFMS7, RFMS8, RFMS9, RFMS10, RFMS11, RFMS12, RFPS1, RFPS2, RFPS3, RFPS4, RFPS5, RFPS6, RFPS7, RFPS8, RFPS9, RFPS10, RFAM1, RFAM2, RFAM3, RFAM5, RFAM6, RFAM7, RFAM8, RFAM9, RFAM10, RFAM11, RFAM12, RFMM1, RFMM2, RFMM3, RFMM4, RFMM5, RFMM6, RFMM7, RFMM8, RFMM9, RFMM10, RFMM11, RFMM12, RFPM1, RFPM2, RFPM3, RFPM4, RFPM5, RFPM6, RFPM7, RFPM8, RFPM9, RFPM10, RFPM11, RFPM12, RFPM13, RFPM14, RFPM15, RFOA1, RFOA4, RFOA5, RFOA6, RFOA8, RFOA9, RFOA11, RFOA12, RFOA13, RFOA14, RFOA15, RFOA16, RFOA17, RFOP2, RFOP3, RFOP4, RFOP5, RFOP6, RFOP7, RFOP8, RFOP9, RFOP10, RFOP11, RFOP12, RFOP13, RFOP14, RFOP15, RFOP16, RFOP17, RFOP18, RFAI1, RFAI2, RFAI3, RFAI4, RFAI5, RFAI6, RFAI7, RFAI8, RFMI1, RFMI2, RFMI3, RFMI4, RFMI5, RFMI6, RFMI7, RFMI8, RTP1, RTP2, RTP3, RTP4, RTP5, RTP6, RTP7, RTP8, RTP9, RTP10, RTP11, RTP12, RTAM1, RTAM2, RTAM3, RTAM4, RTAM5, RTAM6, RTAM7, RTAM8, RTAM9, RTAM10, RTAM11, RTAM12, RTAM14, RTAM15, RTMM1, RTMM2, RTMM3, RTMM4, RTMM5, RTMM6, RTMM7, RTMM8, RTMM10, RTMM12, RIA1, RIA2, RIA3, RIA4, RIA5, RIA6, RIA7, RIA8, RIA9, RIA10, RIA11, RIA12, RIA13, RIA14, RIA15, RIA16, RIA17, RIA18, RIP1, RIP2, RIP3, RIP4, RIP5, RIP6, RIP7, RIP8, RIP9, RIP11, RIP12, RIP13, RIP14, RIP15, RIP16, RIP17, RIP18, Fp1, Fp2, F3, F4, C3, C4, P3, P4, F7, F8, T3, T4, T5, T6, O1, O2, Fz, Cz, Pz\">\n",
       "            220\n",
       "        </button>\n",
       "\n",
       "        \n",
       "    </td>\n",
       "</tr>\n",
       "\n",
       "\n",
       "<tr class=\"repr-element channels-4dd89890-f942-4bcc-a37a-52562e37a347 \">\n",
       "    <td class=\"repr-section-toggle-col\"></td>\n",
       "    <td>Stimulus</td>\n",
       "    <td>\n",
       "        <button class=\"channel-names-btn\" onclick=\"alert('Good Stimulus:\\n\\nTrigger')\" title=\"(Click to open in popup)&#13;&#13;Trigger\">\n",
       "            1\n",
       "        </button>\n",
       "\n",
       "        \n",
       "    </td>\n",
       "</tr>\n",
       "\n",
       "\n",
       "<tr class=\"repr-element channels-4dd89890-f942-4bcc-a37a-52562e37a347 \">\n",
       "    <td class=\"repr-section-toggle-col\"></td>\n",
       "    <td>Head & sensor digitization</td>\n",
       "    \n",
       "    <td>Not available</td>\n",
       "    \n",
       "</tr>\n",
       "    \n",
       "\n",
       "\n",
       "\n",
       "\n",
       "\n",
       "\n",
       "\n",
       "<tr class=\"repr-section-header filters-86214817-d4bd-4bb6-bb52-96dd9b428085\"  title=\"Hide section\" \n",
       "    onclick=\"toggleVisibility('filters-86214817-d4bd-4bb6-bb52-96dd9b428085')\">\n",
       "    <th class=\"repr-section-toggle-col\">\n",
       "        <button>\n",
       "            \n",
       "            <span class=\"collapse-uncollapse-caret\"></span>\n",
       "        </button>\n",
       "    </th>\n",
       "    <th colspan=\"2\">\n",
       "        <strong>Filters</strong>\n",
       "    </th>\n",
       "</tr>\n",
       "\n",
       "<tr class=\"repr-element filters-86214817-d4bd-4bb6-bb52-96dd9b428085 \">\n",
       "    <td class=\"repr-section-toggle-col\"></td>\n",
       "    <td>Highpass</td>\n",
       "    <td>0.00 Hz</td>\n",
       "</tr>\n",
       "\n",
       "\n",
       "<tr class=\"repr-element filters-86214817-d4bd-4bb6-bb52-96dd9b428085 \">\n",
       "    <td class=\"repr-section-toggle-col\"></td>\n",
       "    <td>Lowpass</td>\n",
       "    <td>1024.00 Hz</td>\n",
       "</tr>\n",
       "\n",
       "\n",
       "</table>"
      ]
     },
     "execution_count": 7,
     "metadata": {},
     "output_type": "execute_result"
    }
   ],
   "execution_count": 7
  },
  {
   "metadata": {
    "ExecuteTime": {
     "end_time": "2024-09-30T14:46:52.657002Z",
     "start_time": "2024-09-30T14:46:38.093725Z"
    }
   },
   "cell_type": "code",
   "source": [
    "# CAR (common average reference)\n",
    "raw.set_eeg_reference(ref_channels=\"average\", ch_type='seeg')"
   ],
   "id": "446c1784652b3919",
   "outputs": [
    {
     "name": "stdout",
     "output_type": "stream",
     "text": [
      "Applying average reference.\n",
      "Applying a custom ('sEEG',) reference.\n"
     ]
    },
    {
     "data": {
      "text/plain": [
       "<RawEDF | sub-D0101_task-LexicalDecRepDelay_acq-01_run-01_ieeg.edf, 221 x 8134656 (3972.0 s), ~13.39 GB, data loaded>"
      ],
      "text/html": [
       "<script type=\"text/javascript\">\n",
       "    const toggleVisibility = (className) => {\n",
       "\n",
       "  const elements = document.querySelectorAll(`.${className}`)\n",
       "\n",
       "  elements.forEach(element => {\n",
       "    if (element.classList.contains('repr-section-header')) {\n",
       "      // Don't collapse the section header row.\n",
       "       return\n",
       "    }\n",
       "    if (element.classList.contains('repr-element-collapsed')) {\n",
       "      // Force a reflow to ensure the display change takes effect before removing the class\n",
       "      element.classList.remove('repr-element-collapsed')\n",
       "      element.offsetHeight // This forces the browser to recalculate layout\n",
       "      element.classList.remove('repr-element-faded')\n",
       "    } else {\n",
       "      // Start transition to hide the element\n",
       "      element.classList.add('repr-element-faded')\n",
       "      element.addEventListener('transitionend', handler = (e) => {\n",
       "        if (e.propertyName === 'opacity' && getComputedStyle(element).opacity === '0.2') {\n",
       "          element.classList.add('repr-element-collapsed')\n",
       "          element.removeEventListener('transitionend', handler)\n",
       "        }\n",
       "      });\n",
       "    }\n",
       "  });\n",
       "\n",
       "  // Take care of button (adjust caret)\n",
       "  const button = document.querySelectorAll(`.repr-section-header.${className} > th.repr-section-toggle-col > button`)[0]\n",
       "  button.classList.toggle('collapsed')\n",
       "\n",
       "  // Take care of the tooltip of the section header row\n",
       "  const sectionHeaderRow = document.querySelectorAll(`tr.repr-section-header.${className}`)[0]\n",
       "  sectionHeaderRow.classList.toggle('collapsed')\n",
       "  sectionHeaderRow.title = sectionHeaderRow.title === 'Hide section' ? 'Show section' : 'Hide section'\n",
       "}\n",
       "</script>\n",
       "\n",
       "<style type=\"text/css\">\n",
       "    table.repr.table.table-hover.table-striped.table-sm.table-responsive.small {\n",
       "  /* Don't make rows wider than they need to be. */\n",
       "  display: inline;\n",
       "}\n",
       "\n",
       "table > tbody > tr.repr-element > td {\n",
       "  /* Apply a tighter layout to the table cells. */\n",
       "  padding-top: 0.1rem;\n",
       "  padding-bottom: 0.1rem;\n",
       "  padding-right: 1rem;\n",
       "}\n",
       "\n",
       "table > tbody > tr > td.repr-section-toggle-col {\n",
       "  /* Remove background and border of the first cell in every row\n",
       "     (this row is only used for the collapse / uncollapse caret)\n",
       "\n",
       "     TODO: Need to find a good solution for VS Code that works in both\n",
       "           light and dark mode. */\n",
       "  border-color: transparent;\n",
       "  --bs-table-accent-bg: transparent;\n",
       "}\n",
       "\n",
       "tr.repr-section-header {\n",
       "  /* Remove stripes from section header rows */\n",
       "  background-color: transparent;\n",
       "  border-color: transparent;\n",
       "  --bs-table-striped-bg: transparent;\n",
       "  cursor: pointer;\n",
       "}\n",
       "\n",
       "tr.repr-section-header > th {\n",
       "  text-align: left !important;\n",
       "  vertical-align: middle;\n",
       "}\n",
       "\n",
       ".repr-element, tr.repr-element > td {\n",
       "  opacity: 1;\n",
       "  text-align: left !important;\n",
       "}\n",
       "\n",
       ".repr-element-faded {\n",
       "  transition: 0.3s ease;\n",
       "  opacity: 0.2;\n",
       "}\n",
       "\n",
       ".repr-element-collapsed {\n",
       "  display: none;\n",
       "}\n",
       "\n",
       "/* Collapse / uncollapse button and the caret it contains. */\n",
       ".repr-section-toggle-col button {\n",
       "  cursor: pointer;\n",
       "  width: 1rem;\n",
       "  background-color: transparent;\n",
       "  border-color: transparent;\n",
       "}\n",
       "\n",
       "span.collapse-uncollapse-caret {\n",
       "  width: 1rem;\n",
       "  height: 1rem;\n",
       "  display: block;\n",
       "  background-repeat: no-repeat;\n",
       "  background-position: left;\n",
       "  background-size: contain;\n",
       "}\n",
       "\n",
       "/* The collapse / uncollapse carets were copied from the free Font Awesome collection and adjusted. */\n",
       "\n",
       "/* Default to black carets for light mode */\n",
       ".repr-section-toggle-col > button.collapsed > span.collapse-uncollapse-caret {\n",
       "  background-image: url('data:image/svg+xml;charset=utf8,<svg xmlns=\"http://www.w3.org/2000/svg\" viewBox=\"0 0 256 512\"><!--!Font Awesome Free 6.5.2 by @fontawesome - https://fontawesome.com License - https://fontawesome.com/license/free Copyright 2024 Fonticons, Inc.--><path fill=\"black\" d=\"M246.6 278.6c12.5-12.5 12.5-32.8 0-45.3l-128-128c-9.2-9.2-22.9-11.9-34.9-6.9s-19.8 16.6-19.8 29.6l0 256c0 12.9 7.8 24.6 19.8 29.6s25.7 2.2 34.9-6.9l128-128z\"/></svg>');\n",
       "}\n",
       "\n",
       ".repr-section-toggle-col\n",
       "  > button:not(.collapsed)\n",
       "  > span.collapse-uncollapse-caret {\n",
       "  background-image: url('data:image/svg+xml;charset=utf8,<svg xmlns=\"http://www.w3.org/2000/svg\" viewBox=\"0 0 320 512\"><!--!Font Awesome Free 6.5.2 by @fontawesome - https://fontawesome.com License - https://fontawesome.com/license/free Copyright 2024 Fonticons, Inc.--><path fill=\"black\" d=\"M137.4 374.6c12.5 12.5 32.8 12.5 45.3 0l128-128c9.2-9.2 11.9-22.9 6.9-34.9s-16.6-19.8-29.6-19.8L32 192c-12.9 0-24.6 7.8-29.6 19.8s-2.2 25.7 6.9 34.9l128 128z\"/></svg>');\n",
       "}\n",
       "\n",
       "/* Use white carets for dark mode */\n",
       "@media (prefers-color-scheme: dark) {\n",
       "  .repr-section-toggle-col > button.collapsed > span.collapse-uncollapse-caret {\n",
       "    background-image: url('data:image/svg+xml;charset=utf8,<svg xmlns=\"http://www.w3.org/2000/svg\" viewBox=\"0 0 256 512\"><!--!Font Awesome Free 6.5.2 by @fontawesome - https://fontawesome.com License - https://fontawesome.com/license/free Copyright 2024 Fonticons, Inc.--><path fill=\"white\" d=\"M246.6 278.6c12.5-12.5 12.5-32.8 0-45.3l-128-128c-9.2-9.2-22.9-11.9-34.9-6.9s-19.8 16.6-19.8 29.6l0 256c0 12.9 7.8 24.6 19.8 29.6s25.7 2.2 34.9-6.9l128-128z\"/></svg>');\n",
       "  }\n",
       "\n",
       "  .repr-section-toggle-col\n",
       "    > button:not(.collapsed)\n",
       "    > span.collapse-uncollapse-caret {\n",
       "    background-image: url('data:image/svg+xml;charset=utf8,<svg xmlns=\"http://www.w3.org/2000/svg\" viewBox=\"0 0 320 512\"><!--!Font Awesome Free 6.5.2 by @fontawesome - https://fontawesome.com License - https://fontawesome.com/license/free Copyright 2024 Fonticons, Inc.--><path fill=\"white\" d=\"M137.4 374.6c12.5 12.5 32.8 12.5 45.3 0l128-128c9.2-9.2 11.9-22.9 6.9-34.9s-16.6-19.8-29.6-19.8L32 192c-12.9 0-24.6 7.8-29.6 19.8s-2.2 25.7 6.9 34.9l128 128z\"/></svg>');\n",
       "  }\n",
       "}\n",
       "\n",
       ".channel-names-btn {\n",
       "  padding: 0;\n",
       "  border: none;\n",
       "  background: none;\n",
       "  text-decoration: underline;\n",
       "  text-decoration-style: dashed;\n",
       "  cursor: pointer;\n",
       "  color: #0d6efd;\n",
       "}\n",
       "\n",
       ".channel-names-btn:hover {\n",
       "  color: #0a58ca;\n",
       "}\n",
       "</style>\n",
       "\n",
       "\n",
       "\n",
       "<table class=\"repr table table-hover table-striped table-sm table-responsive small\">\n",
       "    \n",
       "\n",
       "\n",
       "\n",
       "\n",
       "\n",
       "\n",
       "\n",
       "<tr class=\"repr-section-header general-99c65d60-ce77-494a-82f0-2a19052c606c\"  title=\"Hide section\" \n",
       "    onclick=\"toggleVisibility('general-99c65d60-ce77-494a-82f0-2a19052c606c')\">\n",
       "    <th class=\"repr-section-toggle-col\">\n",
       "        <button>\n",
       "            \n",
       "            <span class=\"collapse-uncollapse-caret\"></span>\n",
       "        </button>\n",
       "    </th>\n",
       "    <th colspan=\"2\">\n",
       "        <strong>General</strong>\n",
       "    </th>\n",
       "</tr>\n",
       "\n",
       "<tr class=\"repr-element general-99c65d60-ce77-494a-82f0-2a19052c606c \">\n",
       "    <td class=\"repr-section-toggle-col\"></td>\n",
       "    <td>Filename(s)</td>\n",
       "    <td>\n",
       "        \n",
       "        sub-D0101_task-LexicalDecRepDelay_acq-01_run-01_ieeg.edf\n",
       "        <br />\n",
       "        \n",
       "        sub-D0101_task-LexicalDecRepDelay_acq-01_run-02_ieeg.edf\n",
       "        <br />\n",
       "        \n",
       "        sub-D0101_task-LexicalDecRepDelay_acq-01_run-03_ieeg.edf\n",
       "        <br />\n",
       "        \n",
       "        sub-D0101_task-LexicalDecRepDelay_acq-01_run-04_ieeg.edf\n",
       "        \n",
       "        \n",
       "    </td>\n",
       "</tr>\n",
       "\n",
       "<tr class=\"repr-element general-99c65d60-ce77-494a-82f0-2a19052c606c \">\n",
       "    <td class=\"repr-section-toggle-col\"></td>\n",
       "    <td>MNE object type</td>\n",
       "    <td>RawEDF</td>\n",
       "</tr>\n",
       "<tr class=\"repr-element general-99c65d60-ce77-494a-82f0-2a19052c606c \">\n",
       "    <td class=\"repr-section-toggle-col\"></td>\n",
       "    <td>Measurement date</td>\n",
       "    \n",
       "    <td>2024-09-29 at 22:39:09 UTC</td>\n",
       "    \n",
       "</tr>\n",
       "<tr class=\"repr-element general-99c65d60-ce77-494a-82f0-2a19052c606c \">\n",
       "    <td class=\"repr-section-toggle-col\"></td>\n",
       "    <td>Participant</td>\n",
       "    \n",
       "    \n",
       "    \n",
       "</tr>\n",
       "<tr class=\"repr-element general-99c65d60-ce77-494a-82f0-2a19052c606c \">\n",
       "    <td class=\"repr-section-toggle-col\"></td>\n",
       "    <td>Experimenter</td>\n",
       "    \n",
       "    <td>Unknown</td>\n",
       "    \n",
       "</tr>\n",
       "    \n",
       "\n",
       "\n",
       "\n",
       "\n",
       "\n",
       "\n",
       "\n",
       "<tr class=\"repr-section-header acquisition-87c18588-a906-482b-8d95-4d31b4417037\" \n",
       "    title=\"Hide section\"  onclick=\"toggleVisibility('acquisition-87c18588-a906-482b-8d95-4d31b4417037')\">\n",
       "    <th class=\"repr-section-toggle-col\">\n",
       "        <button>\n",
       "            \n",
       "            <span class=\"collapse-uncollapse-caret\"></span>\n",
       "        </button>\n",
       "    </th>\n",
       "    <th colspan=\"2\">\n",
       "        <strong>Acquisition</strong>\n",
       "    </th>\n",
       "</tr>\n",
       "\n",
       "<tr class=\"repr-element acquisition-87c18588-a906-482b-8d95-4d31b4417037 \">\n",
       "    <td class=\"repr-section-toggle-col\"></td>\n",
       "    <td>Duration</td>\n",
       "    <td>01:06:12 (HH:MM:SS)</td>\n",
       "</tr>\n",
       "\n",
       "\n",
       "\n",
       "\n",
       "\n",
       "\n",
       "\n",
       "\n",
       "<tr class=\"repr-element acquisition-87c18588-a906-482b-8d95-4d31b4417037 \">\n",
       "    <td class=\"repr-section-toggle-col\"></td>\n",
       "    <td>Sampling frequency</td>\n",
       "    <td>2048.00 Hz</td>\n",
       "</tr>\n",
       "\n",
       "\n",
       "<tr class=\"repr-element acquisition-87c18588-a906-482b-8d95-4d31b4417037 \">\n",
       "    <td class=\"repr-section-toggle-col\"></td>\n",
       "    <td>Time points</td>\n",
       "    <td>8,134,656</td>\n",
       "</tr>\n",
       "\n",
       "\n",
       "    \n",
       "\n",
       "\n",
       "\n",
       "\n",
       "\n",
       "\n",
       "\n",
       "<tr class=\"repr-section-header channels-d1fd20fa-922b-4ef3-abd4-1ff36e677b1e\"  title=\"Hide section\" \n",
       "    onclick=\"toggleVisibility('channels-d1fd20fa-922b-4ef3-abd4-1ff36e677b1e')\">\n",
       "    <th class=\"repr-section-toggle-col\">\n",
       "        <button>\n",
       "            \n",
       "            <span class=\"collapse-uncollapse-caret\"></span>\n",
       "        </button>\n",
       "    </th>\n",
       "    <th colspan=\"2\">\n",
       "        <strong>Channels</strong>\n",
       "    </th>\n",
       "</tr>\n",
       "\n",
       "\n",
       "<tr class=\"repr-element channels-d1fd20fa-922b-4ef3-abd4-1ff36e677b1e \">\n",
       "    <td class=\"repr-section-toggle-col\"></td>\n",
       "    <td>sEEG</td>\n",
       "    <td>\n",
       "        <button class=\"channel-names-btn\" onclick=\"alert('Good sEEG:\\n\\nRFP1, RFP3, RFP4, RFP5, RFP6, RFP7, RFP8, RFP9, RFP10, RFP11, RFP12, RFP13, RFP14, RFP15, RFAS1, RFAS2, RFAS3, RFAS4, RFAS5, RFAS6, RFAS7, RFAS8, RFAS9, RFAS10, RFMS1, RFMS2, RFMS3, RFMS4, RFMS5, RFMS6, RFMS7, RFMS8, RFMS9, RFMS10, RFMS11, RFMS12, RFPS1, RFPS2, RFPS3, RFPS4, RFPS5, RFPS6, RFPS7, RFPS8, RFPS9, RFPS10, RFAM1, RFAM2, RFAM3, RFAM5, RFAM6, RFAM7, RFAM8, RFAM9, RFAM10, RFAM11, RFAM12, RFMM1, RFMM2, RFMM3, RFMM4, RFMM5, RFMM6, RFMM7, RFMM8, RFMM9, RFMM10, RFMM11, RFMM12, RFPM1, RFPM2, RFPM3, RFPM4, RFPM5, RFPM6, RFPM7, RFPM8, RFPM9, RFPM10, RFPM11, RFPM12, RFPM13, RFPM14, RFPM15, RFOA1, RFOA4, RFOA5, RFOA6, RFOA8, RFOA9, RFOA11, RFOA12, RFOA13, RFOA14, RFOA15, RFOA16, RFOA17, RFOP2, RFOP3, RFOP4, RFOP5, RFOP6, RFOP7, RFOP8, RFOP9, RFOP10, RFOP11, RFOP12, RFOP13, RFOP14, RFOP15, RFOP16, RFOP17, RFOP18, RFAI1, RFAI2, RFAI3, RFAI4, RFAI5, RFAI6, RFAI7, RFAI8, RFMI1, RFMI2, RFMI3, RFMI4, RFMI5, RFMI6, RFMI7, RFMI8, RTP1, RTP2, RTP3, RTP4, RTP5, RTP6, RTP7, RTP8, RTP9, RTP10, RTP11, RTP12, RTAM1, RTAM2, RTAM3, RTAM4, RTAM5, RTAM6, RTAM7, RTAM8, RTAM9, RTAM10, RTAM11, RTAM12, RTAM14, RTAM15, RTMM1, RTMM2, RTMM3, RTMM4, RTMM5, RTMM6, RTMM7, RTMM8, RTMM10, RTMM12, RIA1, RIA2, RIA3, RIA4, RIA5, RIA6, RIA7, RIA8, RIA9, RIA10, RIA11, RIA12, RIA13, RIA14, RIA15, RIA16, RIA17, RIA18, RIP1, RIP2, RIP3, RIP4, RIP5, RIP6, RIP7, RIP8, RIP9, RIP11, RIP12, RIP13, RIP14, RIP15, RIP16, RIP17, RIP18, Fp1, Fp2, F3, F4, C3, C4, P3, P4, F7, F8, T3, T4, T5, T6, O1, O2, Fz, Cz, Pz')\" title=\"(Click to open in popup)&#13;&#13;RFP1, RFP3, RFP4, RFP5, RFP6, RFP7, RFP8, RFP9, RFP10, RFP11, RFP12, RFP13, RFP14, RFP15, RFAS1, RFAS2, RFAS3, RFAS4, RFAS5, RFAS6, RFAS7, RFAS8, RFAS9, RFAS10, RFMS1, RFMS2, RFMS3, RFMS4, RFMS5, RFMS6, RFMS7, RFMS8, RFMS9, RFMS10, RFMS11, RFMS12, RFPS1, RFPS2, RFPS3, RFPS4, RFPS5, RFPS6, RFPS7, RFPS8, RFPS9, RFPS10, RFAM1, RFAM2, RFAM3, RFAM5, RFAM6, RFAM7, RFAM8, RFAM9, RFAM10, RFAM11, RFAM12, RFMM1, RFMM2, RFMM3, RFMM4, RFMM5, RFMM6, RFMM7, RFMM8, RFMM9, RFMM10, RFMM11, RFMM12, RFPM1, RFPM2, RFPM3, RFPM4, RFPM5, RFPM6, RFPM7, RFPM8, RFPM9, RFPM10, RFPM11, RFPM12, RFPM13, RFPM14, RFPM15, RFOA1, RFOA4, RFOA5, RFOA6, RFOA8, RFOA9, RFOA11, RFOA12, RFOA13, RFOA14, RFOA15, RFOA16, RFOA17, RFOP2, RFOP3, RFOP4, RFOP5, RFOP6, RFOP7, RFOP8, RFOP9, RFOP10, RFOP11, RFOP12, RFOP13, RFOP14, RFOP15, RFOP16, RFOP17, RFOP18, RFAI1, RFAI2, RFAI3, RFAI4, RFAI5, RFAI6, RFAI7, RFAI8, RFMI1, RFMI2, RFMI3, RFMI4, RFMI5, RFMI6, RFMI7, RFMI8, RTP1, RTP2, RTP3, RTP4, RTP5, RTP6, RTP7, RTP8, RTP9, RTP10, RTP11, RTP12, RTAM1, RTAM2, RTAM3, RTAM4, RTAM5, RTAM6, RTAM7, RTAM8, RTAM9, RTAM10, RTAM11, RTAM12, RTAM14, RTAM15, RTMM1, RTMM2, RTMM3, RTMM4, RTMM5, RTMM6, RTMM7, RTMM8, RTMM10, RTMM12, RIA1, RIA2, RIA3, RIA4, RIA5, RIA6, RIA7, RIA8, RIA9, RIA10, RIA11, RIA12, RIA13, RIA14, RIA15, RIA16, RIA17, RIA18, RIP1, RIP2, RIP3, RIP4, RIP5, RIP6, RIP7, RIP8, RIP9, RIP11, RIP12, RIP13, RIP14, RIP15, RIP16, RIP17, RIP18, Fp1, Fp2, F3, F4, C3, C4, P3, P4, F7, F8, T3, T4, T5, T6, O1, O2, Fz, Cz, Pz\">\n",
       "            220\n",
       "        </button>\n",
       "\n",
       "        \n",
       "    </td>\n",
       "</tr>\n",
       "\n",
       "\n",
       "<tr class=\"repr-element channels-d1fd20fa-922b-4ef3-abd4-1ff36e677b1e \">\n",
       "    <td class=\"repr-section-toggle-col\"></td>\n",
       "    <td>Stimulus</td>\n",
       "    <td>\n",
       "        <button class=\"channel-names-btn\" onclick=\"alert('Good Stimulus:\\n\\nTrigger')\" title=\"(Click to open in popup)&#13;&#13;Trigger\">\n",
       "            1\n",
       "        </button>\n",
       "\n",
       "        \n",
       "    </td>\n",
       "</tr>\n",
       "\n",
       "\n",
       "<tr class=\"repr-element channels-d1fd20fa-922b-4ef3-abd4-1ff36e677b1e \">\n",
       "    <td class=\"repr-section-toggle-col\"></td>\n",
       "    <td>Head & sensor digitization</td>\n",
       "    \n",
       "    <td>Not available</td>\n",
       "    \n",
       "</tr>\n",
       "    \n",
       "\n",
       "\n",
       "\n",
       "\n",
       "\n",
       "\n",
       "\n",
       "<tr class=\"repr-section-header filters-e7423ddd-4e1a-49e9-98fc-2a7c6bcc00c3\"  title=\"Hide section\" \n",
       "    onclick=\"toggleVisibility('filters-e7423ddd-4e1a-49e9-98fc-2a7c6bcc00c3')\">\n",
       "    <th class=\"repr-section-toggle-col\">\n",
       "        <button>\n",
       "            \n",
       "            <span class=\"collapse-uncollapse-caret\"></span>\n",
       "        </button>\n",
       "    </th>\n",
       "    <th colspan=\"2\">\n",
       "        <strong>Filters</strong>\n",
       "    </th>\n",
       "</tr>\n",
       "\n",
       "<tr class=\"repr-element filters-e7423ddd-4e1a-49e9-98fc-2a7c6bcc00c3 \">\n",
       "    <td class=\"repr-section-toggle-col\"></td>\n",
       "    <td>Highpass</td>\n",
       "    <td>0.00 Hz</td>\n",
       "</tr>\n",
       "\n",
       "\n",
       "<tr class=\"repr-element filters-e7423ddd-4e1a-49e9-98fc-2a7c6bcc00c3 \">\n",
       "    <td class=\"repr-section-toggle-col\"></td>\n",
       "    <td>Lowpass</td>\n",
       "    <td>1024.00 Hz</td>\n",
       "</tr>\n",
       "\n",
       "\n",
       "</table>"
      ]
     },
     "execution_count": 8,
     "metadata": {},
     "output_type": "execute_result"
    }
   ],
   "execution_count": 8
  },
  {
   "metadata": {
    "ExecuteTime": {
     "end_time": "2024-09-30T15:03:33.763156Z",
     "start_time": "2024-09-30T15:03:31.170734Z"
    }
   },
   "cell_type": "code",
   "source": "raw.plot()",
   "id": "b36493b707bf4cf4",
   "outputs": [
    {
     "data": {
      "text/plain": [
       "<mne_qt_browser._pg_figure.MNEQtBrowser at 0x1d406288b00>"
      ]
     },
     "execution_count": 12,
     "metadata": {},
     "output_type": "execute_result"
    }
   ],
   "execution_count": 12
  },
  {
   "metadata": {},
   "cell_type": "markdown",
   "source": "### Multitaper spectrogram plot",
   "id": "e9812c28e0300605"
  },
  {
   "metadata": {},
   "cell_type": "markdown",
   "source": "#### Calculate Spectra",
   "id": "bcf59cdf20d8555a"
  },
  {
   "metadata": {
    "ExecuteTime": {
     "end_time": "2024-09-30T16:20:41.858390Z",
     "start_time": "2024-09-30T15:11:06.393599Z"
    }
   },
   "cell_type": "code",
   "source": [
    "freq = np.arange(10, 200., 6.)\n",
    "spectra = spectrogram(raw, freq, 'CORRECT', -1.2, 1.2, 'Yes/No', -1.2, 0.2,\n",
    "                      n_jobs=1, verbose=10, time_bandwidth=10, n_cycles=freq/2)\n",
    "crop_pad(spectra, \"0.5s\")"
   ],
   "id": "aac6b3c15238b937",
   "outputs": [
    {
     "name": "stdout",
     "output_type": "stream",
     "text": [
      "Used Annotations descriptions: [np.str_('CORRECT'), np.str_('ERR'), np.str_('ERR_RESP_REP_MIS_FENIS'), np.str_('ERR_RESP_REP_MIS_KERIB'), np.str_('ERR_RESP_REP_MIS_zero'), np.str_('ERR_TASK_REP_YN'), np.str_('ERR_TASK_REP_YN '), np.str_('ERR_TASK_YN_REP'), np.str_('ERR_TASK_YN_REP '), np.str_('NOISY'), np.str_('Repeat'), np.str_('Speak'), np.str_('Yes/No'), np.str_('banic'), np.str_('baron'), np.str_('berin'), np.str_('bison'), np.str_('boril'), np.str_('cabin'), np.str_('caris'), np.str_('cazel'), np.str_('civic'), np.str_('civil'), np.str_('comet'), np.str_('delin'), np.str_('demon'), np.str_('devim'), np.str_('facet'), np.str_('fatal'), np.str_('focal'), np.str_('galed'), np.str_('galel'), np.str_('gapel'), np.str_('gorel'), np.str_('havel'), np.str_('haven'), np.str_('hazel'), np.str_('herib'), np.str_('janem'), np.str_('japel'), np.str_('jokel'), np.str_('kelic'), np.str_('labin'), np.str_('lamin'), np.str_('latin'), np.str_('legal'), np.str_('libel'), np.str_('likel'), np.str_('limid'), np.str_('lomic'), np.str_('madam'), np.str_('mafil'), np.str_('malim'), np.str_('manic'), np.str_('mason'), np.str_('menon'), np.str_('merit'), np.str_('minus'), np.str_('modem'), np.str_('molec'), np.str_('monit'), np.str_('nasal'), np.str_('naval'), np.str_('norel'), np.str_('nosen'), np.str_('palil'), np.str_('panel'), np.str_('panic'), np.str_('penal'), np.str_('petal'), np.str_('rabid'), np.str_('ranis'), np.str_('rigid'), np.str_('rival'), np.str_('roman'), np.str_('ronic'), np.str_('sanis'), np.str_('satin'), np.str_('seven'), np.str_('solid'), np.str_('solip'), np.str_('sonic'), np.str_('tanic'), np.str_('telen'), np.str_('tenet'), np.str_('terib'), np.str_('tonic'), np.str_('topic'), np.str_('torel'), np.str_('toric'), np.str_('tulip'), np.str_('valuk'), np.str_('verem'), np.str_('vigil'), np.str_('vital'), np.str_('woman'), np.str_('zarin')]\n",
      "Not setting metadata\n",
      "245 matching events found\n",
      "No baseline correction applied\n",
      "0 projection items activated\n",
      "Using data from preloaded Raw for 245 events and 6965 original time points ...\n",
      "0 bad epochs dropped\n",
      "Not setting metadata\n",
      "168 matching events found\n",
      "No baseline correction applied\n",
      "0 projection items activated\n",
      "Using data from preloaded Raw for 168 events and 4917 original time points ...\n",
      "0 bad epochs dropped\n",
      "NOTE: tfr_multitaper() is a legacy function. New code should use .compute_tfr(method=\"multitaper\").\n",
      "Data is self data: True\n",
      "  Copying, fancy indexed picks\n",
      "NOTE: tfr_multitaper() is a legacy function. New code should use .compute_tfr(method=\"multitaper\").\n",
      "Data is self data: True\n",
      "  Copying, fancy indexed picks\n"
     ]
    },
    {
     "data": {
      "text/plain": [
       "<TFR from Evoked (nave=245), multitaper method | 220 channels × 32 freqs × 2869 times, 10.0 - 196.0 Hz, -0.70 - 0.70 s, 154.3 MB>"
      ],
      "text/html": [
       "<table class=\"table table-hover table-striped table-sm table-responsive small\">\n",
       "    <tr>\n",
       "        <th>Data type</th>\n",
       "        <td>TFR</td>\n",
       "    </tr>\n",
       "    <tr>\n",
       "        <th>Data source</th>\n",
       "        <td>Evoked</td>\n",
       "    </tr>\n",
       "    <tr>\n",
       "        <th>Number of averaged trials</th>\n",
       "        <td>245</td>\n",
       "    </tr>\n",
       "    <tr>\n",
       "        <th>Dims</th>\n",
       "        <td>channel, freq, time</td>\n",
       "    </tr>\n",
       "    <tr>\n",
       "        <th>Estimation method</th>\n",
       "        <td>multitaper</td>\n",
       "    </tr>\n",
       "    \n",
       "    <tr>\n",
       "        <th>Number of channels</th>\n",
       "        <td>220</td>\n",
       "    </tr>\n",
       "    <tr>\n",
       "        <th>Number of timepoints</th>\n",
       "        <td>2869</td>\n",
       "    </tr>\n",
       "    <tr>\n",
       "        <th>Number of frequency bins</th>\n",
       "        <td>32</td>\n",
       "    </tr>\n",
       "    <tr>\n",
       "        <th>Frequency range</th>\n",
       "        <td>10.00 – 196.00 Hz</td>\n",
       "    </tr>\n",
       "</table>"
      ]
     },
     "execution_count": 13,
     "metadata": {},
     "output_type": "execute_result"
    }
   ],
   "execution_count": 13
  },
  {
   "metadata": {},
   "cell_type": "markdown",
   "source": "#### Plot data",
   "id": "139f63431925e53c"
  },
  {
   "metadata": {
    "ExecuteTime": {
     "end_time": "2024-09-30T16:23:12.145739Z",
     "start_time": "2024-09-30T16:20:50.432366Z"
    }
   },
   "cell_type": "code",
   "source": "chan_grid(spectra, vlim=(0, 2), cmap=parula_map)",
   "id": "bd641e681fbbdad1",
   "outputs": [
    {
     "name": "stdout",
     "output_type": "stream",
     "text": [
      "No baseline correction applied\n",
      "No baseline correction applied\n",
      "No baseline correction applied\n",
      "No baseline correction applied\n",
      "No baseline correction applied\n",
      "No baseline correction applied\n",
      "No baseline correction applied\n",
      "No baseline correction applied\n",
      "No baseline correction applied\n",
      "No baseline correction applied\n",
      "No baseline correction applied\n",
      "No baseline correction applied\n",
      "No baseline correction applied\n",
      "No baseline correction applied\n",
      "No baseline correction applied\n",
      "No baseline correction applied\n",
      "No baseline correction applied\n",
      "No baseline correction applied\n",
      "No baseline correction applied\n",
      "No baseline correction applied\n",
      "No baseline correction applied\n",
      "No baseline correction applied\n",
      "No baseline correction applied\n",
      "No baseline correction applied\n",
      "No baseline correction applied\n",
      "No baseline correction applied\n",
      "No baseline correction applied\n",
      "No baseline correction applied\n",
      "No baseline correction applied\n",
      "No baseline correction applied\n",
      "No baseline correction applied\n",
      "No baseline correction applied\n",
      "No baseline correction applied\n",
      "No baseline correction applied\n",
      "No baseline correction applied\n",
      "No baseline correction applied\n",
      "No baseline correction applied\n",
      "No baseline correction applied\n",
      "No baseline correction applied\n",
      "No baseline correction applied\n",
      "No baseline correction applied\n",
      "No baseline correction applied\n",
      "No baseline correction applied\n",
      "No baseline correction applied\n",
      "No baseline correction applied\n",
      "No baseline correction applied\n",
      "No baseline correction applied\n",
      "No baseline correction applied\n",
      "No baseline correction applied\n",
      "No baseline correction applied\n",
      "No baseline correction applied\n",
      "No baseline correction applied\n",
      "No baseline correction applied\n",
      "No baseline correction applied\n",
      "No baseline correction applied\n",
      "No baseline correction applied\n",
      "No baseline correction applied\n",
      "No baseline correction applied\n",
      "No baseline correction applied\n",
      "No baseline correction applied\n",
      "No baseline correction applied\n",
      "No baseline correction applied\n",
      "No baseline correction applied\n",
      "No baseline correction applied\n",
      "No baseline correction applied\n",
      "No baseline correction applied\n",
      "No baseline correction applied\n",
      "No baseline correction applied\n",
      "No baseline correction applied\n",
      "No baseline correction applied\n",
      "No baseline correction applied\n",
      "No baseline correction applied\n",
      "No baseline correction applied\n",
      "No baseline correction applied\n",
      "No baseline correction applied\n",
      "No baseline correction applied\n",
      "No baseline correction applied\n",
      "No baseline correction applied\n",
      "No baseline correction applied\n",
      "No baseline correction applied\n",
      "No baseline correction applied\n",
      "No baseline correction applied\n",
      "No baseline correction applied\n",
      "No baseline correction applied\n",
      "No baseline correction applied\n",
      "No baseline correction applied\n",
      "No baseline correction applied\n",
      "No baseline correction applied\n",
      "No baseline correction applied\n",
      "No baseline correction applied\n",
      "No baseline correction applied\n",
      "No baseline correction applied\n",
      "No baseline correction applied\n",
      "No baseline correction applied\n",
      "No baseline correction applied\n",
      "No baseline correction applied\n",
      "No baseline correction applied\n",
      "No baseline correction applied\n",
      "No baseline correction applied\n",
      "No baseline correction applied\n",
      "No baseline correction applied\n",
      "No baseline correction applied\n",
      "No baseline correction applied\n",
      "No baseline correction applied\n",
      "No baseline correction applied\n",
      "No baseline correction applied\n",
      "No baseline correction applied\n",
      "No baseline correction applied\n",
      "No baseline correction applied\n",
      "No baseline correction applied\n",
      "No baseline correction applied\n",
      "No baseline correction applied\n",
      "No baseline correction applied\n",
      "No baseline correction applied\n",
      "No baseline correction applied\n",
      "No baseline correction applied\n",
      "No baseline correction applied\n",
      "No baseline correction applied\n",
      "No baseline correction applied\n",
      "No baseline correction applied\n",
      "No baseline correction applied\n",
      "No baseline correction applied\n",
      "No baseline correction applied\n",
      "No baseline correction applied\n",
      "No baseline correction applied\n",
      "No baseline correction applied\n",
      "No baseline correction applied\n",
      "No baseline correction applied\n",
      "No baseline correction applied\n",
      "No baseline correction applied\n",
      "No baseline correction applied\n",
      "No baseline correction applied\n",
      "No baseline correction applied\n",
      "No baseline correction applied\n",
      "No baseline correction applied\n",
      "No baseline correction applied\n",
      "No baseline correction applied\n",
      "No baseline correction applied\n",
      "No baseline correction applied\n",
      "No baseline correction applied\n",
      "No baseline correction applied\n",
      "No baseline correction applied\n",
      "No baseline correction applied\n",
      "No baseline correction applied\n",
      "No baseline correction applied\n",
      "No baseline correction applied\n",
      "No baseline correction applied\n",
      "No baseline correction applied\n",
      "No baseline correction applied\n",
      "No baseline correction applied\n",
      "No baseline correction applied\n",
      "No baseline correction applied\n",
      "No baseline correction applied\n",
      "No baseline correction applied\n",
      "No baseline correction applied\n",
      "No baseline correction applied\n",
      "No baseline correction applied\n",
      "No baseline correction applied\n",
      "No baseline correction applied\n",
      "No baseline correction applied\n",
      "No baseline correction applied\n",
      "No baseline correction applied\n",
      "No baseline correction applied\n",
      "No baseline correction applied\n",
      "No baseline correction applied\n",
      "No baseline correction applied\n",
      "No baseline correction applied\n",
      "No baseline correction applied\n",
      "No baseline correction applied\n",
      "No baseline correction applied\n",
      "No baseline correction applied\n",
      "No baseline correction applied\n",
      "No baseline correction applied\n",
      "No baseline correction applied\n",
      "No baseline correction applied\n",
      "No baseline correction applied\n",
      "No baseline correction applied\n",
      "No baseline correction applied\n",
      "No baseline correction applied\n",
      "No baseline correction applied\n",
      "No baseline correction applied\n",
      "No baseline correction applied\n",
      "No baseline correction applied\n",
      "No baseline correction applied\n",
      "No baseline correction applied\n",
      "No baseline correction applied\n",
      "No baseline correction applied\n",
      "No baseline correction applied\n",
      "No baseline correction applied\n",
      "No baseline correction applied\n",
      "No baseline correction applied\n",
      "No baseline correction applied\n",
      "No baseline correction applied\n",
      "No baseline correction applied\n",
      "No baseline correction applied\n",
      "No baseline correction applied\n",
      "No baseline correction applied\n",
      "No baseline correction applied\n",
      "No baseline correction applied\n",
      "No baseline correction applied\n",
      "No baseline correction applied\n",
      "No baseline correction applied\n",
      "No baseline correction applied\n",
      "No baseline correction applied\n",
      "No baseline correction applied\n",
      "No baseline correction applied\n",
      "No baseline correction applied\n",
      "No baseline correction applied\n",
      "No baseline correction applied\n",
      "No baseline correction applied\n",
      "No baseline correction applied\n",
      "No baseline correction applied\n",
      "No baseline correction applied\n",
      "No baseline correction applied\n",
      "No baseline correction applied\n",
      "No baseline correction applied\n",
      "No baseline correction applied\n",
      "No baseline correction applied\n",
      "No baseline correction applied\n",
      "No baseline correction applied\n"
     ]
    },
    {
     "data": {
      "text/plain": [
       "[<Figure size 1200x1800 with 60 Axes>,\n",
       " <Figure size 1200x1800 with 60 Axes>,\n",
       " <Figure size 1200x1800 with 60 Axes>,\n",
       " <Figure size 1200x1800 with 60 Axes>]"
      ]
     },
     "execution_count": 14,
     "metadata": {},
     "output_type": "execute_result"
    }
   ],
   "execution_count": 14
  }
 ],
 "metadata": {
  "kernelspec": {
   "display_name": "Python 3",
   "language": "python",
   "name": "python3"
  },
  "language_info": {
   "codemirror_mode": {
    "name": "ipython",
    "version": 2
   },
   "file_extension": ".py",
   "mimetype": "text/x-python",
   "name": "python",
   "nbconvert_exporter": "python",
   "pygments_lexer": "ipython2",
   "version": "2.7.6"
  }
 },
 "nbformat": 4,
 "nbformat_minor": 5
}
