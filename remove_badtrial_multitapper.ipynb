{
 "cells": [
  {
   "metadata": {},
   "cell_type": "markdown",
   "source": [
    "### Remove bad trials and plot spectrogram\n",
    "https://ieeg-pipelines.readthedocs.io/en/latest/auto_examples/plot_spectrograms_wavelet.html"
   ],
   "id": "4b7336d5d3cc9265"
  },
  {
   "metadata": {
    "ExecuteTime": {
     "end_time": "2024-10-08T19:18:17.597725Z",
     "start_time": "2024-10-08T19:18:17.588997Z"
    }
   },
   "cell_type": "code",
   "source": [
    "import os\n",
    "import numpy as np\n",
    "import mne\n",
    "import matplotlib.pyplot as plt\n",
    "import matplotlib.gridspec as gridspec\n",
    "from PyQt5.QtWidgets.QWidget import width\n",
    "from ieeg.io import get_data, raw_from_layout\n",
    "from ieeg.navigate import trial_ieeg, outliers_to_nan,crop_empty_data\n",
    "from ieeg.calc.scaling import rescale\n",
    "from ieeg.viz.ensemble import chan_grid\n",
    "from ieeg.timefreq.utils import crop_pad, wavelet_scaleogram\n",
    "from ieeg.viz.parula import parula_map\n",
    "save_dir='C:\\\\Users\\\\bl314\\\\Box\\\\CoganLab\\\\IndividualMeetings\\\\Baishen\\\\ieeg_results\\\\lexical_delay'"
   ],
   "id": "6dc858af0150cca2",
   "outputs": [],
   "execution_count": 24
  },
  {
   "metadata": {
    "ExecuteTime": {
     "end_time": "2024-10-08T03:59:20.029853Z",
     "start_time": "2024-10-08T03:59:19.052654Z"
    }
   },
   "cell_type": "code",
   "source": [
    "HOME = os.path.expanduser(\"~\")\n",
    "LAB_root = os.path.join(HOME, \"Box\", \"CoganLab\")\n",
    "layout = get_data(\"LexicalDecRepDelay\", root=LAB_root)\n",
    "subjects = layout.get(return_type=\"id\", target=\"subject\")\n",
    "subject = subjects[0]\n",
    "subject_Tag = 'D103'"
   ],
   "id": "1edfe2439b1bbd33",
   "outputs": [],
   "execution_count": 3
  },
  {
   "metadata": {
    "ExecuteTime": {
     "end_time": "2024-10-08T03:59:34.273086Z",
     "start_time": "2024-10-08T03:59:30.720033Z"
    }
   },
   "cell_type": "code",
   "source": "raw = raw_from_layout(layout.derivatives['derivatives/cleanbchrm'], subject=subject, desc='cleanbchrm',extension='.edf',preload=False)",
   "id": "d65564ee53c22402",
   "outputs": [
    {
     "name": "stdout",
     "output_type": "stream",
     "text": [
      "Extracting EDF parameters from C:\\Users\\bl314\\Box\\CoganLab\\BIDS-1.0_LexicalDecRepDelay\\BIDS\\derivatives\\cleanbchrm\\sub-D0103\\ieeg\\sub-D0103_task-LexicalDecRepDelay_acq-01_run-01_desc-cleanbchrm_ieeg.edf...\n",
      "EDF file detected\n",
      "Setting channel info structure...\n",
      "Creating raw.info structure...\n",
      "Reading events from C:\\Users\\bl314\\Box\\CoganLab\\BIDS-1.0_LexicalDecRepDelay\\BIDS\\derivatives\\cleanbchrm\\sub-D0103\\ieeg\\sub-D0103_task-LexicalDecRepDelay_acq-01_run-01_desc-cleanbchrm_events.tsv.\n",
      "Reading channel info from C:\\Users\\bl314\\Box\\CoganLab\\BIDS-1.0_LexicalDecRepDelay\\BIDS\\derivatives\\cleanbchrm\\sub-D0103\\ieeg\\sub-D0103_task-LexicalDecRepDelay_acq-01_run-01_desc-cleanbchrm_channels.tsv.\n",
      "Reading electrode coords from C:\\Users\\bl314\\Box\\CoganLab\\BIDS-1.0_LexicalDecRepDelay\\BIDS\\derivatives\\cleanbchrm\\sub-D0103\\ieeg\\sub-D0103_acq-01_space-ACPC_electrodes.tsv.\n",
      "Not fully anonymizing info - keeping his_id, sex, and hand info\n",
      "Extracting EDF parameters from C:\\Users\\bl314\\Box\\CoganLab\\BIDS-1.0_LexicalDecRepDelay\\BIDS\\derivatives\\cleanbchrm\\sub-D0103\\ieeg\\sub-D0103_task-LexicalDecRepDelay_acq-01_run-02_desc-cleanbchrm_ieeg.edf...\n",
      "EDF file detected\n",
      "Setting channel info structure...\n",
      "Creating raw.info structure...\n",
      "Reading events from C:\\Users\\bl314\\Box\\CoganLab\\BIDS-1.0_LexicalDecRepDelay\\BIDS\\derivatives\\cleanbchrm\\sub-D0103\\ieeg\\sub-D0103_task-LexicalDecRepDelay_acq-01_run-02_desc-cleanbchrm_events.tsv.\n",
      "Reading channel info from C:\\Users\\bl314\\Box\\CoganLab\\BIDS-1.0_LexicalDecRepDelay\\BIDS\\derivatives\\cleanbchrm\\sub-D0103\\ieeg\\sub-D0103_task-LexicalDecRepDelay_acq-01_run-02_desc-cleanbchrm_channels.tsv.\n",
      "Reading electrode coords from C:\\Users\\bl314\\Box\\CoganLab\\BIDS-1.0_LexicalDecRepDelay\\BIDS\\derivatives\\cleanbchrm\\sub-D0103\\ieeg\\sub-D0103_acq-01_space-ACPC_electrodes.tsv.\n",
      "Not fully anonymizing info - keeping his_id, sex, and hand info\n",
      "Extracting EDF parameters from C:\\Users\\bl314\\Box\\CoganLab\\BIDS-1.0_LexicalDecRepDelay\\BIDS\\derivatives\\cleanbchrm\\sub-D0103\\ieeg\\sub-D0103_task-LexicalDecRepDelay_acq-01_run-03_desc-cleanbchrm_ieeg.edf...\n",
      "EDF file detected\n",
      "Setting channel info structure...\n",
      "Creating raw.info structure...\n"
     ]
    },
    {
     "name": "stderr",
     "output_type": "stream",
     "text": [
      "C:\\Users\\bl314\\AppData\\Local\\miniconda3\\envs\\ieeg\\Lib\\site-packages\\ieeg\\io.py:113: RuntimeWarning: Omitted 426 annotation(s) that were outside data range.\n",
      "  new_raw = read_raw_bids(bids_path=BIDS_path, verbose=verbose)\n"
     ]
    },
    {
     "name": "stdout",
     "output_type": "stream",
     "text": [
      "Reading events from C:\\Users\\bl314\\Box\\CoganLab\\BIDS-1.0_LexicalDecRepDelay\\BIDS\\derivatives\\cleanbchrm\\sub-D0103\\ieeg\\sub-D0103_task-LexicalDecRepDelay_acq-01_run-03_desc-cleanbchrm_events.tsv.\n",
      "Reading channel info from C:\\Users\\bl314\\Box\\CoganLab\\BIDS-1.0_LexicalDecRepDelay\\BIDS\\derivatives\\cleanbchrm\\sub-D0103\\ieeg\\sub-D0103_task-LexicalDecRepDelay_acq-01_run-03_desc-cleanbchrm_channels.tsv.\n",
      "Reading electrode coords from C:\\Users\\bl314\\Box\\CoganLab\\BIDS-1.0_LexicalDecRepDelay\\BIDS\\derivatives\\cleanbchrm\\sub-D0103\\ieeg\\sub-D0103_acq-01_space-ACPC_electrodes.tsv.\n",
      "Not fully anonymizing info - keeping his_id, sex, and hand info\n",
      "Extracting EDF parameters from C:\\Users\\bl314\\Box\\CoganLab\\BIDS-1.0_LexicalDecRepDelay\\BIDS\\derivatives\\cleanbchrm\\sub-D0103\\ieeg\\sub-D0103_task-LexicalDecRepDelay_acq-01_run-04_desc-cleanbchrm_ieeg.edf...\n",
      "EDF file detected\n",
      "Setting channel info structure...\n",
      "Creating raw.info structure...\n"
     ]
    },
    {
     "name": "stderr",
     "output_type": "stream",
     "text": [
      "C:\\Users\\bl314\\AppData\\Local\\miniconda3\\envs\\ieeg\\Lib\\site-packages\\ieeg\\io.py:113: RuntimeWarning: Omitted 426 annotation(s) that were outside data range.\n",
      "  new_raw = read_raw_bids(bids_path=BIDS_path, verbose=verbose)\n"
     ]
    },
    {
     "name": "stdout",
     "output_type": "stream",
     "text": [
      "Reading events from C:\\Users\\bl314\\Box\\CoganLab\\BIDS-1.0_LexicalDecRepDelay\\BIDS\\derivatives\\cleanbchrm\\sub-D0103\\ieeg\\sub-D0103_task-LexicalDecRepDelay_acq-01_run-04_desc-cleanbchrm_events.tsv.\n",
      "Reading channel info from C:\\Users\\bl314\\Box\\CoganLab\\BIDS-1.0_LexicalDecRepDelay\\BIDS\\derivatives\\cleanbchrm\\sub-D0103\\ieeg\\sub-D0103_task-LexicalDecRepDelay_acq-01_run-04_desc-cleanbchrm_channels.tsv.\n",
      "Reading electrode coords from C:\\Users\\bl314\\Box\\CoganLab\\BIDS-1.0_LexicalDecRepDelay\\BIDS\\derivatives\\cleanbchrm\\sub-D0103\\ieeg\\sub-D0103_acq-01_space-ACPC_electrodes.tsv.\n",
      "Not fully anonymizing info - keeping his_id, sex, and hand info\n"
     ]
    },
    {
     "name": "stderr",
     "output_type": "stream",
     "text": [
      "C:\\Users\\bl314\\AppData\\Local\\miniconda3\\envs\\ieeg\\Lib\\site-packages\\ieeg\\io.py:113: RuntimeWarning: Omitted 423 annotation(s) that were outside data range.\n",
      "  new_raw = read_raw_bids(bids_path=BIDS_path, verbose=verbose)\n"
     ]
    }
   ],
   "execution_count": 4
  },
  {
   "metadata": {},
   "cell_type": "code",
   "source": [
    "# Epoches: https://mne.tools/stable/generated/mne.Epochs.html#mne.Epochs.__getitem__\n",
    "for epoch, t, tag in zip(\n",
    "                ('Auditory_stim/Repeat/Word/CORRECT','Auditory_stim/Repeat/Nonword/CORRECT',\n",
    "                 'Auditory_stim/Yes_No/Word/CORRECT', 'Auditory_stim/Yes_No/Nonword/CORRECT',\n",
    "                 'Delay/Repeat/Word/CORRECT','Delay/Repeat/Nonword/CORRECT',\n",
    "                 'Delay/Yes_No/Word/CORRECT', 'Delay/Yes_No/Nonword/CORRECT',\n",
    "                 'Resp/Repeat/Word/CORRECT','Resp/Repeat/Nonword/CORRECT',\n",
    "                 'Resp/Yes_No/Word/CORRECT', 'Resp/Yes_No/Nonword/CORRECT'),\n",
    "                ((-0.5, 1.5),(-0.5, 1.5),(-0.5, 1.5),(-0.5, 1.5),\n",
    "                 (-0.5, 1.5),(-0.5, 1.5),(-0.5, 1.5),(-0.5, 1.5),\n",
    "                 (-0.5, 1),(-0.5, 1),(-0.5, 1),(-0.5, 1)),\n",
    "                ('Auditory-Rep-Word','Auditory-Rep-Nonword',\n",
    "                 'Auditory-YN-Word','Auditory-YN-Nonword',\n",
    "                 'Delay-Rep-Word','Delay-Rep-Nonword',\n",
    "                 'Delay-YN-Word','Delay-YN-Nonword',\n",
    "                 'Resp-Rep-Word','Resp-Rep-Nonword',\n",
    "                 'Resp-YN-Word','Resp-YN-Nonword')\n",
    "             ):\n",
    "    \n",
    "    # Add time point for timefrequency and crop it\n",
    "    t1 = t[0] - 0.5\n",
    "    t2 = t[1] + 0.5\n",
    "    times = (t1, t2)\n",
    "    trials = trial_ieeg(raw, epoch, times, preload=True)\n",
    "    # eeg file is big. If try load multiple subjects. \n",
    "    # pointing\n",
    "    \n",
    "    # remove bad channels\n",
    "    outliers_to_nan(trials, outliers=10)\n",
    "    #Learned from Aaron's sentence rep\n",
    "    #https://github.com/coganlab/SentenceRep_analysis/blob/main/analysis/check/multitaper_spec.py\n",
    "    \n",
    "    # Multitaper wavelet timefreq\n",
    "    #freq = np.arange(10, 200., 6.)\n",
    "    #spectra = spectrogram(raw, freq, 'Auditory_stim', -1.2, 1.2, 'Cue', -0.5, 0,\n",
    "    #                      n_jobs=-3, verbose=10, time_bandwidth=10, n_cycles=freq/2)\n",
    "    # verbose: extra messages\n",
    "    # https://mne.tools/dev/generated/mne.verbose.html#mne.verbose\n",
    "    #spectra = spectrogram(trials, baseline=baselines, freqs=freq, n_jobs=-3, time_bandwidth=10, n_cycles=freq/2)\n",
    "    # https://mne.tools/dev/generated/mne.time_frequency.tfr_array_multitaper.html (Notes)\n",
    "    #crop_pad(spectra, \"0.5s\")\n",
    "    freq = np.linspace(0.5, 200, num=80)\n",
    "    kwargs = dict(average=False, n_jobs=-3, freqs=freq, return_itc=False,\n",
    "                  n_cycles=freq/2, time_bandwidth=4,\n",
    "                  # n_fft=int(trials.info['sfreq'] * 2.75),\n",
    "                  decim=20, )\n",
    "                  # adaptive=True)\n",
    "    spectra = trials.compute_tfr(method=\"multitaper\",  **kwargs)\n",
    "    crop_pad(spectra, \"0.5s\") # cut the first and final 0.5s, change to zero\n",
    "    \n",
    "    # crop the baseline\n",
    "    if tag == 'Auditory-Rep-Word' or 'Auditory-Rep-Nonword' or  'Auditory-YN-Word' or 'Auditory-YN-Nonword': # Have troubles\n",
    "        base = spectra.copy().crop(-0.5, 0)\n",
    "            # Average, and do baseline correction\n",
    "        base = base.average(lambda x: np.nanmean(x, axis=0), copy=True)\n",
    "        \n",
    "    spectra = spectra.average(lambda x: np.nanmean(x, axis=0), copy=True)\n",
    "    rescale(spectra._data, base._data, mode='ratio', axis=-1)\n",
    "    \n",
    "    # Save spectrograms\n",
    "    #fnames = [os.path.relpath(f, layout.root) for f in good.filenames]\n",
    "    #spectra.info['subject_info']['files'] = tuple(fnames)\n",
    "    #spectra.info['bads'] = raw.info['bads']\n",
    "    #https://github.com/coganlab/SentenceRep_analysis/blob/main/analysis/check/multitaper_spec.py\n",
    "    if not os.path.exists(os.path.join(save_dir, subject,'multitaper')):\n",
    "        os.mkdir(os.path.join(save_dir, subject,'multitaper'))\n",
    "    filename = os.path.join(save_dir, subject,'multitaper',f'{tag}-tfr.h5')\n",
    "    mne.time_frequency.write_tfrs(filename, spectra, overwrite=True)\n",
    "    #spectra.save(os.path.join(save_dir,subject, 'Auditor-avg.fif'))\n",
    "    del spectra"
   ],
   "id": "4d6f43e106b29a9e",
   "outputs": [],
   "execution_count": null
  },
  {
   "metadata": {
    "ExecuteTime": {
     "end_time": "2024-10-08T20:47:48.904683Z",
     "start_time": "2024-10-08T20:46:54.545219Z"
    }
   },
   "cell_type": "code",
   "source": [
    "# file names\n",
    "epoch_stim_rep_word =  \"Auditory-Rep-Word\"\n",
    "epoch_delay_rep_word=  \"Delay-Rep-Word\"\n",
    "epoch_resp_rep_word=  \"Resp-Rep-Word\"\n",
    "\n",
    "epoch_stim_rep_nonword =  \"Auditory-Rep-Nonword\"\n",
    "epoch_delay_rep_nonword=  \"Delay-Rep-Nonword\"\n",
    "epoch_resp_rep_nonword=  \"Resp-Rep-Nonword\"\n",
    "\n",
    "epoch_stim_yn_word =  \"Auditory-YN-Word\"\n",
    "epoch_delay_yn_word=  \"Delay-YN-Word\"\n",
    "epoch_resp_yn_word=  \"Resp-YN-Word\"\n",
    "\n",
    "epoch_stim_yn_nonword =  \"Auditory-YN-Nonword\"\n",
    "epoch_delay_yn_nonword=  \"Delay-YN-Nonword\"\n",
    "epoch_resp_yn_nonword=  \"Resp-YN-Nonword\"\n",
    "\n",
    "# filepath\n",
    "fname_stim_rep_word = os.path.join(save_dir, subject,'multitaper',f'{epoch_stim_rep_word}-tfr.h5')\n",
    "fname_delay_rep_word = os.path.join(save_dir, subject,'multitaper',f'{epoch_delay_rep_word}-tfr.h5')\n",
    "fname_resp_rep_word = os.path.join(save_dir, subject,'multitaper',f'{epoch_resp_rep_word}-tfr.h5')\n",
    "\n",
    "fname_stim_rep_nonword = os.path.join(save_dir, subject,'multitaper',f'{epoch_stim_rep_nonword}-tfr.h5')\n",
    "fname_delay_rep_nonword = os.path.join(save_dir, subject,'multitaper',f'{epoch_delay_rep_nonword}-tfr.h5')\n",
    "fname_resp_rep_nonword = os.path.join(save_dir, subject,'multitaper',f'{epoch_resp_rep_nonword}-tfr.h5')\n",
    "\n",
    "fname_stim_yn_word = os.path.join(save_dir, subject,'multitaper',f'{epoch_stim_yn_word}-tfr.h5')\n",
    "fname_delay_yn_word = os.path.join(save_dir, subject,'multitaper',f'{epoch_delay_yn_word}-tfr.h5')\n",
    "fname_resp_yn_word = os.path.join(save_dir, subject,'multitaper',f'{epoch_resp_yn_word}-tfr.h5')\n",
    "\n",
    "fname_stim_yn_nonword = os.path.join(save_dir, subject,'multitaper',f'{epoch_stim_yn_nonword}-tfr.h5')\n",
    "fname_delay_yn_nonword = os.path.join(save_dir, subject,'multitaper',f'{epoch_delay_yn_nonword}-tfr.h5')\n",
    "fname_resp_yn_nonword = os.path.join(save_dir, subject,'multitaper',f'{epoch_resp_yn_nonword}-tfr.h5')\n",
    "\n",
    "# load files\n",
    "spectra_stim_rep_word = mne.time_frequency.read_tfrs(fname_stim_rep_word)\n",
    "spectra_delay_rep_word = mne.time_frequency.read_tfrs(fname_delay_rep_word)\n",
    "spectra_resp_rep_word = mne.time_frequency.read_tfrs(fname_resp_rep_word)\n",
    "\n",
    "spectra_stim_rep_nonword = mne.time_frequency.read_tfrs(fname_stim_rep_nonword)\n",
    "spectra_delay_rep_nonword = mne.time_frequency.read_tfrs(fname_delay_rep_nonword)\n",
    "spectra_resp_rep_nonword = mne.time_frequency.read_tfrs(fname_resp_rep_nonword)\n",
    "\n",
    "spectra_stim_yn_word = mne.time_frequency.read_tfrs(fname_stim_yn_word)\n",
    "spectra_delay_yn_word = mne.time_frequency.read_tfrs(fname_delay_yn_word)\n",
    "spectra_resp_yn_word = mne.time_frequency.read_tfrs(fname_resp_yn_word)\n",
    "\n",
    "spectra_stim_yn_nonword = mne.time_frequency.read_tfrs(fname_stim_yn_nonword)\n",
    "spectra_delay_yn_nonword = mne.time_frequency.read_tfrs(fname_delay_yn_nonword)\n",
    "spectra_resp_yn_nonword = mne.time_frequency.read_tfrs(fname_resp_yn_nonword)\n",
    "\n",
    "# plot\n",
    "base_fontsize = 3\n",
    "fig_width, fig_height = (13.33, 7.5)  # 16:9 ppt scale\n",
    "dpi = 300\n",
    "scale_factor = min(fig_width / 10, fig_height / 5)\n",
    "font_size = base_fontsize * scale_factor\n",
    "    \n",
    "for channel_name in spectra_stim_rep_word.ch_names:\n",
    "\n",
    "    fig = plt.figure(figsize=(fig_width, fig_height), dpi=dpi)\n",
    "    plt.rcParams.update({\n",
    "    'font.size': font_size,            \n",
    "    'axes.titlesize': font_size * 1.2, \n",
    "    'axes.labelsize': font_size,\n",
    "    'xtick.labelsize': font_size * 0.8, \n",
    "    'ytick.labelsize': font_size * 0.8, \n",
    "    'legend.fontsize': font_size * 0.8,\n",
    "    })\n",
    "    \n",
    "    gs0 = gridspec.GridSpec(nrows=1, ncols=3, figure=fig)\n",
    "    \n",
    "    # Cluster1: Auditory stimuli\n",
    "    gs00 = gridspec.GridSpecFromSubplotSpec(nrows=3,ncols=4,subplot_spec=gs0[0],width_ratios=[10/31, 10/31, 10/31, 1/32])\n",
    "    \n",
    "    ## Plot 1-1: Auditory-Rep-Word\n",
    "    ax_aud_rep_word = fig.add_subplot(gs00[0,0])\n",
    "    spectra_stim_rep_word.plot(channel_name, vlim=(0.7, 1.4), show=False, colorbar=False,fmax=200, axes=ax_aud_rep_word,cmap=parula_map,title=channel_name)\n",
    "    ax_aud_rep_word.set_title('Stim-Rep-Word')\n",
    "    \n",
    "    ## Plot 1-2: Auditory-Rep-Nonword\n",
    "    ax_aud_rep_nonword = fig.add_subplot(gs00[0,1])\n",
    "    spectra_stim_rep_nonword.plot(channel_name, vlim=(0.7, 1.4), show=False, colorbar=False,fmax=200, axes=ax_aud_rep_nonword,cmap=parula_map,title=channel_name)\n",
    "    ax_aud_rep_nonword.set_title('Nonword')\n",
    "    ax_aud_rep_nonword.set_ylabel(\"\")\n",
    "    ax_aud_rep_nonword.set_yticklabels(\"\")\n",
    "    \n",
    "    # Cluster2: Delay\n",
    "    gs01 = gridspec.GridSpecFromSubplotSpec(nrows=3,ncols=4,subplot_spec=gs0[1],width_ratios=[10/31, 10/31, 10/31, 1/32])\n",
    "\n",
    "    ## Plot 2-1: Delay-Rep-Word\n",
    "    ax_del_rep_word = fig.add_subplot(gs01[0,0])\n",
    "    spectra_stim_rep_word.plot(channel_name, vlim=(0.7, 1.4), show=False, colorbar=False,fmax=200, axes=ax_del_rep_word,cmap=parula_map,title=channel_name)\n",
    "    ax_del_rep_word.set_title('Delay-Rep-Word')\n",
    "    ax_del_rep_word.set_ylabel(\"\")\n",
    "    ax_del_rep_word.set_yticklabels(\"\")\n",
    "    \n",
    "    ## Plot 2-2: Delay-Rep-Nonword\n",
    "    ax_del_rep_nonword = fig.add_subplot(gs01[0,1])\n",
    "    spectra_delay_rep_nonword.plot(channel_name, vlim=(0.7, 1.4), show=False, colorbar=False,fmax=200, axes=ax_del_rep_nonword,cmap=parula_map,title=channel_name)\n",
    "    ax_del_rep_nonword.set_title('Nonword')\n",
    "    ax_del_rep_nonword.set_ylabel(\"\")\n",
    "    ax_del_rep_nonword.set_yticklabels(\"\")\n",
    "    \n",
    "    # Cluster3: Resp\n",
    "    gs02 = gridspec.GridSpecFromSubplotSpec(nrows=3,ncols=4,subplot_spec=gs0[2],width_ratios=[10/31, 10/31, 10/31, 1/32])\n",
    "    \n",
    "    ## Plot 3-1: Resp-Rep-Word\n",
    "    ax_res_rep_word = fig.add_subplot(gs02[0,0])\n",
    "    spectra_stim_rep_word.plot(channel_name, vlim=(0.7, 1.4), show=False, colorbar=False,fmax=200, axes=ax_res_rep_word,cmap=parula_map,title=channel_name)\n",
    "    ax_res_rep_word.set_title('Resp-Rep-Word')\n",
    "    ax_res_rep_word.set_ylabel(\"\")\n",
    "    ax_res_rep_word.set_yticklabels(\"\")\n",
    "    \n",
    "    # Colorbar\n",
    "    ax_colorbar_rep = fig.add_subplot(gs02[0,3])\n",
    "    fig.colorbar(ax_res_rep_word.images[-1], cax=ax_colorbar_rep).ax.set_yscale(\"linear\")\n",
    "        \n",
    "    plt.show()\n",
    "#chan_grid(spectra, size = (20,10),vlim=(0.7, 1.4), fmax=200, show=True, cmap=parula_map,)# yscale=\"log\")\n"
   ],
   "id": "295054996f172077",
   "outputs": [
    {
     "name": "stdout",
     "output_type": "stream",
     "text": [
      "Reading C:\\Users\\bl314\\Box\\CoganLab\\IndividualMeetings\\Baishen\\ieeg_results\\lexical_delay\\D0103\\multitaper\\Auditory-Rep-Word-tfr.h5 ...\n",
      "Reading C:\\Users\\bl314\\Box\\CoganLab\\IndividualMeetings\\Baishen\\ieeg_results\\lexical_delay\\D0103\\multitaper\\Delay-Rep-Word-tfr.h5 ...\n",
      "Reading C:\\Users\\bl314\\Box\\CoganLab\\IndividualMeetings\\Baishen\\ieeg_results\\lexical_delay\\D0103\\multitaper\\Resp-Rep-Word-tfr.h5 ...\n",
      "Reading C:\\Users\\bl314\\Box\\CoganLab\\IndividualMeetings\\Baishen\\ieeg_results\\lexical_delay\\D0103\\multitaper\\Auditory-Rep-Nonword-tfr.h5 ...\n",
      "Reading C:\\Users\\bl314\\Box\\CoganLab\\IndividualMeetings\\Baishen\\ieeg_results\\lexical_delay\\D0103\\multitaper\\Delay-Rep-Nonword-tfr.h5 ...\n",
      "Reading C:\\Users\\bl314\\Box\\CoganLab\\IndividualMeetings\\Baishen\\ieeg_results\\lexical_delay\\D0103\\multitaper\\Resp-Rep-Nonword-tfr.h5 ...\n",
      "Reading C:\\Users\\bl314\\Box\\CoganLab\\IndividualMeetings\\Baishen\\ieeg_results\\lexical_delay\\D0103\\multitaper\\Auditory-YN-Word-tfr.h5 ...\n",
      "Reading C:\\Users\\bl314\\Box\\CoganLab\\IndividualMeetings\\Baishen\\ieeg_results\\lexical_delay\\D0103\\multitaper\\Delay-YN-Word-tfr.h5 ...\n",
      "Reading C:\\Users\\bl314\\Box\\CoganLab\\IndividualMeetings\\Baishen\\ieeg_results\\lexical_delay\\D0103\\multitaper\\Resp-YN-Word-tfr.h5 ...\n",
      "Reading C:\\Users\\bl314\\Box\\CoganLab\\IndividualMeetings\\Baishen\\ieeg_results\\lexical_delay\\D0103\\multitaper\\Auditory-YN-Nonword-tfr.h5 ...\n",
      "Reading C:\\Users\\bl314\\Box\\CoganLab\\IndividualMeetings\\Baishen\\ieeg_results\\lexical_delay\\D0103\\multitaper\\Delay-YN-Nonword-tfr.h5 ...\n",
      "Reading C:\\Users\\bl314\\Box\\CoganLab\\IndividualMeetings\\Baishen\\ieeg_results\\lexical_delay\\D0103\\multitaper\\Resp-YN-Nonword-tfr.h5 ...\n",
      "No baseline correction applied\n",
      "No baseline correction applied\n",
      "No baseline correction applied\n",
      "No baseline correction applied\n",
      "No baseline correction applied\n"
     ]
    },
    {
     "ename": "KeyboardInterrupt",
     "evalue": "",
     "output_type": "error",
     "traceback": [
      "\u001B[1;31m---------------------------------------------------------------------------\u001B[0m",
      "\u001B[1;31mKeyboardInterrupt\u001B[0m                         Traceback (most recent call last)",
      "Cell \u001B[1;32mIn[38], line 119\u001B[0m\n\u001B[0;32m    116\u001B[0m     ax_colorbar_rep \u001B[38;5;241m=\u001B[39m fig\u001B[38;5;241m.\u001B[39madd_subplot(gs02[\u001B[38;5;241m0\u001B[39m,\u001B[38;5;241m3\u001B[39m])\n\u001B[0;32m    117\u001B[0m     fig\u001B[38;5;241m.\u001B[39mcolorbar(ax_res_rep_word\u001B[38;5;241m.\u001B[39mimages[\u001B[38;5;241m-\u001B[39m\u001B[38;5;241m1\u001B[39m], cax\u001B[38;5;241m=\u001B[39max_colorbar_rep)\u001B[38;5;241m.\u001B[39max\u001B[38;5;241m.\u001B[39mset_yscale(\u001B[38;5;124m\"\u001B[39m\u001B[38;5;124mlinear\u001B[39m\u001B[38;5;124m\"\u001B[39m)\n\u001B[1;32m--> 119\u001B[0m     \u001B[43mplt\u001B[49m\u001B[38;5;241;43m.\u001B[39;49m\u001B[43mshow\u001B[49m\u001B[43m(\u001B[49m\u001B[43m)\u001B[49m\n\u001B[0;32m    120\u001B[0m \u001B[38;5;66;03m#chan_grid(spectra, size = (20,10),vlim=(0.7, 1.4), fmax=200, show=True, cmap=parula_map,)# yscale=\"log\")\u001B[39;00m\n",
      "File \u001B[1;32m~\\AppData\\Local\\miniconda3\\envs\\ieeg\\Lib\\site-packages\\matplotlib\\pyplot.py:612\u001B[0m, in \u001B[0;36mshow\u001B[1;34m(*args, **kwargs)\u001B[0m\n\u001B[0;32m    568\u001B[0m \u001B[38;5;250m\u001B[39m\u001B[38;5;124;03m\"\"\"\u001B[39;00m\n\u001B[0;32m    569\u001B[0m \u001B[38;5;124;03mDisplay all open figures.\u001B[39;00m\n\u001B[0;32m    570\u001B[0m \n\u001B[1;32m   (...)\u001B[0m\n\u001B[0;32m    609\u001B[0m \u001B[38;5;124;03mexplicitly there.\u001B[39;00m\n\u001B[0;32m    610\u001B[0m \u001B[38;5;124;03m\"\"\"\u001B[39;00m\n\u001B[0;32m    611\u001B[0m _warn_if_gui_out_of_main_thread()\n\u001B[1;32m--> 612\u001B[0m \u001B[38;5;28;01mreturn\u001B[39;00m \u001B[43m_get_backend_mod\u001B[49m\u001B[43m(\u001B[49m\u001B[43m)\u001B[49m\u001B[38;5;241;43m.\u001B[39;49m\u001B[43mshow\u001B[49m\u001B[43m(\u001B[49m\u001B[38;5;241;43m*\u001B[39;49m\u001B[43margs\u001B[49m\u001B[43m,\u001B[49m\u001B[43m \u001B[49m\u001B[38;5;241;43m*\u001B[39;49m\u001B[38;5;241;43m*\u001B[39;49m\u001B[43mkwargs\u001B[49m\u001B[43m)\u001B[49m\n",
      "File \u001B[1;32m~\\AppData\\Local\\miniconda3\\envs\\ieeg\\Lib\\site-packages\\matplotlib\\backend_bases.py:3553\u001B[0m, in \u001B[0;36m_Backend.show\u001B[1;34m(cls, block)\u001B[0m\n\u001B[0;32m   3551\u001B[0m     block \u001B[38;5;241m=\u001B[39m \u001B[38;5;129;01mnot\u001B[39;00m ipython_pylab \u001B[38;5;129;01mand\u001B[39;00m \u001B[38;5;129;01mnot\u001B[39;00m is_interactive()\n\u001B[0;32m   3552\u001B[0m \u001B[38;5;28;01mif\u001B[39;00m block:\n\u001B[1;32m-> 3553\u001B[0m     \u001B[38;5;28;43mcls\u001B[39;49m\u001B[38;5;241;43m.\u001B[39;49m\u001B[43mmainloop\u001B[49m\u001B[43m(\u001B[49m\u001B[43m)\u001B[49m\n",
      "File \u001B[1;32m~\\AppData\\Local\\miniconda3\\envs\\ieeg\\Lib\\site-packages\\matplotlib\\backends\\backend_qt.py:632\u001B[0m, in \u001B[0;36mFigureManagerQT.start_main_loop\u001B[1;34m(cls)\u001B[0m\n\u001B[0;32m    630\u001B[0m qapp \u001B[38;5;241m=\u001B[39m QtWidgets\u001B[38;5;241m.\u001B[39mQApplication\u001B[38;5;241m.\u001B[39minstance()\n\u001B[0;32m    631\u001B[0m \u001B[38;5;28;01mif\u001B[39;00m qapp:\n\u001B[1;32m--> 632\u001B[0m \u001B[43m    \u001B[49m\u001B[38;5;28;43;01mwith\u001B[39;49;00m\u001B[43m \u001B[49m\u001B[43m_allow_interrupt_qt\u001B[49m\u001B[43m(\u001B[49m\u001B[43mqapp\u001B[49m\u001B[43m)\u001B[49m\u001B[43m:\u001B[49m\n\u001B[0;32m    633\u001B[0m \u001B[43m        \u001B[49m\u001B[43mqt_compat\u001B[49m\u001B[38;5;241;43m.\u001B[39;49m\u001B[43m_exec\u001B[49m\u001B[43m(\u001B[49m\u001B[43mqapp\u001B[49m\u001B[43m)\u001B[49m\n",
      "File \u001B[1;32m~\\AppData\\Local\\miniconda3\\envs\\ieeg\\Lib\\contextlib.py:144\u001B[0m, in \u001B[0;36m_GeneratorContextManager.__exit__\u001B[1;34m(self, typ, value, traceback)\u001B[0m\n\u001B[0;32m    142\u001B[0m \u001B[38;5;28;01mif\u001B[39;00m typ \u001B[38;5;129;01mis\u001B[39;00m \u001B[38;5;28;01mNone\u001B[39;00m:\n\u001B[0;32m    143\u001B[0m     \u001B[38;5;28;01mtry\u001B[39;00m:\n\u001B[1;32m--> 144\u001B[0m         \u001B[38;5;28;43mnext\u001B[39;49m\u001B[43m(\u001B[49m\u001B[38;5;28;43mself\u001B[39;49m\u001B[38;5;241;43m.\u001B[39;49m\u001B[43mgen\u001B[49m\u001B[43m)\u001B[49m\n\u001B[0;32m    145\u001B[0m     \u001B[38;5;28;01mexcept\u001B[39;00m \u001B[38;5;167;01mStopIteration\u001B[39;00m:\n\u001B[0;32m    146\u001B[0m         \u001B[38;5;28;01mreturn\u001B[39;00m \u001B[38;5;28;01mFalse\u001B[39;00m\n",
      "File \u001B[1;32m~\\AppData\\Local\\miniconda3\\envs\\ieeg\\Lib\\site-packages\\matplotlib\\backend_bases.py:1672\u001B[0m, in \u001B[0;36m_allow_interrupt\u001B[1;34m(prepare_notifier, handle_sigint)\u001B[0m\n\u001B[0;32m   1670\u001B[0m signal\u001B[38;5;241m.\u001B[39msignal(signal\u001B[38;5;241m.\u001B[39mSIGINT, old_sigint_handler)\n\u001B[0;32m   1671\u001B[0m \u001B[38;5;28;01mif\u001B[39;00m handler_args \u001B[38;5;129;01mis\u001B[39;00m \u001B[38;5;129;01mnot\u001B[39;00m \u001B[38;5;28;01mNone\u001B[39;00m:\n\u001B[1;32m-> 1672\u001B[0m     \u001B[43mold_sigint_handler\u001B[49m\u001B[43m(\u001B[49m\u001B[38;5;241;43m*\u001B[39;49m\u001B[43mhandler_args\u001B[49m\u001B[43m)\u001B[49m\n",
      "\u001B[1;31mKeyboardInterrupt\u001B[0m: "
     ]
    }
   ],
   "execution_count": 38
  },
  {
   "metadata": {},
   "cell_type": "code",
   "outputs": [],
   "execution_count": null,
   "source": "",
   "id": "26cf833beaf5389c"
  }
 ],
 "metadata": {
  "kernelspec": {
   "display_name": "Python 3",
   "language": "python",
   "name": "python3"
  },
  "language_info": {
   "codemirror_mode": {
    "name": "ipython",
    "version": 2
   },
   "file_extension": ".py",
   "mimetype": "text/x-python",
   "name": "python",
   "nbconvert_exporter": "python",
   "pygments_lexer": "ipython2",
   "version": "2.7.6"
  }
 },
 "nbformat": 4,
 "nbformat_minor": 5
}
