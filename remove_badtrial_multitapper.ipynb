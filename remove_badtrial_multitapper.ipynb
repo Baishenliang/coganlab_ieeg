{
 "cells": [
  {
   "metadata": {},
   "cell_type": "markdown",
   "source": [
    "### Remove bad trials and plot spectrogram\n",
    "https://ieeg-pipelines.readthedocs.io/en/latest/auto_examples/plot_spectrograms_wavelet.html"
   ],
   "id": "4b7336d5d3cc9265"
  },
  {
   "metadata": {},
   "cell_type": "code",
   "outputs": [],
   "execution_count": null,
   "source": [
    "import os\n",
    "import numpy as np\n",
    "import mne\n",
    "from ieeg.io import get_data, raw_from_layout\n",
    "from ieeg.navigate import trial_ieeg, outliers_to_nan,crop_empty_data\n",
    "from ieeg.calc.scaling import rescale\n",
    "from ieeg.viz.ensemble import chan_grid\n",
    "from ieeg.timefreq.utils import crop_pad, wavelet_scaleogram\n",
    "from ieeg.viz.parula import parula_map\n",
    "save_dir='C:\\\\Users\\\\bl314\\\\Box\\\\CoganLab\\\\IndividualMeetings\\\\Baishen\\\\ieeg_results\\\\lexical_delay'"
   ],
   "id": "6dc858af0150cca2"
  },
  {
   "metadata": {},
   "cell_type": "code",
   "outputs": [],
   "execution_count": null,
   "source": [
    "HOME = os.path.expanduser(\"~\")\n",
    "LAB_root = os.path.join(HOME, \"Box\", \"CoganLab\")\n",
    "layout = get_data(\"LexicalDecRepDelay\", root=LAB_root)\n",
    "subjects = layout.get(return_type=\"id\", target=\"subject\")\n",
    "subject = subjects[0]\n",
    "subject_Tag = 'D103'"
   ],
   "id": "1edfe2439b1bbd33"
  },
  {
   "metadata": {},
   "cell_type": "code",
   "outputs": [],
   "execution_count": null,
   "source": [
    "raw = raw_from_layout(layout.derivatives['derivatives/clean bchrm'], subject=subject, desc='clean bchrm',extension='.edf',preload=True)\n",
    "# Choose preload=False to release RAM space (but )\n",
    "raw = crop_empty_data(raw)"
   ],
   "id": "d65564ee53c22402"
  },
  {
   "metadata": {},
   "cell_type": "code",
   "outputs": [],
   "execution_count": null,
   "source": [
    "# Epoches: https://mne.tools/stable/generated/mne.Epochs.html#mne.Epochs.__getitem__\n",
    "for epoch, t in zip(\n",
    "        (\"Auditory_stim/CORRECT\", \"Delay/CORRECT\", \"Resp/CORRECT\"),\n",
    "        ((-0.5, 1.5), (-0.5, 1.5), (-0.5, 1)),\n",
    "      ):\n",
    "    \n",
    "    # Add time point for timefrequency and crop it\n",
    "    t1 = t[0] - 0.5\n",
    "    t2 = t[1] + 0.5\n",
    "    times = (t1, t2)\n",
    "    trials = trial_ieeg(raw, epoch, times, preload=True)\n",
    "    # eeg file is big. If try load multiple subjects. \n",
    "    # pointing\n",
    "    \n",
    "    # remove bad channels\n",
    "    outliers_to_nan(trials, outliers=10)\n",
    "    #Learned from Aaron's sentence rep\n",
    "    #https://github.com/coganlab/SentenceRep_analysis/blob/main/analysis/check/multitaper_spec.py\n",
    "    \n",
    "    # Multitaper wavelet timefreq\n",
    "    #freq = np.arange(10, 200., 6.)\n",
    "    #spectra = spectrogram(raw, freq, 'Auditory_stim', -1.2, 1.2, 'Cue', -0.5, 0,\n",
    "    #                      n_jobs=-3, verbose=10, time_bandwidth=10, n_cycles=freq/2)\n",
    "    # verbose: extra messages\n",
    "    # https://mne.tools/dev/generated/mne.verbose.html#mne.verbose\n",
    "    #spectra = spectrogram(trials, baseline=baselines, freqs=freq, n_jobs=-3, time_bandwidth=10, n_cycles=freq/2)\n",
    "    # https://mne.tools/dev/generated/mne.time_frequency.tfr_array_multitaper.html (Notes)\n",
    "    #crop_pad(spectra, \"0.5s\")\n",
    "    freq = np.linspace(0.5, 200, num=80)\n",
    "    kwargs = dict(average=False, n_jobs=-3, freqs=freq, return_itc=False,\n",
    "                  n_cycles=freq/2, time_bandwidth=4,\n",
    "                  # n_fft=int(trials.info['sfreq'] * 2.75),\n",
    "                  decim=20, )\n",
    "                  # adaptive=True)\n",
    "    spectra = trials.compute_tfr(method=\"multitaper\",  **kwargs)\n",
    "    crop_pad(spectra, \"0.5s\") # cut the first and final 0.5s, change to zero\n",
    "    \n",
    "    # crop the baseline\n",
    "    if epoch == \"Auditory_stim\":\n",
    "        base = spectra.copy().crop(-0.5, 0)\n",
    "            # Average, and do baseline correction\n",
    "        base = base.average(lambda x: np.nanmean(x, axis=0), copy=True)\n",
    "        \n",
    "    spectra = spectra.average(lambda x: np.nanmean(x, axis=0), copy=True)\n",
    "    rescale(spectra._data, base._data, mode='ratio', axis=-1)\n",
    "    \n",
    "    # Save spectrograms\n",
    "    #fnames = [os.path.relpath(f, layout.root) for f in good.filenames]\n",
    "    #spectra.info['subject_info']['files'] = tuple(fnames)\n",
    "    spectra.info['bads'] = raw.info['bads']\n",
    "    #https://github.com/coganlab/SentenceRep_analysis/blob/main/analysis/check/multitaper_spec.py\n",
    "    if not os.path.exists(os.path.join(save_dir, subject)):\n",
    "        os.mkdir(os.path.join(save_dir, subject))\n",
    "    filename = os.path.join(save_dir, subject,f'{epoch}-tfr.h5')\n",
    "    mne.time_frequency.write_tfrs(filename, spectra, overwrite=True)\n",
    "    #spectra.save(os.path.join(save_dir,subject, 'Auditor-avg.fif'))\n",
    "    "
   ],
   "id": "4d6f43e106b29a9e"
  },
  {
   "metadata": {},
   "cell_type": "code",
   "outputs": [],
   "execution_count": null,
   "source": [
    "# del spectra\n",
    "epoch =  \"CORRECT\"#\"Delay\"# \"Auditory_stim\"#\"CORRECT\"#,#\n",
    "filename = os.path.join(save_dir, subject,f'{epoch}-tfr.h5')\n",
    "spectra = mne.time_frequency.read_tfrs(filename)\n",
    "chan_grid(spectra, size = (20,10),vlim=(0.7, 1.4), fmax=200, show=True, cmap=parula_map,)# yscale=\"log\")"
   ],
   "id": "295054996f172077"
  }
 ],
 "metadata": {
  "kernelspec": {
   "display_name": "Python 3",
   "language": "python",
   "name": "python3"
  },
  "language_info": {
   "codemirror_mode": {
    "name": "ipython",
    "version": 2
   },
   "file_extension": ".py",
   "mimetype": "text/x-python",
   "name": "python",
   "nbconvert_exporter": "python",
   "pygments_lexer": "ipython2",
   "version": "2.7.6"
  }
 },
 "nbformat": 4,
 "nbformat_minor": 5
}
