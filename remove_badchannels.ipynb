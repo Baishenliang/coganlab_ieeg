{
 "cells": [
  {
   "metadata": {},
   "cell_type": "markdown",
   "source": "### Read the script",
   "id": "93d9af99cc9066ab"
  },
  {
   "cell_type": "code",
   "id": "initial_id",
   "metadata": {
    "collapsed": true
   },
   "source": [
    "import os\n",
    "import numpy as np\n",
    "import mne\n",
    "from ieeg.io import get_data, raw_from_layout, save_derivative\n",
    "from ieeg.navigate import trial_ieeg, outliers_to_nan, channel_outlier_marker, crop_empty_data\n",
    "from ieeg.calc.scaling import rescale\n",
    "from ieeg.viz.ensemble import chan_grid\n",
    "from ieeg.timefreq.utils import crop_pad, wavelet_scaleogram\n",
    "from ieeg.viz.parula import parula_map\n",
    "save_dir='C:\\\\Users\\\\bl314\\\\Box\\\\CoganLab\\\\IndividualMeetings\\\\Baishen\\\\ieeg_results\\\\lexical_delay'"
   ],
   "outputs": [],
   "execution_count": null
  },
  {
   "metadata": {},
   "cell_type": "code",
   "source": [
    "HOME = os.path.expanduser(\"~\")\n",
    "LAB_root = os.path.join(HOME, \"Box\", \"CoganLab\")\n",
    "layout = get_data(\"LexicalDecRepDelay\", root=LAB_root)\n",
    "subjects = layout.get(return_type=\"id\", target=\"subject\")\n",
    "subject = subjects[0]\n",
    "subject_Tag = 'D103'"
   ],
   "id": "ddab12751f7eacd0",
   "outputs": [],
   "execution_count": null
  },
  {
   "metadata": {},
   "cell_type": "markdown",
   "source": "#### Plot subj",
   "id": "f13a9a1c09fd5015"
  },
  {
   "metadata": {},
   "cell_type": "code",
   "source": [
    "# plot subject\n",
    "# !!!!! problems: cannot find the surface file##########\n",
    "from ieeg.viz.mri import plot_subj, plot_on_average\n",
    "\n",
    "# plot the subject brain\n",
    "fig1 = plot_subj(subject_Tag)\n",
    "#C:\\Users\\bl314\\Box\\ECoG_Recon\\D103\n",
    "#Label every electrode\n",
    "mne.viz.set_3d_view(fig1, azimuth=150, elevation=70, focalpoint=\"auto\",\n",
    "                    distance=\"auto\")"
   ],
   "id": "2c1efaa3e16170ba",
   "outputs": [],
   "execution_count": null
  },
  {
   "metadata": {},
   "cell_type": "markdown",
   "source": "#### Load subj",
   "id": "cc5af04c9c2a086d"
  },
  {
   "metadata": {},
   "cell_type": "code",
   "source": [
    "raw = raw_from_layout(layout.derivatives['derivatives/clean'], subject=subject, desc='clean',extension='.edf',preload=True)\n",
    "# Choose preload=False to release RAM space (but )\n",
    "raw = crop_empty_data(raw)"
   ],
   "id": "52b5e66bc1b432a5",
   "outputs": [],
   "execution_count": null
  },
  {
   "metadata": {},
   "cell_type": "markdown",
   "source": [
    "### Remove bad channels\n",
    "https://ieeg-pipelines.readthedocs.io/en/latest/auto_examples/plot_spectrograms.html\n"
   ],
   "id": "c08d79928351d52b"
  },
  {
   "metadata": {},
   "cell_type": "code",
   "source": [
    "# Currently we don't do EEG channel removing.\n",
    "\n",
    "# Remove EEG channels for D101\n",
    "# eeg_channels_to_exclude = ['Fp1', 'Fp2', 'F3','F4','C3','C4','P3','P4','F7','F8','T3','T4','T5','T6','O1','O2','Fz','Cz','Pz']\n",
    "\n",
    "# Remove EEG channels for D103 (same)\n",
    "#eeg_channels_to_exclude (bad) = ['F7', 'F8', 'T5', 'T6', 'F3', 'F4', 'C3', 'C4', 'P3', 'P4',\n",
    "#                            'T3', 'T4', 'O1', 'O2']\n",
    "eeg_channels_to_exclude = ['FZ', 'CZ', 'PZ', 'F7', 'F8', 'T5', 'T6', 'FP1', 'FP2', 'F3', 'F4', 'C3', 'C4', 'P3', 'P4', 'O1', 'O2', 'T3', 'T4']\n",
    "# Problems: !!!!!!!!!!!!!!!!!!!!!!!!!!!!!!!!!!!!!!Channel(s) Fz, Cz, Pz, Fp1, Fp2 not found, nothing dropped. But these channels exist in the sub-D0103_task-LexicalDecRepDelay_channels.tsv!!!!!!!!!!!!!!!!!!!!!!!!!!!!!!!!!!!!!!!!!!!!!!!!!!!!!!!!!\n",
    "\n",
    "# Remove EEG channels for D107\n",
    "\n",
    "raw.drop_channels(eeg_channels_to_exclude)\n",
    "raw.load_data()"
   ],
   "id": "6477cb1bb3233673",
   "outputs": [],
   "execution_count": null
  },
  {
   "metadata": {},
   "cell_type": "code",
   "source": [
    "# mark channel outliers as bad\n",
    "raw.info['bads'] = channel_outlier_marker(raw, 3, 2)\n",
    "# Exclude bad channels\n",
    "raw.drop_channels(raw.info['bads'])\n",
    "# Currently we don't do EEG channel removing.\n",
    "\n",
    "# Remove EEG channels for D101\n",
    "eeg_channels_to_exclude = ['Fp1', 'Fp2', 'F3', 'F4', 'C3', 'C4', 'P3', 'P4', 'F7', 'F8', 'T3', 'T4', 'T5', 'T6', 'O1',\n",
    "                           'O2', 'Fz', 'Cz', 'Pz']\n",
    "# Remove EEG channels for D103 (same)\n",
    "# eeg_channels_to_exclude = ['F7', 'F8', 'T5', 'T6', 'F3', 'F4', 'C3', 'C4', 'P3', 'P4',\n",
    "#                            'T3', 'T4', 'O1', 'O2']\n",
    "\n",
    "# Problems: !!!!!!!!!!!!!!!!!!!!!!!!!!!!!!!!!!!!!!Channel(s) Fz, Cz, Pz, Fp1, Fp2 not found, nothing dropped. But these channels exist in the sub-D0103_task-LexicalDecRepDelay_channels.tsv!!!!!!!!!!!!!!!!!!!!!!!!!!!!!!!!!!!!!!!!!!!!!!!!!!!!!!!!!\n",
    "# Remove EEG channels for D107\n",
    "\n",
    "raw.drop_channels(eeg_channels_to_exclude)\n",
    "raw.load_data()"
   ],
   "id": "e9670152b4d4c4a6",
   "outputs": [],
   "execution_count": null
  },
  {
   "metadata": {},
   "cell_type": "code",
   "source": [
    "# Detect and remove muscle artifact channels\n",
    "# Also plot the subject brain\n",
    "for epoch, t in zip(\n",
    "        (\"Auditory_stim\",\"Resp\"),\n",
    "        ((-0.5, 1.5), (-0.5, 1)),\n",
    "      ):\n",
    "    t1 = t[0] - 0.5\n",
    "    t2 = t[1] + 0.5\n",
    "    times = (t1, t2)\n",
    "    trials = trial_ieeg(raw, epoch, times, preload=True)\n",
    "    outliers_to_nan(trials, outliers=10)\n",
    "    spectra_wavelet = wavelet_scaleogram(trials, n_jobs=-3, decim=int(\n",
    "        raw.info['sfreq'] / 200)) # 1/10 of the timepionts, don't take too long\n",
    "    crop_pad(spectra_wavelet, \"0.5s\") # cut the first and final 0.5s, change to zero\n",
    " \n",
    "    if not os.path.exists(os.path.join(save_dir, subject)):\n",
    "        os.mkdir(os.path.join(save_dir, subject))\n",
    "    # if epoch=='Auditory_stim/CORRECT':\n",
    "    #     filename = os.path.join(save_dir, subject,'Auditory_stim-CORRECT-wavelet-tfr.h5')\n",
    "    # elif epoch=='Resp/CORRECT':\n",
    "    #     filename = os.path.join(save_dir, subject,'Resp-CORRECT-wavelet-tfr.h5')\n",
    "    filename = os.path.join(save_dir, subject,f'{epoch}-wavelet-tfr.h5')\n",
    "    mne.time_frequency.write_tfrs(filename, spectra_wavelet, overwrite=True)\n",
    "    del trials, spectra_wavelet"
   ],
   "id": "8b797b0045922aa6",
   "outputs": [],
   "execution_count": null
  },
  {
   "metadata": {},
   "cell_type": "code",
   "source": [
    "# Then check the auditory_stim\n",
    "filename = os.path.join(save_dir, subject,'Auditory_stim-wavelet-tfr.h5')\n",
    "spectra_auditory = mne.time_frequency.read_tfrs(filename)\n",
    "\n",
    "# crop the baseline\n",
    "base_wavelet = spectra_auditory.copy().crop(-0.5, 0)\n",
    "# Average, and do baseline correction\n",
    "base_wavelet = base_wavelet.average(lambda x: np.nanmean(x, axis=0), copy=True)\n",
    "    \n",
    "spectra_auditory = spectra_auditory.average(lambda x: np.nanmean(x, axis=0), copy=True)   \n",
    "spectra_auditory_blc = rescale(spectra_auditory, base_wavelet, copy=True, mode='ratio')\n",
    "spectra_auditory_blc._data = np.log10(spectra_auditory_blc._data) * 20\n",
    "\n",
    "chan_grid(spectra_auditory_blc, size = (20,10),vlim=(-2, 2), cmap=parula_map)"
   ],
   "id": "b8ae0615fdf10ebe",
   "outputs": [],
   "execution_count": null
  },
  {
   "metadata": {},
   "cell_type": "code",
   "source": [
    "# Check the wavelet spectrograms\n",
    "# Check the motor signal first\n",
    "filename = os.path.join(save_dir, subject,'Resp-wavelet-tfr.h5')\n",
    "spectra_motor = mne.time_frequency.read_tfrs(filename)\n",
    "\n",
    "spectra_motor = spectra_motor.average(lambda x: np.nanmean(x, axis=0), copy=True)   \n",
    "spectra_motor_blc = rescale(spectra_motor, base_wavelet, copy=True, mode='ratio')\n",
    "spectra_motor_blc._data = np.log10(spectra_motor_blc._data) * 20\n",
    "\n",
    "chan_grid(spectra_motor_blc, size = (20,10),vlim=(-2, 2), cmap=parula_map)"
   ],
   "id": "b59d79e7baf30f77",
   "outputs": [],
   "execution_count": null
  },
  {
   "metadata": {},
   "cell_type": "code",
   "source": [
    "# Manually mark muscle bad channels\n",
    "\n",
    "# D101: \n",
    "#muscle_artifacts_chn=['RTMM11','RTMM12','RTAM13','RTAM14','RTAM15']\n",
    "\n",
    "# D103:\n",
    "muscle_artifacts_chn=['LTMM1']\n",
    "\n",
    "\n",
    "# D107, no muscle channels found\n",
    "if muscle_artifacts_chn:\n",
    "    raw.drop_channels(muscle_artifacts_chn)\n",
    "    raw.load_data()"
   ],
   "id": "1a409f4b8379b240",
   "outputs": [],
   "execution_count": null
  },
  {
   "metadata": {},
   "cell_type": "code",
   "source": [
    "# CAR (common average reference) DONT DO THIS NOW\n",
    "# raw.set_eeg_reference(ref_channels=\"average\", ch_type='seeg')"
   ],
   "id": "446c1784652b3919",
   "outputs": [],
   "execution_count": null
  },
  {
   "metadata": {},
   "cell_type": "code",
   "source": [
    "# Check if derivatives folder exists and create if not\n",
    "bids_root='C:\\\\Users\\\\bl314\\\\Box\\\\CoganLab\\\\BIDS-1.0_LexicalDecRepDelay\\\\BIDS'\n",
    "if not os.path.exists(os.path.join(bids_root, \"derivatives\")):\n",
    "    os.mkdir(os.path.join(bids_root, \"derivatives\"))\n",
    "    os.mkdir(os.path.join(bids_root, \"derivatives\", \"clean bchrm\"))\n",
    "elif not os.path.exists(os.path.join(bids_root, \"derivatives\", \"clean bchrm\")):\n",
    "    os.mkdir(os.path.join(bids_root, \"derivatives\", \"clean bchrm\"))\n",
    "save_derivative(raw, layout, \"clean bchrm\", True)"
   ],
   "id": "f9cce78ff80503d3",
   "outputs": [],
   "execution_count": null
  },
  {
   "metadata": {},
   "cell_type": "markdown",
   "source": [
    "### Remove bad trials and plot spectrogram\n",
    "https://ieeg-pipelines.readthedocs.io/en/latest/auto_examples/plot_spectrograms_wavelet.html"
   ],
   "id": "ffa68bdaf2ba11c9"
  },
  {
   "metadata": {},
   "cell_type": "code",
   "source": [
    "# Epoches: https://mne.tools/stable/generated/mne.Epochs.html#mne.Epochs.__getitem__\n",
    "for epoch, t in zip(\n",
    "        (\"Auditory_stim/CORRECT\", \"Delay/CORRECT\", \"Resp/CORRECT\"),\n",
    "        ((-0.5, 1.5), (-0.5, 1.5), (-0.5, 1)),\n",
    "      ):\n",
    "    \n",
    "    # Add time point for timefrequency and crop it\n",
    "    t1 = t[0] - 0.5\n",
    "    t2 = t[1] + 0.5\n",
    "    times = (t1, t2)\n",
    "    trials = trial_ieeg(raw, epoch, times, preload=True)\n",
    "    # eeg file is big. If try load multiple subjects. \n",
    "    # pointing\n",
    "    \n",
    "    # remove bad channels\n",
    "    outliers_to_nan(trials, outliers=10)\n",
    "    #Learned from Aaron's sentence rep\n",
    "    #https://github.com/coganlab/SentenceRep_analysis/blob/main/analysis/check/multitaper_spec.py\n",
    "    \n",
    "    # Multitaper wavelet timefreq\n",
    "    #freq = np.arange(10, 200., 6.)\n",
    "    #spectra = spectrogram(raw, freq, 'Auditory_stim', -1.2, 1.2, 'Cue', -0.5, 0,\n",
    "    #                      n_jobs=-3, verbose=10, time_bandwidth=10, n_cycles=freq/2)\n",
    "    # verbose: extra messages\n",
    "    # https://mne.tools/dev/generated/mne.verbose.html#mne.verbose\n",
    "    #spectra = spectrogram(trials, baseline=baselines, freqs=freq, n_jobs=-3, time_bandwidth=10, n_cycles=freq/2)\n",
    "    # https://mne.tools/dev/generated/mne.time_frequency.tfr_array_multitaper.html (Notes)\n",
    "    #crop_pad(spectra, \"0.5s\")\n",
    "    freq = np.linspace(0.5, 200, num=80)\n",
    "    kwargs = dict(average=False, n_jobs=-3, freqs=freq, return_itc=False,\n",
    "                  n_cycles=freq/2, time_bandwidth=4,\n",
    "                  # n_fft=int(trials.info['sfreq'] * 2.75),\n",
    "                  decim=20, )\n",
    "                  # adaptive=True)\n",
    "    spectra = trials.compute_tfr(method=\"multitaper\",  **kwargs)\n",
    "    crop_pad(spectra, \"0.5s\") # cut the first and final 0.5s, change to zero\n",
    "    \n",
    "    # crop the baseline\n",
    "    if epoch == \"Auditory_stim\":\n",
    "        base = spectra.copy().crop(-0.5, 0)\n",
    "            # Average, and do baseline correction\n",
    "        base = base.average(lambda x: np.nanmean(x, axis=0), copy=True)\n",
    "        \n",
    "    spectra = spectra.average(lambda x: np.nanmean(x, axis=0), copy=True)\n",
    "    rescale(spectra._data, base._data, mode='ratio', axis=-1)\n",
    "    \n",
    "    # Save spectrograms\n",
    "    #fnames = [os.path.relpath(f, layout.root) for f in good.filenames]\n",
    "    #spectra.info['subject_info']['files'] = tuple(fnames)\n",
    "    spectra.info['bads'] = raw.info['bads']\n",
    "    #https://github.com/coganlab/SentenceRep_analysis/blob/main/analysis/check/multitaper_spec.py\n",
    "    if not os.path.exists(os.path.join(save_dir, subject)):\n",
    "        os.mkdir(os.path.join(save_dir, subject))\n",
    "    filename = os.path.join(save_dir, subject,f'{epoch}-tfr.h5')\n",
    "    mne.time_frequency.write_tfrs(filename, spectra, overwrite=True)\n",
    "    #spectra.save(os.path.join(save_dir,subject, 'Auditor-avg.fif'))\n",
    "    "
   ],
   "id": "4d04b33afbcf55e3",
   "outputs": [],
   "execution_count": null
  },
  {
   "metadata": {},
   "cell_type": "markdown",
   "source": "### Multitaper spectrogram plot",
   "id": "e9812c28e0300605"
  },
  {
   "metadata": {},
   "cell_type": "markdown",
   "source": "#### Plot data",
   "id": "139f63431925e53c"
  },
  {
   "metadata": {},
   "cell_type": "code",
   "source": [
    "# del spectra\n",
    "epoch =  \"CORRECT\"#\"Delay\"# \"Auditory_stim\"#\"CORRECT\"#,#\n",
    "filename = os.path.join(save_dir, subject,f'{epoch}-tfr.h5')\n",
    "spectra = mne.time_frequency.read_tfrs(filename)\n",
    "chan_grid(spectra, size = (20,10),vlim=(0.7, 1.4), fmax=200, show=True, cmap=parula_map,)# yscale=\"log\")"
   ],
   "id": "62a6144c73f7c46b",
   "outputs": [],
   "execution_count": null
  }
 ],
 "metadata": {
  "kernelspec": {
   "display_name": "Python 3",
   "language": "python",
   "name": "python3"
  },
  "language_info": {
   "codemirror_mode": {
    "name": "ipython",
    "version": 2
   },
   "file_extension": ".py",
   "mimetype": "text/x-python",
   "name": "python",
   "nbconvert_exporter": "python",
   "pygments_lexer": "ipython2",
   "version": "2.7.6"
  }
 },
 "nbformat": 4,
 "nbformat_minor": 5
}
