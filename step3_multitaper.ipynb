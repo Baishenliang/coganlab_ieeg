{
 "cells": [
  {
   "cell_type": "markdown",
   "id": "93d9af99cc9066ab",
   "metadata": {},
   "source": "## Read the script"
  },
  {
   "cell_type": "code",
   "id": "initial_id",
   "metadata": {
    "collapsed": true
   },
   "source": [
    "import os\n",
    "import numpy as np\n",
    "import mne\n",
    "from ieeg.io import get_data, raw_from_layout, update\n",
    "from ieeg.navigate import trial_ieeg, outliers_to_nan, channel_outlier_marker, crop_empty_data\n",
    "from ieeg.calc.scaling import rescale\n",
    "from ieeg.viz.ensemble import chan_grid\n",
    "from ieeg.timefreq.utils import crop_pad, wavelet_scaleogram\n",
    "from ieeg.viz.parula import parula_map\n",
    "save_dir='C:\\\\Users\\\\bl314\\\\Box\\\\CoganLab\\\\IndividualMeetings\\\\Baishen\\\\ieeg_results\\\\lexical_delay'"
   ],
   "outputs": [],
   "execution_count": null
  },
  {
   "cell_type": "code",
   "id": "ddab12751f7eacd0",
   "metadata": {},
   "source": [
    "HOME = os.path.expanduser(\"~\")\n",
    "LAB_root = os.path.join(HOME, \"Box\", \"CoganLab\")\n",
    "layout = get_data(\"LexicalDecRepDelay\", root=LAB_root)\n",
    "subjects = layout.get(return_type=\"id\", target=\"subject\")\n",
    "subject = 'D0077'\n",
    "\n",
    "if subject=='D0053':\n",
    "    subject_Tag = 'D53'\n",
    "elif subject=='D0054':\n",
    "    subject_Tag = 'D54'\n",
    "elif subject=='D0055':\n",
    "    subject_Tag = 'D55'\n",
    "elif subject=='D0057':\n",
    "    subject_Tag = 'D57'\n",
    "elif subject=='D0059':\n",
    "    subject_Tag = 'D59'\n",
    "elif subject=='D0063':\n",
    "    subject_Tag = 'D63'\n",
    "elif subject=='D0065':\n",
    "    subject_Tag = 'D65'\n",
    "elif subject=='D0066':\n",
    "    subject_Tag = 'D66'\n",
    "elif subject=='D0068':\n",
    "    subject_Tag = 'D68'\n",
    "elif subject=='D0069':\n",
    "    subject_Tag = 'D69'\n",
    "elif subject=='D0070':\n",
    "    subject_Tag = 'D70'\n",
    "elif subject=='D0071':\n",
    "    subject_Tag = 'D71'\n",
    "elif subject=='D0077':\n",
    "    subject_Tag = 'D77'\n",
    "elif subject=='D0081':\n",
    "    subject_Tag = 'D81'\n",
    "elif subject=='D0094':\n",
    "    subject_Tag = 'D94'\n",
    "elif subject=='D0096':\n",
    "    subject_Tag = 'D96'\n",
    "elif subject=='D0101':\n",
    "    subject_Tag = 'D101'\n",
    "elif subject=='D0102':\n",
    "    subject_Tag = 'D102'\n",
    "elif subject=='D0103':\n",
    "    subject_Tag = 'D103'\n",
    "elif subject=='D0107':\n",
    "    subject_Tag = 'D107B'\n",
    "else:\n",
    "    print(\"Subject not found, please check.\")"
   ],
   "outputs": [],
   "execution_count": null
  },
  {
   "cell_type": "markdown",
   "id": "f13a9a1c09fd5015",
   "metadata": {},
   "source": "## Plot subj"
  },
  {
   "cell_type": "code",
   "id": "2c1efaa3e16170ba",
   "metadata": {},
   "source": [
    "from ieeg.viz.mri import plot_subj\n",
    "\n",
    "# plot the subject brain\n",
    "fig1 = plot_subj(subject_Tag)\n",
    "#Label every electrode\n",
    "mne.viz.set_3d_view(fig1, azimuth=150, elevation=70, focalpoint=\"auto\",\n",
    "                    distance=\"auto\")"
   ],
   "outputs": [],
   "execution_count": null
  },
  {
   "cell_type": "markdown",
   "id": "cc5af04c9c2a086d",
   "metadata": {},
   "source": [
    "## Load subj\n",
    "### <span style=\"color:red\">Please make sure that the **event.tsv** files in the **clean** derivatives do not contain **\"BAD boundary\"** lines, or remove them if they have</span>"
   ]
  },
  {
   "cell_type": "code",
   "id": "cb83275425bcf97f",
   "metadata": {},
   "source": "raw = raw_from_layout(layout.derivatives['derivatives/a'], subject=subject, desc='a',extension='.edf',preload=True)",
   "outputs": [],
   "execution_count": null
  },
  {
   "metadata": {},
   "cell_type": "markdown",
   "source": [
    "### Remove muscle artifacts\n",
    "https://ieeg-pipelines.readthedocs.io/en/latest/auto_examples/plot_spectrograms.html\n",
    "### <span style=\"color:red\">Please do the muscle artifacts removal according to the wavelet plots and previous cases in sentence repetition</span>"
   ],
   "id": "c93113e47750a81"
  },
  {
   "metadata": {},
   "cell_type": "code",
   "source": [
    "if subject=='D0054':\n",
    "    eeg_channels_to_exclude=['ROF1', 'ROF2', 'ROF3', 'ROF4', 'ROF5', 'ROF6', 'ROF7', 'ROF8', 'ROF9', 'ROF10', 'ROF11', 'ROF12', 'ROF13', 'ROF14',\n",
    " 'RAMF6', 'RAMF7', 'RAMF8', 'RAMF9', 'RAMF10','RAMF11','RASF14', 'RASF15', 'RASF16','RMSF6', 'RMSF7', 'RMSF8', 'RMSF9', 'RMSF10', 'RMSF11','RPSF9', 'RPSF10', 'RPSF11', 'RPSF12', 'RPSF13', 'RPSF14','RAI5', 'RAI6', 'RAI7', 'RAI8', 'RAI9', 'RAI10', 'RAI11', 'RAI12','RPI1', 'RPI2', 'RPI3', 'RPI4', 'RPI5', 'RPI6', 'RPI7', 'RPI8', 'RPI9', 'RPI10', 'RPI11', 'RPI12', 'RPI13', 'RPI14', 'RPI15', 'RPI16','RAMT1', 'RAMT2', 'RAMT3', 'RAMT4', 'RAMT5', 'RAMT6', 'RAMT7', 'RAMT8','RMMT1', 'RMMT2', 'RMMT3', 'RMMT4', 'RMMT5', 'RMMT6', 'RMMT7', 'RMMT8', 'RMMT9', 'RMMT10', 'RMMT11', 'RMMT12','RPMT1', 'RPMT2', 'RPMT3', 'RPMT4', 'RPMT5', 'RPMT6', 'RPMT7', 'RPMT8', 'RPMT9', 'RPMT10','RPIT1', 'RPIT2', 'RPIT3', 'RPIT4', 'RPIT5', 'RPIT6', 'RPIT7', 'RPIT8', 'RPIT9', 'RPIT10', 'RPIT11', 'RPIT12']\n",
    "elif subject=='D0065':\n",
    "    eeg_channels_to_exclude=[]\n",
    "elif subject=='D0068':\n",
    "    eeg_channels_to_exclude=['LTAM1', 'LTAM2', 'LTAM3', 'LTMM1', 'LTMM2', 'LTMM3', 'LTMM4', 'LTMM5', 'LTPM1', 'LTPM2', 'LTPM3', 'LTPM4', 'LTAI1', 'LTAI2']\n",
    "elif subject=='D0071':\n",
    "    eeg_channels_to_exclude=['RFO14', 'RFO15', 'RFO16', 'RTAS7', 'RTAS8', 'RTAS9', 'RTAS10', 'RO16','RTAS11', 'RTAS12', 'RTMS7', 'RTMS8', 'RTMS9', 'RTMS10', 'RTMS11', 'RTMS12', 'RTPS9', 'RTPS10', 'RTAM13', 'RTAM14', 'RTAM15', 'RTAM16', 'RTMM15', 'RTMM16','RTPM15', 'RTPM16', 'RTPI15', 'RTPI16']\n",
    "elif subject=='D0077':\n",
    "     eeg_channels_to_exclude=['RTPM14', 'RTPM15', 'RTPI12', 'ROAI12', 'ROPI1', 'ROPI2', 'ROPI3', 'ROPI4', 'ROPI5', 'ROPI6', 'ROPI7', 'ROPI8', 'ROAM8', 'ROPM8', 'ROPM9', 'ROPM10', 'ROPM11', 'ROPM12']\n",
    "elif subject=='D0094':\n",
    "    eeg_channels_to_exclude=['LTP1', 'LTP2', 'LTP3', 'LTP4', 'LTP5', 'LTP6', 'LTP7', 'LTP8', 'LTP9', 'LTP10', 'LTP11', 'LTP12','LTAM5', 'LTAM6', 'LTAM7', 'LTAM8', 'LTAM9', 'LTAM10', 'LTAM11', 'LTAM12', 'LTAM13', 'LTAM14', 'LTAM15', 'LTAM16','LTAS4', 'LTAS5', 'LTAS6', 'LTAS7', 'LTAS8', 'LTAI1', 'LTAI2', 'LTAI3', 'LTAI4', 'LTAI5', 'LTAI6', 'LTAI7', 'LTAI8', 'LTAI9', 'LTAI10', 'LTAI11', 'LTAI12', 'LTMM1', 'LTMM2', 'LTMM3', 'LTMM4', 'LTMM5', 'LTMM6', 'LTMM7', 'LTMM8', 'LTMM9', 'LTMM10', 'LTMM11', 'LTMM12', 'LTMM13', 'LTMM14', 'LTPM1', 'LTPM2', 'LTPM3', 'LTPM4', 'LTPM5', 'LTPM6', 'LTPM7', 'LTPM8', 'LTPM9', 'LTPM10', 'LTPM11', 'LTPM12', 'LTPM13', 'LTPM14', 'LTPM15', 'LTPM16','LFO1', 'LFO2', 'LFO3', 'LFO4', 'LFO5', 'LFO6', 'LFO7', 'LFO8', 'LFO9', 'LFO10', 'LFO11', 'LFO12', 'LFO13', 'LFO14', 'LFO15', 'LFO16', 'LFAM12', 'LFAM13', 'LFAM14', 'LPAM14', 'LPMM16', 'LIA15', 'LIA16']\n",
    "elif subject=='D0096':\n",
    "    eeg_channels_to_exclude=['LTP1', 'LTP2', 'LTP3', 'LTP4', 'LTP5', 'LTP6', 'LTP7', 'LTP8', 'LTP9', 'LTP10','LTAS6', 'LTAS7', 'LTAS8',\n",
    " 'LTAM1', 'LTAM2', 'LTAM3', 'LTAM4', 'LTAM5', 'LTAM6', 'LTAM7', 'LTAM8', 'LTAM9', 'LTAM10', 'LTAM11', 'LTAM12', 'LTAM13', 'LTAM14',\n",
    " 'LTMM1', 'LTMM2', 'LTMM3', 'LTMM4', 'LTMM5', 'LTMM6', 'LTMM7', 'LTMM8', 'LTMM9', 'LTMM10', 'LTMM11', 'LTMM12', 'LTMM13', 'LTMM14', 'LTMM15',\n",
    " 'LFO1', 'LFO2', 'LFO3', 'LFO4', 'LFO5', 'LFO6', 'LFO7', 'LFO8', 'LFO9', 'LFO10', 'LFO11', 'LFO12', 'LFO13', 'LFO14', 'LFO15','LFMM16', 'LFMM17', 'LFMM18','LFAI10']\n",
    "elif subject=='D0103':\n",
    "    eeg_channels_to_exclude=['LTP1', 'LTP2', 'LTP3', 'LTP4', 'LTP5', 'LTP6', 'LTP7', 'LTP8', 'LTP9', 'LTP10', 'LTP11', 'LTP12','LTAM1', 'LTAM2', 'LTAM3', 'LTAM4', 'LTAM5', 'LTAM6', 'LTAM7', 'LTAM8', 'LTAM9', 'LTAM10', 'LTAM11', 'LTAM12', 'LTAM13', 'LTAM14', 'LTAM15','LTAS7', 'LTAS8',\n",
    " 'LTMM2', 'LTMM3', 'LTMM4', 'LTMM5', 'LTMM6', 'LTMM7', 'LTMM8', 'LTMM9', 'LTMM10', 'LTMM11', 'LTMM12', 'LTMM13', 'LTMM14', 'LTMM15','LTMI1', 'LTMI2', 'LTMI3', 'LTMI4', 'LTMI5', 'LTMI6', 'LTMI7', 'LTMI8', 'LTMI9', 'LTMI10', 'LTMI11', 'LTMI12', 'LTMI13', 'LTMI14','LTLI8', 'LTLI9', 'LTLI10', 'LTLI11', 'LTLI12', 'LTLI13', 'LTLI14','LFAM1', 'LFAM2', 'LFAM3', 'LFAM4', 'LFAM5', 'LFAM6', 'LFAM7', 'LFAM8', 'LFAM9', 'LFAM10', 'LFAM11', 'LFAM12', 'LFAM13', 'LFAM14', 'LFAM15','LFAI7', 'LFAI8', 'LFAI9']\n",
    "elif subject=='D0107':\n",
    "    eeg_channels_to_exclude=['RFOP8', 'RFOP9', 'RFOP10', 'RFOP11', 'RFOP12', 'RFOP13', 'RFOP14', 'RFOP15','A15', 'A16', 'A17', 'A18']\n",
    "else:\n",
    "    eeg_channels_to_exclude=[]\n",
    "\n",
    "Sentence_rep_subj = [\"D0059\", \"D0063\",  \"D0066\", \"D0069\", \"D0070\", \"D0081\", \"D0102\"] # Patients with bad channels already marked in the sentence rep tasks, I chose to take them directly\n",
    "\n",
    "if subject in Sentence_rep_subj:\n",
    "    print('Sentence rep subj')\n",
    "else:\n",
    "    raw.info.update(bads=[b for b in eeg_channels_to_exclude if b in raw.ch_names])\n",
    "    update(raw, layout, \"muscle\")"
   ],
   "id": "6cf2c2efd726740a",
   "outputs": [],
   "execution_count": null
  },
  {
   "metadata": {},
   "cell_type": "markdown",
   "source": "## Re-referenced to the average",
   "id": "62fafe73be4f48ac"
  },
  {
   "metadata": {},
   "cell_type": "code",
   "source": [
    "ch_type = raw.get_channel_types(only_data_chs=True)[0]\n",
    "raw.set_eeg_reference(ref_channels=\"average\", ch_type=ch_type)"
   ],
   "id": "5bdcee9902be5c1d",
   "outputs": [],
   "execution_count": null
  },
  {
   "metadata": {},
   "cell_type": "markdown",
   "source": "## Multitaper spectrogram",
   "id": "d2e47178f74faab8"
  },
  {
   "metadata": {},
   "cell_type": "code",
   "source": [
    "if not os.path.exists(os.path.join(save_dir, subject)):\n",
    "    os.mkdir(os.path.join(save_dir, subject)) \n",
    "if not os.path.exists(os.path.join(save_dir, subject,'multitaper')):\n",
    "    os.mkdir(os.path.join(save_dir, subject,'multitaper'))"
   ],
   "id": "86980e448c6aed08",
   "outputs": [],
   "execution_count": null
  },
  {
   "cell_type": "code",
   "id": "8b797b0045922aa6",
   "metadata": {},
   "source": [
    "# Wavelet is good to detect and remove muscle artifact channels\n",
    "# Also plot the subject brain\n",
    "for task, task_Tag in zip(('Repeat','Yes_No'),('Rep','YN')):\n",
    "    for epoch, t, tag in zip(\n",
    "        ('Auditory_stim/'+task+'/CORRECT','Delay/'+task+'/CORRECT','Go/'+task+'/CORRECT','Resp/'+task+'/CORRECT'),\n",
    "        ((-0.5, 1.5),(-0.5, 1.5),(-0.5, 1.5),(-0.5, 1)),\n",
    "        ('Auditory-'+task_Tag,'Delay-'+task_Tag,'Go-'+task_Tag,'Resp-'+task_Tag)\n",
    "    ):\n",
    "        \n",
    "        # Get the spectras\n",
    "        t1 = t[0] - 0.5\n",
    "        t2 = t[1] + 0.5\n",
    "        times = (t1, t2)\n",
    "        trials = trial_ieeg(raw, epoch, times, preload=True)\n",
    "        outliers_to_nan(trials, outliers=10)\n",
    "    \n",
    "        \n",
    "        ##############################\n",
    "        ####### Multitapper ##########\n",
    "        ##############################\n",
    "        \n",
    "        freq = np.linspace(0.5, 200, num=80)\n",
    "        kwargs = dict(average=False, n_jobs=-3, freqs=freq, return_itc=False,\n",
    "                      n_cycles=freq/2, time_bandwidth=4,\n",
    "                      # n_fft=int(trials.info['sfreq'] * 2.75),\n",
    "                      decim=20, )\n",
    "                      # adaptive=True)\n",
    "        spectra_multitaper = trials.compute_tfr(method=\"multitaper\",  **kwargs)\n",
    "        crop_pad(spectra_multitaper, \"0.5s\") # cut the first and final 0.5s, change to zero\n",
    "        \n",
    "                # Get the baseline\n",
    "        if epoch=='Auditory_stim/'+task+'/CORRECT':\n",
    "            base_multitaper = spectra_multitaper.copy().crop(-0.5, 0)\n",
    "            base_multitaper = base_multitaper.average(lambda x: np.nanmean(x, axis=0), copy=True)\n",
    " \n",
    "        # Baseline correction\n",
    "        spectra_multitaper = spectra_multitaper.average(lambda x: np.nanmean(x, axis=0), copy=True)   \n",
    "        spectra_multitaper = rescale(spectra_multitaper, base_multitaper, copy=True, mode='ratio')\n",
    "        \n",
    "        # Save spectras\n",
    "        filename = os.path.join(save_dir, subject,'multitaper',f'{tag}-tfr.h5')\n",
    "        mne.time_frequency.write_tfrs(filename, spectra_multitaper, overwrite=True)\n",
    "        \n",
    "        # Make spectrograms\n",
    "        chan_grids=chan_grid(spectra_multitaper, size = (20,10),vlim=(0.7, 1.4), cmap=parula_map)\n",
    "        \n",
    "        # Save spectrograms\n",
    "        fig_count=0\n",
    "        for fig in chan_grids:\n",
    "            figdir = os.path.join(save_dir, subject,'multitaper',f'{tag}_{fig_count+1}.jpg')\n",
    "            chan_grids[fig_count].savefig(figdir,dpi=300)   \n",
    "            fig_count+=1\n",
    "        \n",
    "        del trials,spectra_multitaper,filename\n",
    "    del base_multitaper"
   ],
   "outputs": [],
   "execution_count": null
  },
  {
   "metadata": {},
   "cell_type": "code",
   "source": "",
   "id": "c936801fd2a93d81",
   "outputs": [],
   "execution_count": null
  }
 ],
 "metadata": {
  "kernelspec": {
   "display_name": "ieeg",
   "language": "python",
   "name": "python3"
  },
  "language_info": {
   "codemirror_mode": {
    "name": "ipython",
    "version": 3
   },
   "file_extension": ".py",
   "mimetype": "text/x-python",
   "name": "python",
   "nbconvert_exporter": "python",
   "pygments_lexer": "ipython3",
   "version": "3.12.5"
  }
 },
 "nbformat": 4,
 "nbformat_minor": 5
}
