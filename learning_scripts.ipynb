{
 "cells": [
  {
   "cell_type": "code",
   "id": "initial_id",
   "metadata": {
    "collapsed": true,
    "ExecuteTime": {
     "end_time": "2024-09-19T13:27:11.399495Z",
     "start_time": "2024-09-19T13:27:09.401613Z"
    }
   },
   "source": [
    "import os\n",
    "from ieeg.io import get_data, raw_from_layout"
   ],
   "outputs": [],
   "execution_count": 1
  },
  {
   "metadata": {
    "ExecuteTime": {
     "end_time": "2024-09-19T13:27:12.602247Z",
     "start_time": "2024-09-19T13:27:11.413501Z"
    }
   },
   "cell_type": "code",
   "source": [
    "HOME = os.path.expanduser(\"~\")\n",
    "LAB_root = os.path.join(HOME, \"Box\", \"CoganLab\")\n",
    "layout = get_data(\"LexicalDecRepDelay\", root=LAB_root)\n",
    "subjects = layout.get(return_type=\"id\", target=\"subject\")"
   ],
   "id": "ddab12751f7eacd0",
   "outputs": [
    {
     "name": "stderr",
     "output_type": "stream",
     "text": [
      "C:\\Users\\bl314\\AppData\\Local\\miniconda3\\envs\\ieeg\\Lib\\site-packages\\bids\\layout\\layout.py:516: UserWarning: Derivative indexing was requested, but no valid datasets were found in the specified locations ([WindowsUPath('C:/Users/bl314/Box/CoganLab/BIDS-1.0_LexicalDecRepDelay/BIDS/derivatives')]). Note that all BIDS-Derivatives datasets must meet all the requirements for BIDS-Raw datasets (a common problem is to fail to include a 'dataset_description.json' file in derivatives datasets).\n",
      "Example contents of 'dataset_description.json':\n",
      "{\"Name\": \"Example dataset\", \"BIDSVersion\": \"1.0.2\", \"GeneratedBy\": [{\"Name\": \"Example pipeline\"}]}\n",
      "  warnings.warn(\"Derivative indexing was requested, but no valid \"\n"
     ]
    }
   ],
   "execution_count": 2
  },
  {
   "metadata": {
    "ExecuteTime": {
     "end_time": "2024-09-19T13:59:14.733085Z",
     "start_time": "2024-09-19T13:58:35.514627Z"
    }
   },
   "cell_type": "code",
   "source": [
    "for subject in subjects:\n",
    "    raw = raw_from_layout(layout, subject=subject, preload=True, extension='.edf')\n",
    "    # do stuff with each subject data\n",
    "\n",
    "print(subjects)"
   ],
   "id": "fc69d5d5cd851ebe",
   "outputs": [
    {
     "name": "stdout",
     "output_type": "stream",
     "text": [
      "Extracting EDF parameters from C:\\Users\\bl314\\Box\\CoganLab\\BIDS-1.0_LexicalDecRepDelay\\BIDS\\sub-D0103\\ieeg\\sub-D0103_task-LexicalDecRepDelay_acq-01_run-01_ieeg.edf...\n",
      "EDF file detected\n",
      "Setting channel info structure...\n",
      "Creating raw.info structure...\n",
      "Reading events from C:\\Users\\bl314\\Box\\CoganLab\\BIDS-1.0_LexicalDecRepDelay\\BIDS\\sub-D0103\\ieeg\\sub-D0103_task-LexicalDecRepDelay_acq-01_run-01_events.tsv.\n",
      "Reading channel info from C:\\Users\\bl314\\Box\\CoganLab\\BIDS-1.0_LexicalDecRepDelay\\BIDS\\sub-D0103\\ieeg\\sub-D0103_task-LexicalDecRepDelay_channels.tsv.\n",
      "Reading electrode coords from C:\\Users\\bl314\\Box\\CoganLab\\BIDS-1.0_LexicalDecRepDelay\\BIDS\\sub-D0103\\ieeg\\sub-D0103_space-ACPC_electrodes.tsv.\n",
      "Extracting EDF parameters from C:\\Users\\bl314\\Box\\CoganLab\\BIDS-1.0_LexicalDecRepDelay\\BIDS\\sub-D0103\\ieeg\\sub-D0103_task-LexicalDecRepDelay_acq-01_run-02_ieeg.edf...\n",
      "EDF file detected\n",
      "Setting channel info structure...\n",
      "Creating raw.info structure...\n"
     ]
    },
    {
     "name": "stderr",
     "output_type": "stream",
     "text": [
      "C:\\Users\\bl314\\AppData\\Local\\miniconda3\\envs\\ieeg\\Lib\\site-packages\\ieeg\\io.py:113: RuntimeWarning: The number of channels in the channels.tsv sidecar file (249) does not match the number of channels in the raw data file (248). Will not try to set channel names.\n",
      "  new_raw = read_raw_bids(bids_path=BIDS_path, verbose=verbose)\n",
      "C:\\Users\\bl314\\AppData\\Local\\miniconda3\\envs\\ieeg\\Lib\\site-packages\\ieeg\\io.py:113: RuntimeWarning: Cannot set channel type for the following channels, as they are missing in the raw data: \n",
      "  new_raw = read_raw_bids(bids_path=BIDS_path, verbose=verbose)\n",
      "C:\\Users\\bl314\\AppData\\Local\\miniconda3\\envs\\ieeg\\Lib\\site-packages\\ieeg\\io.py:113: RuntimeWarning: DigMontage is only a subset of info. There are 19 channel positions not present in the DigMontage. The channels missing from the montage are:\n",
      "\n",
      "['FZ', 'CZ', 'PZ', 'F7', 'F8', 'T5', 'T6', 'FP1', 'FP2', 'F3', 'F4', 'C3', 'C4', 'P3', 'P4', 'O1', 'O2', 'T3', 'T4'].\n",
      "\n",
      "Consider using inst.rename_channels to match the montage nomenclature, or inst.set_channel_types if these are not EEG channels, or use the on_missing parameter if the channel positions are allowed to be unknown in your analyses.\n",
      "  new_raw = read_raw_bids(bids_path=BIDS_path, verbose=verbose)\n",
      "C:\\Users\\bl314\\AppData\\Local\\miniconda3\\envs\\ieeg\\Lib\\site-packages\\ieeg\\io.py:113: RuntimeWarning: participants.tsv file not found for C:\\Users\\bl314\\Box\\CoganLab\\BIDS-1.0_LexicalDecRepDelay\\BIDS\\sub-D0103\\ieeg\\sub-D0103_task-LexicalDecRepDelay_acq-01_run-01_ieeg.edf\n",
      "  new_raw = read_raw_bids(bids_path=BIDS_path, verbose=verbose)\n"
     ]
    },
    {
     "name": "stdout",
     "output_type": "stream",
     "text": [
      "Reading events from C:\\Users\\bl314\\Box\\CoganLab\\BIDS-1.0_LexicalDecRepDelay\\BIDS\\sub-D0103\\ieeg\\sub-D0103_task-LexicalDecRepDelay_acq-01_run-02_events.tsv.\n",
      "Reading channel info from C:\\Users\\bl314\\Box\\CoganLab\\BIDS-1.0_LexicalDecRepDelay\\BIDS\\sub-D0103\\ieeg\\sub-D0103_task-LexicalDecRepDelay_channels.tsv.\n",
      "Reading electrode coords from C:\\Users\\bl314\\Box\\CoganLab\\BIDS-1.0_LexicalDecRepDelay\\BIDS\\sub-D0103\\ieeg\\sub-D0103_space-ACPC_electrodes.tsv.\n",
      "Extracting EDF parameters from C:\\Users\\bl314\\Box\\CoganLab\\BIDS-1.0_LexicalDecRepDelay\\BIDS\\sub-D0103\\ieeg\\sub-D0103_task-LexicalDecRepDelay_acq-01_run-03_ieeg.edf...\n",
      "EDF file detected\n",
      "Setting channel info structure...\n",
      "Creating raw.info structure...\n"
     ]
    },
    {
     "name": "stderr",
     "output_type": "stream",
     "text": [
      "C:\\Users\\bl314\\AppData\\Local\\miniconda3\\envs\\ieeg\\Lib\\site-packages\\ieeg\\io.py:113: RuntimeWarning: The number of channels in the channels.tsv sidecar file (249) does not match the number of channels in the raw data file (248). Will not try to set channel names.\n",
      "  new_raw = read_raw_bids(bids_path=BIDS_path, verbose=verbose)\n",
      "C:\\Users\\bl314\\AppData\\Local\\miniconda3\\envs\\ieeg\\Lib\\site-packages\\ieeg\\io.py:113: RuntimeWarning: Cannot set channel type for the following channels, as they are missing in the raw data: \n",
      "  new_raw = read_raw_bids(bids_path=BIDS_path, verbose=verbose)\n",
      "C:\\Users\\bl314\\AppData\\Local\\miniconda3\\envs\\ieeg\\Lib\\site-packages\\ieeg\\io.py:113: RuntimeWarning: DigMontage is only a subset of info. There are 19 channel positions not present in the DigMontage. The channels missing from the montage are:\n",
      "\n",
      "['FZ', 'CZ', 'PZ', 'F7', 'F8', 'T5', 'T6', 'FP1', 'FP2', 'F3', 'F4', 'C3', 'C4', 'P3', 'P4', 'O1', 'O2', 'T3', 'T4'].\n",
      "\n",
      "Consider using inst.rename_channels to match the montage nomenclature, or inst.set_channel_types if these are not EEG channels, or use the on_missing parameter if the channel positions are allowed to be unknown in your analyses.\n",
      "  new_raw = read_raw_bids(bids_path=BIDS_path, verbose=verbose)\n",
      "C:\\Users\\bl314\\AppData\\Local\\miniconda3\\envs\\ieeg\\Lib\\site-packages\\ieeg\\io.py:113: RuntimeWarning: participants.tsv file not found for C:\\Users\\bl314\\Box\\CoganLab\\BIDS-1.0_LexicalDecRepDelay\\BIDS\\sub-D0103\\ieeg\\sub-D0103_task-LexicalDecRepDelay_acq-01_run-02_ieeg.edf\n",
      "  new_raw = read_raw_bids(bids_path=BIDS_path, verbose=verbose)\n"
     ]
    },
    {
     "name": "stdout",
     "output_type": "stream",
     "text": [
      "Reading events from C:\\Users\\bl314\\Box\\CoganLab\\BIDS-1.0_LexicalDecRepDelay\\BIDS\\sub-D0103\\ieeg\\sub-D0103_task-LexicalDecRepDelay_acq-01_run-03_events.tsv.\n",
      "Reading channel info from C:\\Users\\bl314\\Box\\CoganLab\\BIDS-1.0_LexicalDecRepDelay\\BIDS\\sub-D0103\\ieeg\\sub-D0103_task-LexicalDecRepDelay_channels.tsv.\n",
      "Reading electrode coords from C:\\Users\\bl314\\Box\\CoganLab\\BIDS-1.0_LexicalDecRepDelay\\BIDS\\sub-D0103\\ieeg\\sub-D0103_space-ACPC_electrodes.tsv.\n",
      "Extracting EDF parameters from C:\\Users\\bl314\\Box\\CoganLab\\BIDS-1.0_LexicalDecRepDelay\\BIDS\\sub-D0103\\ieeg\\sub-D0103_task-LexicalDecRepDelay_acq-01_run-04_ieeg.edf...\n",
      "EDF file detected\n",
      "Setting channel info structure...\n",
      "Creating raw.info structure...\n"
     ]
    },
    {
     "name": "stderr",
     "output_type": "stream",
     "text": [
      "C:\\Users\\bl314\\AppData\\Local\\miniconda3\\envs\\ieeg\\Lib\\site-packages\\ieeg\\io.py:113: RuntimeWarning: The number of channels in the channels.tsv sidecar file (249) does not match the number of channels in the raw data file (248). Will not try to set channel names.\n",
      "  new_raw = read_raw_bids(bids_path=BIDS_path, verbose=verbose)\n",
      "C:\\Users\\bl314\\AppData\\Local\\miniconda3\\envs\\ieeg\\Lib\\site-packages\\ieeg\\io.py:113: RuntimeWarning: Cannot set channel type for the following channels, as they are missing in the raw data: \n",
      "  new_raw = read_raw_bids(bids_path=BIDS_path, verbose=verbose)\n",
      "C:\\Users\\bl314\\AppData\\Local\\miniconda3\\envs\\ieeg\\Lib\\site-packages\\ieeg\\io.py:113: RuntimeWarning: DigMontage is only a subset of info. There are 19 channel positions not present in the DigMontage. The channels missing from the montage are:\n",
      "\n",
      "['FZ', 'CZ', 'PZ', 'F7', 'F8', 'T5', 'T6', 'FP1', 'FP2', 'F3', 'F4', 'C3', 'C4', 'P3', 'P4', 'O1', 'O2', 'T3', 'T4'].\n",
      "\n",
      "Consider using inst.rename_channels to match the montage nomenclature, or inst.set_channel_types if these are not EEG channels, or use the on_missing parameter if the channel positions are allowed to be unknown in your analyses.\n",
      "  new_raw = read_raw_bids(bids_path=BIDS_path, verbose=verbose)\n",
      "C:\\Users\\bl314\\AppData\\Local\\miniconda3\\envs\\ieeg\\Lib\\site-packages\\ieeg\\io.py:113: RuntimeWarning: participants.tsv file not found for C:\\Users\\bl314\\Box\\CoganLab\\BIDS-1.0_LexicalDecRepDelay\\BIDS\\sub-D0103\\ieeg\\sub-D0103_task-LexicalDecRepDelay_acq-01_run-03_ieeg.edf\n",
      "  new_raw = read_raw_bids(bids_path=BIDS_path, verbose=verbose)\n"
     ]
    },
    {
     "name": "stdout",
     "output_type": "stream",
     "text": [
      "Reading events from C:\\Users\\bl314\\Box\\CoganLab\\BIDS-1.0_LexicalDecRepDelay\\BIDS\\sub-D0103\\ieeg\\sub-D0103_task-LexicalDecRepDelay_acq-01_run-04_events.tsv.\n",
      "Reading channel info from C:\\Users\\bl314\\Box\\CoganLab\\BIDS-1.0_LexicalDecRepDelay\\BIDS\\sub-D0103\\ieeg\\sub-D0103_task-LexicalDecRepDelay_channels.tsv.\n",
      "Reading electrode coords from C:\\Users\\bl314\\Box\\CoganLab\\BIDS-1.0_LexicalDecRepDelay\\BIDS\\sub-D0103\\ieeg\\sub-D0103_space-ACPC_electrodes.tsv.\n",
      "Reading 0 ... 14804991  =      0.000 ...  7229.000 secs...\n"
     ]
    },
    {
     "name": "stderr",
     "output_type": "stream",
     "text": [
      "C:\\Users\\bl314\\AppData\\Local\\miniconda3\\envs\\ieeg\\Lib\\site-packages\\ieeg\\io.py:113: RuntimeWarning: The number of channels in the channels.tsv sidecar file (249) does not match the number of channels in the raw data file (248). Will not try to set channel names.\n",
      "  new_raw = read_raw_bids(bids_path=BIDS_path, verbose=verbose)\n",
      "C:\\Users\\bl314\\AppData\\Local\\miniconda3\\envs\\ieeg\\Lib\\site-packages\\ieeg\\io.py:113: RuntimeWarning: Cannot set channel type for the following channels, as they are missing in the raw data: \n",
      "  new_raw = read_raw_bids(bids_path=BIDS_path, verbose=verbose)\n",
      "C:\\Users\\bl314\\AppData\\Local\\miniconda3\\envs\\ieeg\\Lib\\site-packages\\ieeg\\io.py:113: RuntimeWarning: DigMontage is only a subset of info. There are 19 channel positions not present in the DigMontage. The channels missing from the montage are:\n",
      "\n",
      "['FZ', 'CZ', 'PZ', 'F7', 'F8', 'T5', 'T6', 'FP1', 'FP2', 'F3', 'F4', 'C3', 'C4', 'P3', 'P4', 'O1', 'O2', 'T3', 'T4'].\n",
      "\n",
      "Consider using inst.rename_channels to match the montage nomenclature, or inst.set_channel_types if these are not EEG channels, or use the on_missing parameter if the channel positions are allowed to be unknown in your analyses.\n",
      "  new_raw = read_raw_bids(bids_path=BIDS_path, verbose=verbose)\n",
      "C:\\Users\\bl314\\AppData\\Local\\miniconda3\\envs\\ieeg\\Lib\\site-packages\\ieeg\\io.py:113: RuntimeWarning: participants.tsv file not found for C:\\Users\\bl314\\Box\\CoganLab\\BIDS-1.0_LexicalDecRepDelay\\BIDS\\sub-D0103\\ieeg\\sub-D0103_task-LexicalDecRepDelay_acq-01_run-04_ieeg.edf\n",
      "  new_raw = read_raw_bids(bids_path=BIDS_path, verbose=verbose)\n"
     ]
    },
    {
     "name": "stdout",
     "output_type": "stream",
     "text": [
      "['D0103']\n"
     ]
    }
   ],
   "execution_count": 4
  },
  {
   "metadata": {
    "ExecuteTime": {
     "end_time": "2024-09-19T13:59:25.007409Z",
     "start_time": "2024-09-19T13:59:21.580573Z"
    }
   },
   "cell_type": "code",
   "source": "raw.plot()",
   "id": "390e29b6276ddc12",
   "outputs": [
    {
     "name": "stdout",
     "output_type": "stream",
     "text": [
      "Using qt as 2D backend.\n"
     ]
    },
    {
     "data": {
      "text/plain": [
       "<mne_qt_browser._pg_figure.MNEQtBrowser at 0x29059a0d400>"
      ]
     },
     "execution_count": 5,
     "metadata": {},
     "output_type": "execute_result"
    }
   ],
   "execution_count": 5
  }
 ],
 "metadata": {
  "kernelspec": {
   "display_name": "Python 3",
   "language": "python",
   "name": "python3"
  },
  "language_info": {
   "codemirror_mode": {
    "name": "ipython",
    "version": 2
   },
   "file_extension": ".py",
   "mimetype": "text/x-python",
   "name": "python",
   "nbconvert_exporter": "python",
   "pygments_lexer": "ipython2",
   "version": "2.7.6"
  }
 },
 "nbformat": 4,
 "nbformat_minor": 5
}
